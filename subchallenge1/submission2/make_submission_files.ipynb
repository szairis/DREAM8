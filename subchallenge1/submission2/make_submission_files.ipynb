{
 "metadata": {
  "name": "make_submission_files"
 },
 "nbformat": 3,
 "nbformat_minor": 0,
 "worksheets": [
  {
   "cells": [
    {
     "cell_type": "code",
     "collapsed": false,
     "input": [
      "import numpy as np\n",
      "import pandas as pd\n",
      "\n",
      "data = pd.read_csv('best_experimental.csv', sep=',', index_col=0, header=0)\n",
      "data = data.astype('int')\n",
      "\n",
      "cell_lines = ['BT20','BT549','MCF7','UACC812']\n",
      "stimuli = ['EGF','HGF','FGF1','IGF1','Insulin','NRG1','PBS','Serum']\n",
      "absent = {\n",
      "        'BT20':[], \n",
      "        'BT549':['c-JUN_pS73','EGFR_pY992'], \n",
      "        'MCF7': ['4EBP1_pT37_pT46', 'HER3_pY1298', 'NDRG1_pT346', 'PEA15_pS116', 'PKC-delta_pS664', 'PKC-pan-betaII_pS660', 'Rictor_pT1135'],\n",
      "        'UACC812': ['c-JUN_pS73', 'EGFR_pY992']\n",
      "        }\n",
      "\n",
      "for line in cell_lines:\n",
      "    prots = list(set(data.index) - set(absent[line]))\n",
      "    for stim in stimuli:\n",
      "        fname_sif = 'sakev-Network/sakev-{0}-{1}-Network.sif'.format(line, stim)\n",
      "        fname_eda = 'sakev-Network/sakev-{0}-{1}-Network.eda'.format(line, stim)\n",
      "        f_sif = open(fname_sif, 'w')\n",
      "        f_eda = open(fname_eda, 'w')\n",
      "        f_eda.write('EdgeScore\\n')\n",
      "        \n",
      "        for parent in prots:\n",
      "            if data.ix[parent,:].sum() == 0 and data.ix[:,parent].sum() == 0:\n",
      "                f_sif.write(parent + '\\n')\n",
      "                f_eda.write(parent + '\\n')\n",
      "                continue\n",
      "            for child in prots:\n",
      "                if data.ix[parent,child] > 0:\n",
      "                    f_sif.write(parent + ' 1 ' + child + '\\n')\n",
      "                    f_eda.write(parent + ' (1) ' + child + ' = 1\\n')\n",
      "                    "
     ],
     "language": "python",
     "metadata": {},
     "outputs": [],
     "prompt_number": 10
    },
    {
     "cell_type": "code",
     "collapsed": false,
     "input": [
      "import numpy as np\n",
      "import pandas as pd\n",
      "\n",
      "data = pd.read_csv('best_insilico.csv', sep=',', index_col=0, header=0)\n",
      "data = data.astype('int')\n",
      "\n",
      "prots = list(data.index)\n",
      "fname_sif = 'sakev-Network-Insilico/sakev-Network-Insilico.sif'\n",
      "fname_eda = 'sakev-Network-Insilico/sakev-Network-Insilico.eda'\n",
      "f_sif = open(fname_sif, 'w')\n",
      "f_eda = open(fname_eda, 'w')\n",
      "f_eda.write('EdgeScore\\n')\n",
      "        \n",
      "for parent in prots:\n",
      "    if data.ix[parent,:].sum() == 0 and data.ix[:,parent].sum() == 0:\n",
      "        f_sif.write(parent + '\\n')\n",
      "        f_eda.write(parent + '\\n')\n",
      "        continue\n",
      "    for child in prots:\n",
      "        if data.ix[parent,child] > 0:\n",
      "            f_sif.write(parent + ' 1 ' + child + '\\n')\n",
      "            f_eda.write(parent + ' (1) ' + child + ' = 1\\n')"
     ],
     "language": "python",
     "metadata": {},
     "outputs": [],
     "prompt_number": 14
    },
    {
     "cell_type": "code",
     "collapsed": false,
     "input": [],
     "language": "python",
     "metadata": {},
     "outputs": []
    }
   ],
   "metadata": {}
  }
 ]
}