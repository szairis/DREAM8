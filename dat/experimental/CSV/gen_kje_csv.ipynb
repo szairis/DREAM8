{
 "metadata": {
  "name": ""
 },
 "nbformat": 3,
 "nbformat_minor": 0,
 "worksheets": [
  {
   "cells": [
    {
     "cell_type": "raw",
     "metadata": {},
     "source": [
      "This script takes csv files (already slightly modified from the raw synapse files), and generates appropriate rows for the 0-timepoint measurements of each stimulus. The timepoint column should have already been converted from str to int (i.e. '2hr' to '120'), and the extraneous headers removed."
     ]
    },
    {
     "cell_type": "code",
     "collapsed": false,
     "input": [
      "import pandas as pd\n",
      "cl = 'BT20'\n",
      "df = pd.read_csv('./{0}_main.kje.csv'.format(cl))\n",
      "df2 = pd.DataFrame()\n",
      "for inhib in set(df['Inhibitor']):\n",
      "    tmp = df[(df['Timepoint']==0) & (df['Inhibitor']==inhib)]\n",
      "    print inhib, len(df[(df['Timepoint']==0) & (df['Inhibitor']==inhib)])\n",
      "    for stim in set(df[df['Inhibitor']==inhib]['Stimulus']):\n",
      "        if pd.isnull(stim):\n",
      "            continue\n",
      "        else:\n",
      "            tmp2 = tmp\n",
      "            tmp2['Stimulus']=stim\n",
      "            df2 = pd.concat([df2, tmp2])\n",
      "\n",
      "df3 = pd.concat([df, df2],names=df.columns)\n",
      "df3 = df3.reindex_axis(df.columns, axis=1)\n",
      "df3[pd.notnull(df3['Stimulus'])].to_csv('./{0}_main.kje2.csv'.format(cl), index=False)"
     ],
     "language": "python",
     "metadata": {},
     "outputs": [
      {
       "output_type": "stream",
       "stream": "stdout",
       "text": [
        "PD173074 15\n",
        "GSK690693 16\n",
        "GSK690693_GSK1120212"
       ]
      },
      {
       "output_type": "stream",
       "stream": "stdout",
       "text": [
        " 12\n",
        "DMSO 16\n"
       ]
      }
     ],
     "prompt_number": 58
    }
   ],
   "metadata": {}
  }
 ]
}