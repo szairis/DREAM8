{
 "metadata": {
  "name": ""
 },
 "nbformat": 3,
 "nbformat_minor": 0,
 "worksheets": [
  {
   "cells": [
    {
     "cell_type": "code",
     "collapsed": false,
     "input": [
      "import pandas as pd\n",
      "import numpy as np\n",
      "import os\n",
      "import math\n",
      "from scipy.misc import comb\n",
      "from sklearn.ensemble import GradientBoostingRegressor\n",
      "from sklearn import linear_model\n",
      "from sklearn import metrics\n",
      "from sklearn import cross_validation\n",
      "from sklearn import preprocessing"
     ],
     "language": "python",
     "metadata": {},
     "outputs": [],
     "prompt_number": 1
    },
    {
     "cell_type": "raw",
     "metadata": {},
     "source": [
      "##### IN SILICO\n",
      "#####\n",
      "##### STEP 1 : WRANGLE DATA\n",
      "#####\n",
      "##### STEP 2 : FIT GRADIENT BOOSTING MACHINES\n",
      "#####\n",
      "##### STEP 3 : STEP THROUGH PREDICTIONS\n",
      "#####\n",
      "##### STEP 4 : WRITE MIDAS"
     ]
    },
    {
     "cell_type": "code",
     "collapsed": false,
     "input": [
      "# load data\n",
      "project_path = '../'\n",
      "data_path = os.path.join(project_path, 'dat')\n",
      "\n",
      "insilico_data = pd.read_csv(os.path.join(data_path, 'insilico', 'CSV', 'insilico2.csv'), header=0)\n",
      "inhibs = set(insilico_data['Inhibitor'])\n",
      "stims = set(insilico_data['Stimulus'])\n",
      "\n",
      "node_list = ['AB{0:02d}'.format(i) for i in range(1, 21)]\n",
      "inhib_targets = {'INH1' : 'AB12', 'INH2' : 'AB05', 'INH3' : 'AB08'}\n",
      "INH_targets = ['_'.join(['INH', node]) for node in node_list]"
     ],
     "language": "python",
     "metadata": {},
     "outputs": [],
     "prompt_number": 2
    },
    {
     "cell_type": "code",
     "collapsed": false,
     "input": [
      "### STEP 1: WRANGLE DATA\n",
      "\n",
      "B_df = {}\n",
      "B_scaled = {}\n",
      "B_scaled_df = {}\n",
      "mean_vec = {}\n",
      "std_vec = {}\n",
      "\n",
      "# prepare design matrix\n",
      "for stim in stims:\n",
      "    B_df[stim] = insilico_data[(insilico_data['Timepoint']<120) & (insilico_data['Stimulus']==stim)].groupby(['Inhibitor','Stimulus', 'Timepoint']).mean()\n",
      "    \n",
      "    # scale data\n",
      "    #B_scaled[stim] = preprocessing.scale(B_df[stim])\n",
      "    \n",
      "    # scale data by hand\n",
      "    B_scaled[stim] = preprocessing.scale()\n",
      "    \n",
      "    mean_vec[stim] = np.nan_to_num(B_df[stim].as_matrix()).mean(axis=0)\n",
      "    std_vec[stim] = np.nan_to_num(B_df[stim].as_matrix()).std(axis=0)\n",
      "    B_scaled[stim] = ((np.nan_to_num(B_df[stim].as_matrix()) - mean_vec[stim]) / std_vec[stim])\n",
      "    \n",
      "    # scaled df\n",
      "    B_scaled_df[stim] = pd.DataFrame(B_scaled[stim],\n",
      "                                  index=B_df[stim].index,\n",
      "                                  columns=B_df[stim].columns)\n",
      "\n",
      "    # add extra columns representing fixed effects into training data\n",
      "    for inh, fe in [('INH1', 'FE_INH1'), ('INH2','FE_INH2'), ('INH3','FE_INH3')]:\n",
      "        B_scaled_df[stim][fe] = 0\n",
      "        try:\n",
      "            B_scaled_df[stim].ix[inh, fe] = 1\n",
      "        except:\n",
      "            continue\n",
      "\n",
      "    # zero out the appropriate covariates corresponding to training data\n",
      "    for inhib in inhibs:\n",
      "        try:\n",
      "            B_scaled_df[stim].ix[inhib, inhib_targets[inhib]] = 0\n",
      "        except:\n",
      "            continue"
     ],
     "language": "python",
     "metadata": {},
     "outputs": [],
     "prompt_number": 4
    },
    {
     "cell_type": "code",
     "collapsed": false,
     "input": [
      "### STEP 2: FIT GRADIENT BOOSTING MACHINE\n",
      "\n",
      "regGBR = {}\n",
      "\n",
      "n_estimators = 100\n",
      "max_depth = 3\n",
      "learning_rate = 0.1\n",
      "\n",
      "for target in node_list:\n",
      "    print target\n",
      "    regGBR[target] = {}\n",
      "    for stim in stims:\n",
      "        # get target values\n",
      "        y = insilico_data[(insilico_data['Timepoint']>0) & (insilico_data['Stimulus']==stim)].groupby(['Inhibitor','Stimulus','Timepoint']).mean()[target].values\n",
      "        \n",
      "        regGBR[target][stim] = GradientBoostingRegressor(n_estimators=n_estimators,\n",
      "                                                   learning_rate=learning_rate,\n",
      "                                                   max_depth=max_depth,\n",
      "                                                   loss='ls')\n",
      "        regGBR[target][stim].fit(B_scaled_df[stim], y)"
     ],
     "language": "python",
     "metadata": {},
     "outputs": [
      {
       "output_type": "stream",
       "stream": "stdout",
       "text": [
        "AB01\n",
        "AB02"
       ]
      },
      {
       "output_type": "stream",
       "stream": "stdout",
       "text": [
        "\n",
        "AB03"
       ]
      },
      {
       "output_type": "stream",
       "stream": "stdout",
       "text": [
        "\n",
        "AB04"
       ]
      },
      {
       "output_type": "stream",
       "stream": "stdout",
       "text": [
        "\n",
        "AB05"
       ]
      },
      {
       "output_type": "stream",
       "stream": "stdout",
       "text": [
        "\n",
        "AB06"
       ]
      },
      {
       "output_type": "stream",
       "stream": "stdout",
       "text": [
        "\n",
        "AB07"
       ]
      },
      {
       "output_type": "stream",
       "stream": "stdout",
       "text": [
        "\n",
        "AB08"
       ]
      },
      {
       "output_type": "stream",
       "stream": "stdout",
       "text": [
        "\n",
        "AB09"
       ]
      },
      {
       "output_type": "stream",
       "stream": "stdout",
       "text": [
        "\n",
        "AB10"
       ]
      },
      {
       "output_type": "stream",
       "stream": "stdout",
       "text": [
        "\n",
        "AB11"
       ]
      },
      {
       "output_type": "stream",
       "stream": "stdout",
       "text": [
        "\n",
        "AB12"
       ]
      },
      {
       "output_type": "stream",
       "stream": "stdout",
       "text": [
        "\n",
        "AB13"
       ]
      },
      {
       "output_type": "stream",
       "stream": "stdout",
       "text": [
        "\n",
        "AB14"
       ]
      },
      {
       "output_type": "stream",
       "stream": "stdout",
       "text": [
        "\n",
        "AB15"
       ]
      },
      {
       "output_type": "stream",
       "stream": "stdout",
       "text": [
        "\n",
        "AB16"
       ]
      },
      {
       "output_type": "stream",
       "stream": "stdout",
       "text": [
        "\n",
        "AB17"
       ]
      },
      {
       "output_type": "stream",
       "stream": "stdout",
       "text": [
        "\n",
        "AB18"
       ]
      },
      {
       "output_type": "stream",
       "stream": "stdout",
       "text": [
        "\n",
        "AB19"
       ]
      },
      {
       "output_type": "stream",
       "stream": "stdout",
       "text": [
        "\n",
        "AB20"
       ]
      },
      {
       "output_type": "stream",
       "stream": "stdout",
       "text": [
        "\n"
       ]
      }
     ],
     "prompt_number": 5
    },
    {
     "cell_type": "code",
     "collapsed": false,
     "input": [
      "### STEP 3: STEP THROUGH PREDICTIONS FOR EACH CONTEXT\n",
      "\n",
      "# build object to hold predictions\n",
      "stim_col_mapping = {'hiLIG1+hiLIG2' : 'hiLIG1_hiLIG2',\n",
      "                    'noLIG1+loLIG2' : 'loLIG2',\n",
      "                    'noLIG1+hiLIG2' : 'hiLIG2',\n",
      "                    'loLIG1+noLIG2' : 'loLIG1',\n",
      "                    'loLIG1+loLIG2' : 'loLIG1_loLIG2',\n",
      "                    'hiLIG1+loLIG2' : 'hiLIG1_loLIG2',\n",
      "                    'hiLIG1+noLIG2' : 'hiLIG1',\n",
      "                    'loLIG1+hiLIG2' : 'loLIG1_hiLIG2'}\n",
      "\n",
      "contexts = ['hiLIG1+hiLIG2', 'noLIG1+loLIG2', 'noLIG1+hiLIG2',\n",
      "            'loLIG1+noLIG2', 'loLIG1+loLIG2', 'hiLIG1+loLIG2',\n",
      "            'hiLIG1+noLIG2', 'loLIG1+hiLIG2']\n",
      "\n",
      "times = [0, 1, 2, 4, 6, 10, 15, 30, 60, 120]\n",
      "pred_dict = {}\n",
      "\n",
      "for test_inhib in node_list:\n",
      "    print test_inhib\n",
      "    pred_dict[test_inhib] = {}\n",
      "    for stim in stims:\n",
      "        mapped_stim = stim_col_mapping[stim]\n",
      "        print stim\n",
      "        # set up new df to use, and fill t=0 values\n",
      "        pred_df = pd.DataFrame(np.zeros((len(times), len(node_list))), index=times, columns=node_list)\n",
      "        pred_df.ix[0, :] = insilico_data.groupby(['Inhibitor', 'Stimulus', 'Timepoint']).mean().ix['None', stim, 0]\n",
      "        pred_df.ix[0, test_inhib] = 0\n",
      "        \n",
      "        # loop over times\n",
      "        for tidx in range(1,len(times)):\n",
      "            time = times[tidx]\n",
      "            \n",
      "            # get covariates for this time step and scale\n",
      "            # covariates_df = scaler.transform(pred_df.ix[times[tidx-1], :])\n",
      "            covariates_df = ((pred_df.ix[times[tidx-1], :]) - mean_vec[stim]) / std_vec[stim]\n",
      "\n",
      "            # zero out covariate we are inhibiting\n",
      "            covariates_df.ix[test_inhib] = 0\n",
      "            \n",
      "            covariates = np.zeros((23, ))\n",
      "            covariates[:20] = covariates_df.values\n",
      "            \n",
      "            # add on the three fixed effect inhibitors we had from the fit step\n",
      "            \n",
      "            # loop over proteins to get values for current time step\n",
      "            for p in node_list:\n",
      "                pred_df.ix[time, p] = regGBR[p][stim].predict(covariates)\n",
      "            \n",
      "            # zero out covariate we are inhibiting, again\n",
      "            pred_df.ix[time, test_inhib] = 0\n",
      "    \n",
      "        pred_dict[test_inhib][mapped_stim] = pred_df"
     ],
     "language": "python",
     "metadata": {},
     "outputs": [
      {
       "output_type": "stream",
       "stream": "stdout",
       "text": [
        "AB01\n",
        "hiLIG1+hiLIG2\n",
        "noLIG1+loLIG2"
       ]
      },
      {
       "output_type": "stream",
       "stream": "stdout",
       "text": [
        "\n",
        "noLIG1+hiLIG2"
       ]
      },
      {
       "output_type": "stream",
       "stream": "stdout",
       "text": [
        "\n",
        "loLIG1+noLIG2"
       ]
      },
      {
       "output_type": "stream",
       "stream": "stdout",
       "text": [
        "\n",
        "loLIG1+loLIG2"
       ]
      },
      {
       "output_type": "stream",
       "stream": "stdout",
       "text": [
        "\n",
        "hiLIG1+loLIG2"
       ]
      },
      {
       "output_type": "stream",
       "stream": "stdout",
       "text": [
        "\n",
        "hiLIG1+noLIG2"
       ]
      },
      {
       "output_type": "stream",
       "stream": "stdout",
       "text": [
        "\n",
        "loLIG1+hiLIG2"
       ]
      },
      {
       "output_type": "stream",
       "stream": "stdout",
       "text": [
        "\n",
        "AB02"
       ]
      },
      {
       "output_type": "stream",
       "stream": "stdout",
       "text": [
        "\n",
        "hiLIG1+hiLIG2\n",
        "noLIG1+loLIG2"
       ]
      },
      {
       "output_type": "stream",
       "stream": "stdout",
       "text": [
        "\n",
        "noLIG1+hiLIG2"
       ]
      },
      {
       "output_type": "stream",
       "stream": "stdout",
       "text": [
        "\n",
        "loLIG1+noLIG2"
       ]
      },
      {
       "output_type": "stream",
       "stream": "stdout",
       "text": [
        "\n",
        "loLIG1+loLIG2"
       ]
      },
      {
       "output_type": "stream",
       "stream": "stdout",
       "text": [
        "\n",
        "hiLIG1+loLIG2"
       ]
      },
      {
       "output_type": "stream",
       "stream": "stdout",
       "text": [
        "\n",
        "hiLIG1+noLIG2"
       ]
      },
      {
       "output_type": "stream",
       "stream": "stdout",
       "text": [
        "\n",
        "loLIG1+hiLIG2"
       ]
      },
      {
       "output_type": "stream",
       "stream": "stdout",
       "text": [
        "\n",
        "AB03"
       ]
      },
      {
       "output_type": "stream",
       "stream": "stdout",
       "text": [
        "\n",
        "hiLIG1+hiLIG2\n",
        "noLIG1+loLIG2"
       ]
      },
      {
       "output_type": "stream",
       "stream": "stdout",
       "text": [
        "\n",
        "noLIG1+hiLIG2"
       ]
      },
      {
       "output_type": "stream",
       "stream": "stdout",
       "text": [
        "\n",
        "loLIG1+noLIG2"
       ]
      },
      {
       "output_type": "stream",
       "stream": "stdout",
       "text": [
        "\n",
        "loLIG1+loLIG2"
       ]
      },
      {
       "output_type": "stream",
       "stream": "stdout",
       "text": [
        "\n",
        "hiLIG1+loLIG2"
       ]
      },
      {
       "output_type": "stream",
       "stream": "stdout",
       "text": [
        "\n",
        "hiLIG1+noLIG2"
       ]
      },
      {
       "output_type": "stream",
       "stream": "stdout",
       "text": [
        "\n",
        "loLIG1+hiLIG2"
       ]
      },
      {
       "output_type": "stream",
       "stream": "stdout",
       "text": [
        "\n",
        "AB04"
       ]
      },
      {
       "output_type": "stream",
       "stream": "stdout",
       "text": [
        "\n",
        "hiLIG1+hiLIG2\n",
        "noLIG1+loLIG2"
       ]
      },
      {
       "output_type": "stream",
       "stream": "stdout",
       "text": [
        "\n",
        "noLIG1+hiLIG2"
       ]
      },
      {
       "output_type": "stream",
       "stream": "stdout",
       "text": [
        "\n",
        "loLIG1+noLIG2"
       ]
      },
      {
       "output_type": "stream",
       "stream": "stdout",
       "text": [
        "\n",
        "loLIG1+loLIG2"
       ]
      },
      {
       "output_type": "stream",
       "stream": "stdout",
       "text": [
        "\n",
        "hiLIG1+loLIG2"
       ]
      },
      {
       "output_type": "stream",
       "stream": "stdout",
       "text": [
        "\n",
        "hiLIG1+noLIG2"
       ]
      },
      {
       "output_type": "stream",
       "stream": "stdout",
       "text": [
        "\n",
        "loLIG1+hiLIG2"
       ]
      },
      {
       "output_type": "stream",
       "stream": "stdout",
       "text": [
        "\n",
        "AB05"
       ]
      },
      {
       "output_type": "stream",
       "stream": "stdout",
       "text": [
        "\n",
        "hiLIG1+hiLIG2\n",
        "noLIG1+loLIG2"
       ]
      },
      {
       "output_type": "stream",
       "stream": "stdout",
       "text": [
        "\n",
        "noLIG1+hiLIG2"
       ]
      },
      {
       "output_type": "stream",
       "stream": "stdout",
       "text": [
        "\n",
        "loLIG1+noLIG2"
       ]
      },
      {
       "output_type": "stream",
       "stream": "stdout",
       "text": [
        "\n",
        "loLIG1+loLIG2"
       ]
      },
      {
       "output_type": "stream",
       "stream": "stdout",
       "text": [
        "\n",
        "hiLIG1+loLIG2"
       ]
      },
      {
       "output_type": "stream",
       "stream": "stdout",
       "text": [
        "\n",
        "hiLIG1+noLIG2"
       ]
      },
      {
       "output_type": "stream",
       "stream": "stdout",
       "text": [
        "\n",
        "loLIG1+hiLIG2"
       ]
      },
      {
       "output_type": "stream",
       "stream": "stdout",
       "text": [
        "\n",
        "AB06"
       ]
      },
      {
       "output_type": "stream",
       "stream": "stdout",
       "text": [
        "\n",
        "hiLIG1+hiLIG2\n",
        "noLIG1+loLIG2"
       ]
      },
      {
       "output_type": "stream",
       "stream": "stdout",
       "text": [
        "\n",
        "noLIG1+hiLIG2"
       ]
      },
      {
       "output_type": "stream",
       "stream": "stdout",
       "text": [
        "\n",
        "loLIG1+noLIG2"
       ]
      },
      {
       "output_type": "stream",
       "stream": "stdout",
       "text": [
        "\n",
        "loLIG1+loLIG2"
       ]
      },
      {
       "output_type": "stream",
       "stream": "stdout",
       "text": [
        "\n",
        "hiLIG1+loLIG2"
       ]
      },
      {
       "output_type": "stream",
       "stream": "stdout",
       "text": [
        "\n",
        "hiLIG1+noLIG2"
       ]
      },
      {
       "output_type": "stream",
       "stream": "stdout",
       "text": [
        "\n",
        "loLIG1+hiLIG2"
       ]
      },
      {
       "output_type": "stream",
       "stream": "stdout",
       "text": [
        "\n",
        "AB07"
       ]
      },
      {
       "output_type": "stream",
       "stream": "stdout",
       "text": [
        "\n",
        "hiLIG1+hiLIG2\n",
        "noLIG1+loLIG2"
       ]
      },
      {
       "output_type": "stream",
       "stream": "stdout",
       "text": [
        "\n",
        "noLIG1+hiLIG2"
       ]
      },
      {
       "output_type": "stream",
       "stream": "stdout",
       "text": [
        "\n",
        "loLIG1+noLIG2"
       ]
      },
      {
       "output_type": "stream",
       "stream": "stdout",
       "text": [
        "\n",
        "loLIG1+loLIG2"
       ]
      },
      {
       "output_type": "stream",
       "stream": "stdout",
       "text": [
        "\n",
        "hiLIG1+loLIG2"
       ]
      },
      {
       "output_type": "stream",
       "stream": "stdout",
       "text": [
        "\n",
        "hiLIG1+noLIG2"
       ]
      },
      {
       "output_type": "stream",
       "stream": "stdout",
       "text": [
        "\n",
        "loLIG1+hiLIG2"
       ]
      },
      {
       "output_type": "stream",
       "stream": "stdout",
       "text": [
        "\n",
        "AB08"
       ]
      },
      {
       "output_type": "stream",
       "stream": "stdout",
       "text": [
        "\n",
        "hiLIG1+hiLIG2\n",
        "noLIG1+loLIG2"
       ]
      },
      {
       "output_type": "stream",
       "stream": "stdout",
       "text": [
        "\n",
        "noLIG1+hiLIG2"
       ]
      },
      {
       "output_type": "stream",
       "stream": "stdout",
       "text": [
        "\n",
        "loLIG1+noLIG2"
       ]
      },
      {
       "output_type": "stream",
       "stream": "stdout",
       "text": [
        "\n",
        "loLIG1+loLIG2"
       ]
      },
      {
       "output_type": "stream",
       "stream": "stdout",
       "text": [
        "\n",
        "hiLIG1+loLIG2"
       ]
      },
      {
       "output_type": "stream",
       "stream": "stdout",
       "text": [
        "\n",
        "hiLIG1+noLIG2"
       ]
      },
      {
       "output_type": "stream",
       "stream": "stdout",
       "text": [
        "\n",
        "loLIG1+hiLIG2"
       ]
      },
      {
       "output_type": "stream",
       "stream": "stdout",
       "text": [
        "\n",
        "AB09"
       ]
      },
      {
       "output_type": "stream",
       "stream": "stdout",
       "text": [
        "\n",
        "hiLIG1+hiLIG2\n",
        "noLIG1+loLIG2"
       ]
      },
      {
       "output_type": "stream",
       "stream": "stdout",
       "text": [
        "\n",
        "noLIG1+hiLIG2"
       ]
      },
      {
       "output_type": "stream",
       "stream": "stdout",
       "text": [
        "\n",
        "loLIG1+noLIG2"
       ]
      },
      {
       "output_type": "stream",
       "stream": "stdout",
       "text": [
        "\n",
        "loLIG1+loLIG2"
       ]
      },
      {
       "output_type": "stream",
       "stream": "stdout",
       "text": [
        "\n",
        "hiLIG1+loLIG2"
       ]
      },
      {
       "output_type": "stream",
       "stream": "stdout",
       "text": [
        "\n",
        "hiLIG1+noLIG2"
       ]
      },
      {
       "output_type": "stream",
       "stream": "stdout",
       "text": [
        "\n",
        "loLIG1+hiLIG2"
       ]
      },
      {
       "output_type": "stream",
       "stream": "stdout",
       "text": [
        "\n",
        "AB10"
       ]
      },
      {
       "output_type": "stream",
       "stream": "stdout",
       "text": [
        "\n",
        "hiLIG1+hiLIG2\n",
        "noLIG1+loLIG2"
       ]
      },
      {
       "output_type": "stream",
       "stream": "stdout",
       "text": [
        "\n",
        "noLIG1+hiLIG2"
       ]
      },
      {
       "output_type": "stream",
       "stream": "stdout",
       "text": [
        "\n",
        "loLIG1+noLIG2"
       ]
      },
      {
       "output_type": "stream",
       "stream": "stdout",
       "text": [
        "\n",
        "loLIG1+loLIG2"
       ]
      },
      {
       "output_type": "stream",
       "stream": "stdout",
       "text": [
        "\n",
        "hiLIG1+loLIG2"
       ]
      },
      {
       "output_type": "stream",
       "stream": "stdout",
       "text": [
        "\n",
        "hiLIG1+noLIG2"
       ]
      },
      {
       "output_type": "stream",
       "stream": "stdout",
       "text": [
        "\n",
        "loLIG1+hiLIG2"
       ]
      },
      {
       "output_type": "stream",
       "stream": "stdout",
       "text": [
        "\n",
        "AB11"
       ]
      },
      {
       "output_type": "stream",
       "stream": "stdout",
       "text": [
        "\n",
        "hiLIG1+hiLIG2\n",
        "noLIG1+loLIG2"
       ]
      },
      {
       "output_type": "stream",
       "stream": "stdout",
       "text": [
        "\n",
        "noLIG1+hiLIG2"
       ]
      },
      {
       "output_type": "stream",
       "stream": "stdout",
       "text": [
        "\n",
        "loLIG1+noLIG2"
       ]
      },
      {
       "output_type": "stream",
       "stream": "stdout",
       "text": [
        "\n",
        "loLIG1+loLIG2"
       ]
      },
      {
       "output_type": "stream",
       "stream": "stdout",
       "text": [
        "\n",
        "hiLIG1+loLIG2"
       ]
      },
      {
       "output_type": "stream",
       "stream": "stdout",
       "text": [
        "\n",
        "hiLIG1+noLIG2"
       ]
      },
      {
       "output_type": "stream",
       "stream": "stdout",
       "text": [
        "\n",
        "loLIG1+hiLIG2"
       ]
      },
      {
       "output_type": "stream",
       "stream": "stdout",
       "text": [
        "\n",
        "AB12"
       ]
      },
      {
       "output_type": "stream",
       "stream": "stdout",
       "text": [
        "\n",
        "hiLIG1+hiLIG2\n",
        "noLIG1+loLIG2"
       ]
      },
      {
       "output_type": "stream",
       "stream": "stdout",
       "text": [
        "\n",
        "noLIG1+hiLIG2"
       ]
      },
      {
       "output_type": "stream",
       "stream": "stdout",
       "text": [
        "\n",
        "loLIG1+noLIG2"
       ]
      },
      {
       "output_type": "stream",
       "stream": "stdout",
       "text": [
        "\n",
        "loLIG1+loLIG2"
       ]
      },
      {
       "output_type": "stream",
       "stream": "stdout",
       "text": [
        "\n",
        "hiLIG1+loLIG2"
       ]
      },
      {
       "output_type": "stream",
       "stream": "stdout",
       "text": [
        "\n",
        "hiLIG1+noLIG2"
       ]
      },
      {
       "output_type": "stream",
       "stream": "stdout",
       "text": [
        "\n",
        "loLIG1+hiLIG2"
       ]
      },
      {
       "output_type": "stream",
       "stream": "stdout",
       "text": [
        "\n",
        "AB13"
       ]
      },
      {
       "output_type": "stream",
       "stream": "stdout",
       "text": [
        "\n",
        "hiLIG1+hiLIG2\n",
        "noLIG1+loLIG2"
       ]
      },
      {
       "output_type": "stream",
       "stream": "stdout",
       "text": [
        "\n",
        "noLIG1+hiLIG2"
       ]
      },
      {
       "output_type": "stream",
       "stream": "stdout",
       "text": [
        "\n",
        "loLIG1+noLIG2"
       ]
      },
      {
       "output_type": "stream",
       "stream": "stdout",
       "text": [
        "\n",
        "loLIG1+loLIG2"
       ]
      },
      {
       "output_type": "stream",
       "stream": "stdout",
       "text": [
        "\n",
        "hiLIG1+loLIG2"
       ]
      },
      {
       "output_type": "stream",
       "stream": "stdout",
       "text": [
        "\n",
        "hiLIG1+noLIG2"
       ]
      },
      {
       "output_type": "stream",
       "stream": "stdout",
       "text": [
        "\n",
        "loLIG1+hiLIG2"
       ]
      },
      {
       "output_type": "stream",
       "stream": "stdout",
       "text": [
        "\n",
        "AB14"
       ]
      },
      {
       "output_type": "stream",
       "stream": "stdout",
       "text": [
        "\n",
        "hiLIG1+hiLIG2\n",
        "noLIG1+loLIG2"
       ]
      },
      {
       "output_type": "stream",
       "stream": "stdout",
       "text": [
        "\n",
        "noLIG1+hiLIG2"
       ]
      },
      {
       "output_type": "stream",
       "stream": "stdout",
       "text": [
        "\n",
        "loLIG1+noLIG2"
       ]
      },
      {
       "output_type": "stream",
       "stream": "stdout",
       "text": [
        "\n",
        "loLIG1+loLIG2"
       ]
      },
      {
       "output_type": "stream",
       "stream": "stdout",
       "text": [
        "\n",
        "hiLIG1+loLIG2"
       ]
      },
      {
       "output_type": "stream",
       "stream": "stdout",
       "text": [
        "\n",
        "hiLIG1+noLIG2"
       ]
      },
      {
       "output_type": "stream",
       "stream": "stdout",
       "text": [
        "\n",
        "loLIG1+hiLIG2"
       ]
      },
      {
       "output_type": "stream",
       "stream": "stdout",
       "text": [
        "\n",
        "AB15"
       ]
      },
      {
       "output_type": "stream",
       "stream": "stdout",
       "text": [
        "\n",
        "hiLIG1+hiLIG2\n",
        "noLIG1+loLIG2"
       ]
      },
      {
       "output_type": "stream",
       "stream": "stdout",
       "text": [
        "\n",
        "noLIG1+hiLIG2"
       ]
      },
      {
       "output_type": "stream",
       "stream": "stdout",
       "text": [
        "\n",
        "loLIG1+noLIG2"
       ]
      },
      {
       "output_type": "stream",
       "stream": "stdout",
       "text": [
        "\n",
        "loLIG1+loLIG2"
       ]
      },
      {
       "output_type": "stream",
       "stream": "stdout",
       "text": [
        "\n",
        "hiLIG1+loLIG2"
       ]
      },
      {
       "output_type": "stream",
       "stream": "stdout",
       "text": [
        "\n",
        "hiLIG1+noLIG2"
       ]
      },
      {
       "output_type": "stream",
       "stream": "stdout",
       "text": [
        "\n",
        "loLIG1+hiLIG2"
       ]
      },
      {
       "output_type": "stream",
       "stream": "stdout",
       "text": [
        "\n",
        "AB16"
       ]
      },
      {
       "output_type": "stream",
       "stream": "stdout",
       "text": [
        "\n",
        "hiLIG1+hiLIG2\n",
        "noLIG1+loLIG2"
       ]
      },
      {
       "output_type": "stream",
       "stream": "stdout",
       "text": [
        "\n",
        "noLIG1+hiLIG2"
       ]
      },
      {
       "output_type": "stream",
       "stream": "stdout",
       "text": [
        "\n",
        "loLIG1+noLIG2"
       ]
      },
      {
       "output_type": "stream",
       "stream": "stdout",
       "text": [
        "\n",
        "loLIG1+loLIG2"
       ]
      },
      {
       "output_type": "stream",
       "stream": "stdout",
       "text": [
        "\n",
        "hiLIG1+loLIG2"
       ]
      },
      {
       "output_type": "stream",
       "stream": "stdout",
       "text": [
        "\n",
        "hiLIG1+noLIG2"
       ]
      },
      {
       "output_type": "stream",
       "stream": "stdout",
       "text": [
        "\n",
        "loLIG1+hiLIG2"
       ]
      },
      {
       "output_type": "stream",
       "stream": "stdout",
       "text": [
        "\n",
        "AB17"
       ]
      },
      {
       "output_type": "stream",
       "stream": "stdout",
       "text": [
        "\n",
        "hiLIG1+hiLIG2\n",
        "noLIG1+loLIG2"
       ]
      },
      {
       "output_type": "stream",
       "stream": "stdout",
       "text": [
        "\n",
        "noLIG1+hiLIG2"
       ]
      },
      {
       "output_type": "stream",
       "stream": "stdout",
       "text": [
        "\n",
        "loLIG1+noLIG2"
       ]
      },
      {
       "output_type": "stream",
       "stream": "stdout",
       "text": [
        "\n",
        "loLIG1+loLIG2"
       ]
      },
      {
       "output_type": "stream",
       "stream": "stdout",
       "text": [
        "\n",
        "hiLIG1+loLIG2"
       ]
      },
      {
       "output_type": "stream",
       "stream": "stdout",
       "text": [
        "\n",
        "hiLIG1+noLIG2"
       ]
      },
      {
       "output_type": "stream",
       "stream": "stdout",
       "text": [
        "\n",
        "loLIG1+hiLIG2"
       ]
      },
      {
       "output_type": "stream",
       "stream": "stdout",
       "text": [
        "\n",
        "AB18"
       ]
      },
      {
       "output_type": "stream",
       "stream": "stdout",
       "text": [
        "\n",
        "hiLIG1+hiLIG2\n",
        "noLIG1+loLIG2"
       ]
      },
      {
       "output_type": "stream",
       "stream": "stdout",
       "text": [
        "\n",
        "noLIG1+hiLIG2"
       ]
      },
      {
       "output_type": "stream",
       "stream": "stdout",
       "text": [
        "\n",
        "loLIG1+noLIG2"
       ]
      },
      {
       "output_type": "stream",
       "stream": "stdout",
       "text": [
        "\n",
        "loLIG1+loLIG2"
       ]
      },
      {
       "output_type": "stream",
       "stream": "stdout",
       "text": [
        "\n",
        "hiLIG1+loLIG2"
       ]
      },
      {
       "output_type": "stream",
       "stream": "stdout",
       "text": [
        "\n",
        "hiLIG1+noLIG2"
       ]
      },
      {
       "output_type": "stream",
       "stream": "stdout",
       "text": [
        "\n",
        "loLIG1+hiLIG2"
       ]
      },
      {
       "output_type": "stream",
       "stream": "stdout",
       "text": [
        "\n",
        "AB19"
       ]
      },
      {
       "output_type": "stream",
       "stream": "stdout",
       "text": [
        "\n",
        "hiLIG1+hiLIG2\n",
        "noLIG1+loLIG2"
       ]
      },
      {
       "output_type": "stream",
       "stream": "stdout",
       "text": [
        "\n",
        "noLIG1+hiLIG2"
       ]
      },
      {
       "output_type": "stream",
       "stream": "stdout",
       "text": [
        "\n",
        "loLIG1+noLIG2"
       ]
      },
      {
       "output_type": "stream",
       "stream": "stdout",
       "text": [
        "\n",
        "loLIG1+loLIG2"
       ]
      },
      {
       "output_type": "stream",
       "stream": "stdout",
       "text": [
        "\n",
        "hiLIG1+loLIG2"
       ]
      },
      {
       "output_type": "stream",
       "stream": "stdout",
       "text": [
        "\n",
        "hiLIG1+noLIG2"
       ]
      },
      {
       "output_type": "stream",
       "stream": "stdout",
       "text": [
        "\n",
        "loLIG1+hiLIG2"
       ]
      },
      {
       "output_type": "stream",
       "stream": "stdout",
       "text": [
        "\n",
        "AB20"
       ]
      },
      {
       "output_type": "stream",
       "stream": "stdout",
       "text": [
        "\n",
        "hiLIG1+hiLIG2\n",
        "noLIG1+loLIG2"
       ]
      },
      {
       "output_type": "stream",
       "stream": "stdout",
       "text": [
        "\n",
        "noLIG1+hiLIG2"
       ]
      },
      {
       "output_type": "stream",
       "stream": "stdout",
       "text": [
        "\n",
        "loLIG1+noLIG2"
       ]
      },
      {
       "output_type": "stream",
       "stream": "stdout",
       "text": [
        "\n",
        "loLIG1+loLIG2"
       ]
      },
      {
       "output_type": "stream",
       "stream": "stdout",
       "text": [
        "\n",
        "hiLIG1+loLIG2"
       ]
      },
      {
       "output_type": "stream",
       "stream": "stdout",
       "text": [
        "\n",
        "hiLIG1+noLIG2"
       ]
      },
      {
       "output_type": "stream",
       "stream": "stdout",
       "text": [
        "\n",
        "loLIG1+hiLIG2"
       ]
      },
      {
       "output_type": "stream",
       "stream": "stdout",
       "text": [
        "\n"
       ]
      }
     ],
     "prompt_number": 7
    },
    {
     "cell_type": "code",
     "collapsed": false,
     "input": [
      "%matplotlib inline\n",
      "import matplotlib.pylab as plt\n",
      "for ab in node_list:\n",
      "    plt.figure()\n",
      "    pred_dict['AB02']['hiLIG1+loLIG2'][ab].plot(title=ab)\n",
      "    "
     ],
     "language": "python",
     "metadata": {},
     "outputs": [
      {
       "metadata": {},
       "output_type": "display_data",
       "png": "[encoded data removed]",
       "text": [
        "<matplotlib.figure.Figure at 0x11449f9d0>"
       ]
      },
      {
       "metadata": {},
       "output_type": "display_data",
       "png": "[encoded data removed]",
       "text": [
        "<matplotlib.figure.Figure at 0x114c37310>"
       ]
      },
      {
       "metadata": {},
       "output_type": "display_data",
       "png": "[encoded data removed]",
       "text": [
        "<matplotlib.figure.Figure at 0x114cd8550>"
       ]
      },
      {
       "metadata": {},
       "output_type": "display_data",
       "png": "[encoded data removed]",
       "text": [
        "<matplotlib.figure.Figure at 0x111e33610>"
       ]
      },
      {
       "metadata": {},
       "output_type": "display_data",
       "png": "[encoded data removed]",
       "text": [
        "<matplotlib.figure.Figure at 0x111e65c10>"
       ]
      },
      {
       "metadata": {},
       "output_type": "display_data",
       "png": "[encoded data removed]",
       "text": [
        "<matplotlib.figure.Figure at 0x10f775490>"
       ]
      },
      {
       "metadata": {},
       "output_type": "display_data",
       "png": "[encoded data removed]",
       "text": [
        "<matplotlib.figure.Figure at 0x114d2ff10>"
       ]
      },
      {
       "metadata": {},
       "output_type": "display_data",
       "png": "[encoded data removed]",
       "text": [
        "<matplotlib.figure.Figure at 0x113045410>"
       ]
      },
      {
       "metadata": {},
       "output_type": "display_data",
       "png": "[encoded data removed]",
       "text": [
        "<matplotlib.figure.Figure at 0x11565da10>"
       ]
      },
      {
       "metadata": {},
       "output_type": "display_data",
       "png": "[encoded data removed]",
       "text": [
        "<matplotlib.figure.Figure at 0x113041810>"
       ]
      },
      {
       "metadata": {},
       "output_type": "display_data",
       "png": "[encoded data removed]",
       "text": [
        "<matplotlib.figure.Figure at 0x114cd4110>"
       ]
      },
      {
       "metadata": {},
       "output_type": "display_data",
       "png": "[encoded data removed]",
       "text": [
        "<matplotlib.figure.Figure at 0x112eb3510>"
       ]
      },
      {
       "metadata": {},
       "output_type": "display_data",
       "png": "[encoded data removed]",
       "text": [
        "<matplotlib.figure.Figure at 0x112fbfe90>"
       ]
      },
      {
       "metadata": {},
       "output_type": "display_data",
       "png": "[encoded data removed]",
       "text": [
        "<matplotlib.figure.Figure at 0x114d61ad0>"
       ]
      },
      {
       "metadata": {},
       "output_type": "display_data",
       "png": "[encoded data removed]",
       "text": [
        "<matplotlib.figure.Figure at 0x114c33490>"
       ]
      },
      {
       "metadata": {},
       "output_type": "display_data",
       "png": "[encoded data removed]",
       "text": [
        "<matplotlib.figure.Figure at 0x114c15f90>"
       ]
      },
      {
       "metadata": {},
       "output_type": "display_data",
       "png": "[encoded data removed]",
       "text": [
        "<matplotlib.figure.Figure at 0x114e36f90>"
       ]
      },
      {
       "metadata": {},
       "output_type": "display_data",
       "png": "[encoded data removed]",
       "text": [
        "<matplotlib.figure.Figure at 0x114e0b950>"
       ]
      },
      {
       "metadata": {},
       "output_type": "display_data",
       "png": "[encoded data removed]",
       "text": [
        "<matplotlib.figure.Figure at 0x114b8b390>"
       ]
      },
      {
       "metadata": {},
       "output_type": "display_data",
       "png": "[encoded data removed]",
       "text": [
        "<matplotlib.figure.Figure at 0x114be24d0>"
       ]
      }
     ],
     "prompt_number": 50
    },
    {
     "cell_type": "code",
     "collapsed": false,
     "input": [],
     "language": "python",
     "metadata": {},
     "outputs": []
    },
    {
     "cell_type": "code",
     "collapsed": false,
     "input": [
      "### SAVE TO MIDAS\n",
      "import utilities\n",
      "reload(utilities)\n",
      "\n",
      "for node in node_list:\n",
      "    out_path = '../subchallenge2/submission3b/sakev-Prediction-Insilico/sakev-{0}-Prediction-Insilico'.format(node)\n",
      "    utilities.write_MIDAS(pred_dict[node], node, out_path, datatype='inSilico', cell_line='inSilico')"
     ],
     "language": "python",
     "metadata": {},
     "outputs": [
      {
       "output_type": "stream",
       "stream": "stdout",
       "text": [
        "inSilico\n",
        "inSilico"
       ]
      },
      {
       "output_type": "stream",
       "stream": "stdout",
       "text": [
        "\n",
        "inSilico"
       ]
      },
      {
       "output_type": "stream",
       "stream": "stdout",
       "text": [
        "\n",
        "inSilico"
       ]
      },
      {
       "output_type": "stream",
       "stream": "stdout",
       "text": [
        "\n",
        "inSilico"
       ]
      },
      {
       "output_type": "stream",
       "stream": "stdout",
       "text": [
        "\n",
        "inSilico\n",
        "inSilico"
       ]
      },
      {
       "output_type": "stream",
       "stream": "stdout",
       "text": [
        "\n",
        "inSilico"
       ]
      },
      {
       "output_type": "stream",
       "stream": "stdout",
       "text": [
        "\n",
        "inSilico"
       ]
      },
      {
       "output_type": "stream",
       "stream": "stdout",
       "text": [
        "\n",
        "inSilico"
       ]
      },
      {
       "output_type": "stream",
       "stream": "stdout",
       "text": [
        "\n",
        "inSilico"
       ]
      },
      {
       "output_type": "stream",
       "stream": "stdout",
       "text": [
        "\n",
        "inSilico"
       ]
      },
      {
       "output_type": "stream",
       "stream": "stdout",
       "text": [
        "\n",
        "inSilico"
       ]
      },
      {
       "output_type": "stream",
       "stream": "stdout",
       "text": [
        "\n",
        "inSilico"
       ]
      },
      {
       "output_type": "stream",
       "stream": "stdout",
       "text": [
        "\n",
        "inSilico"
       ]
      },
      {
       "output_type": "stream",
       "stream": "stdout",
       "text": [
        "\n",
        "inSilico\n",
        "inSilico"
       ]
      },
      {
       "output_type": "stream",
       "stream": "stdout",
       "text": [
        "\n",
        "inSilico"
       ]
      },
      {
       "output_type": "stream",
       "stream": "stdout",
       "text": [
        "\n",
        "inSilico"
       ]
      },
      {
       "output_type": "stream",
       "stream": "stdout",
       "text": [
        "\n",
        "inSilico"
       ]
      },
      {
       "output_type": "stream",
       "stream": "stdout",
       "text": [
        "\n"
       ]
      }
     ],
     "prompt_number": 8
    },
    {
     "cell_type": "code",
     "collapsed": false,
     "input": [
      "    ### SAVE TO MIDAS\n",
      "import utilities\n",
      "reload(utilities)\n",
      "\n",
      "for node in node_list:\n",
      "    out_path = '../subchallenge2/submission3/sakev-Prediction-Insilico/sakev-{0}-Prediction-Insilico'.format(node)\n",
      "    utilities.write_MIDAS(pred_dict[node], node, out_path, datatype='inSilico', cell_line='inSilico')\n",
      "\n",
      "\n",
      "midas_df = pd.read_csv('../2b-insilico-format.csv', header=0)\n",
      "column_mapping = {}\n",
      "node_col_mapping = {node_list[i-1] : 'DV:AB{0}'.format(i) for i in range(1, 21)}\n",
      "node_mapping = {node_list[i-1] : 'AB{0}'.format(i) for i in range(1, 21)}\n",
      "\n",
      "stim_col_mapping = {'hiLIG1+hiLIG2' : 'hiLIG1_hiLIG2',\n",
      "                    'noLIG1+loLIG2' : 'loLIG2',\n",
      "                    'noLIG1+hiLIG2' : 'hiLIG2',\n",
      "                    'loLIG1+noLIG2' : 'loLIG1',\n",
      "                    'loLIG1+loLIG2' : 'loLIG1_loLIG2',\n",
      "                    'hiLIG1+loLIG2' : 'hiLIG1_loLIG2',\n",
      "                    'hiLIG1+noLIG2' : 'hiLIG1',\n",
      "                    'loLIG1+hiLIG2' : 'loLIG1_hiLIG2'}\n",
      "\n",
      "for ab in node_list:\n",
      "    midas_df = pd.read_csv('../2b-insilico-format.csv', header=0)\n",
      "    print ab\n",
      "    for stim in contexts:\n",
      "        for t in times:\n",
      "            idx = (midas_df['DA:ALL']==t) & (midas_df[stim_col_mapping[stim]]==1)\n",
      "            subdf = midas_df[idx]\n",
      "            for node in node_list:\n",
      "                subdf[node_col_mapping[node]] = prediction_dict[ab][stim].ix[t, node]\n",
      "            midas_df.update(subdf)\n",
      "    midas_df[node_col_mapping[ab]] = 'NA'\n",
      "    midas_df.to_csv('../subchallenge2/sakev-'+node_mapping[ab]+'-Prediction-Insilico.csv', index=False)"
     ],
     "language": "python",
     "metadata": {},
     "outputs": [
      {
       "output_type": "stream",
       "stream": "stdout",
       "text": [
        "AB01\n",
        "AB02"
       ]
      },
      {
       "output_type": "stream",
       "stream": "stdout",
       "text": [
        "\n",
        "AB03"
       ]
      },
      {
       "output_type": "stream",
       "stream": "stdout",
       "text": [
        "\n",
        "AB04"
       ]
      },
      {
       "output_type": "stream",
       "stream": "stdout",
       "text": [
        "\n",
        "AB05"
       ]
      },
      {
       "output_type": "stream",
       "stream": "stdout",
       "text": [
        "\n",
        "AB06"
       ]
      },
      {
       "output_type": "stream",
       "stream": "stdout",
       "text": [
        "\n",
        "AB07"
       ]
      },
      {
       "output_type": "stream",
       "stream": "stdout",
       "text": [
        "\n",
        "AB08"
       ]
      },
      {
       "output_type": "stream",
       "stream": "stdout",
       "text": [
        "\n",
        "AB09"
       ]
      },
      {
       "output_type": "stream",
       "stream": "stdout",
       "text": [
        "\n",
        "AB10"
       ]
      },
      {
       "output_type": "stream",
       "stream": "stdout",
       "text": [
        "\n",
        "AB11"
       ]
      },
      {
       "output_type": "stream",
       "stream": "stdout",
       "text": [
        "\n",
        "AB12"
       ]
      },
      {
       "output_type": "stream",
       "stream": "stdout",
       "text": [
        "\n",
        "AB13"
       ]
      },
      {
       "output_type": "stream",
       "stream": "stdout",
       "text": [
        "\n",
        "AB14"
       ]
      },
      {
       "output_type": "stream",
       "stream": "stdout",
       "text": [
        "\n",
        "AB15"
       ]
      },
      {
       "output_type": "stream",
       "stream": "stdout",
       "text": [
        "\n",
        "AB16"
       ]
      },
      {
       "output_type": "stream",
       "stream": "stdout",
       "text": [
        "\n",
        "AB17"
       ]
      },
      {
       "output_type": "stream",
       "stream": "stdout",
       "text": [
        "\n",
        "AB18"
       ]
      },
      {
       "output_type": "stream",
       "stream": "stdout",
       "text": [
        "\n",
        "AB19"
       ]
      },
      {
       "output_type": "stream",
       "stream": "stdout",
       "text": [
        "\n",
        "AB20"
       ]
      },
      {
       "output_type": "stream",
       "stream": "stdout",
       "text": [
        "\n"
       ]
      }
     ],
     "prompt_number": 155
    },
    {
     "cell_type": "raw",
     "metadata": {},
     "source": [
      "##### EXPERIMENTAL\n",
      "#####\n",
      "##### STEP 1 : WRANGLE DATA\n",
      "#####\n",
      "##### STEP 2 : FIT GRADIENT BOOSTING MACHINES\n",
      "#####\n",
      "##### STEP 3 : STEP THROUGH PREDICTIONS\n",
      "#####\n",
      "##### STEP 4 : WRITE MIDAS"
     ]
    },
    {
     "cell_type": "code",
     "collapsed": false,
     "input": [
      "reload(utilities)\n",
      "\n",
      "exp_data = {}\n",
      "\n",
      "for cell_line in ['BT20', 'BT549', 'MCF7', 'UACC812']:\n",
      "    \n",
      "    print cell_line\n",
      "    \n",
      "    # STEP 1 : WRANGLE DATA\n",
      "    # load data\n",
      "    project_path = '../'\n",
      "    data_path = os.path.join(project_path, 'dat')\n",
      "    exp_data[cell_line] = pd.read_csv(os.path.join(data_path, 'experimental', 'CSV', '{0}_main.kje.csv'.format(cell_line)), header=0)\n",
      "    \n",
      "    # drop low quality columns\n",
      "    try:\n",
      "        del exp_data[cell_line]['TAZ_pS89']\n",
      "    except:\n",
      "        pass\n",
      "    try:\n",
      "        del exp_data[cell_line]['FOXO3a_pS318_S321']\n",
      "    except:\n",
      "        pass\n",
      "    \n",
      "    # set various things\n",
      "    node_list = exp_data[cell_line].columns[4:]\n",
      "    inhib_targets = {'GSK690693' : ['AKT_pS473', 'AKT_pT308'],\n",
      "                     'GSK690693_GSK1120212' : ['AKT_pS473', 'AKT_pT308','MEK1_pS217_S221'],\n",
      "                     'PD173074': [],\n",
      "                     'DMSO' : []}\n",
      "    inhibs = set(exp_data[cell_line]['Inhibitor'])\n",
      "    stims = set(exp_data[cell_line]['Stimulus'])\n",
      "    \n",
      "    # prepare design matrix\n",
      "    B_df = {}\n",
      "    B_scaled = {}\n",
      "    B_scaled_df = {}\n",
      "    mean_vec = {}\n",
      "    std_vec = {}\n",
      "    \n",
      "    for stim in stims:\n",
      "        B_df[stim] = exp_data[cell_line][(exp_data[cell_line]['Timepoint']<240) & (exp_data[cell_line]['Stimulus']==stim)].groupby(['Inhibitor','Stimulus', 'Timepoint']).mean()\n",
      "        \n",
      "        # scale data\n",
      "        #B_scaled[stim] = preprocessing.scale(B_df[stim])\n",
      "        \n",
      "        # scale data by hand\n",
      "        mean_vec[stim] = np.nan_to_num(B_df[stim].as_matrix()).mean(axis=0)\n",
      "        std_vec[stim] = np.nan_to_num(B_df[stim].as_matrix()).std(axis=0)\n",
      "        B_scaled[stim] = ((np.nan_to_num(B_df[stim].as_matrix()) - mean_vec[stim]) / std_vec[stim])\n",
      "        \n",
      "        # scaled df\n",
      "        B_scaled_df[stim] = pd.DataFrame(B_scaled[stim],\n",
      "                                      index=B_df[stim].index,\n",
      "                                      columns=B_df[stim].columns)\n",
      "    \n",
      "        # add extra columns representing fixed effects into training data\n",
      "        for inh, fe in [('GSK690693', 'FE_GSK690693'),\n",
      "                        ('GSK690693_GSK1120212', 'FE_GSK690693_GSK1120212'),\n",
      "                        ('PD173074', 'FE_PD173074'),\n",
      "                        ('DMSO', 'FE_DMSO')]:\n",
      "            B_scaled_df[stim][fe] = 0\n",
      "            try:\n",
      "                B_scaled_df[stim].ix[inh, fe] = 1\n",
      "            except:\n",
      "                continue\n",
      "    \n",
      "        # zero out the appropriate covariates corresponding to training data\n",
      "        for inhib in inhibs:\n",
      "            try:\n",
      "                B_scaled_df[stim].ix[inhib, inhib_targets[inhib]] = 0\n",
      "            except:\n",
      "                continue\n",
      "                \n",
      "    ### STEP 2: FIT GRADIENT BOOSTING MACHINE\n",
      "    regGBR = {}\n",
      "    \n",
      "    n_estimators = 100\n",
      "    max_depth = 3\n",
      "    learning_rate = 0.1\n",
      "    \n",
      "    for target in node_list:\n",
      "        print cell_line+' training '+target\n",
      "        regGBR[target] = {}\n",
      "        for stim in stims:\n",
      "            # get target values\n",
      "            y = exp_data[cell_line][(exp_data[cell_line]['Timepoint']>0) & (exp_data[cell_line]['Stimulus']==stim)].groupby(['Inhibitor','Stimulus','Timepoint']).mean()[target].values\n",
      "            \n",
      "            regGBR[target][stim] = GradientBoostingRegressor(n_estimators=n_estimators,\n",
      "                                                       learning_rate=learning_rate,\n",
      "                                                       max_depth=max_depth,\n",
      "                                                       loss='ls')\n",
      "            regGBR[target][stim].fit(B_scaled_df[stim], y)\n",
      "            \n",
      "    ### STEP 3: STEP THROUGH PREDICTIONS FOR EACH CONTEXT\n",
      "    time_points = [0, 5, 15, 30, 60, 120, 240]\n",
      "    \n",
      "    test_inhibs = ['TestInhib1', 'TestInhib2', 'TestInhib3', 'TestInhib4', 'TestInhib5']\n",
      "    test_inhib_targets = {'TestInhib1' : ['EGFR_pY1068', 'EGFR_pY1173', 'EGFR_pY992', 'HER2_pY1248'],\n",
      "                          'TestInhib2' : ['Src_pY416','Src_pY527'],\n",
      "                          'TestInhib3' : ['mTOR_pS2448'],\n",
      "                          'TestInhib4' : ['EGFR_pY1068', 'EGFR_pY1173', 'EGFR_pY992'],\n",
      "                          'TestInhib5' : []}\n",
      "    pred_dict = {}\n",
      "    \n",
      "    for test_inhib in test_inhibs:\n",
      "        print test_inhib\n",
      "        pred_dict[test_inhib] = {}\n",
      "        for stim in stims:\n",
      "            # set up new df to use, and fill t=0 values\n",
      "            pred_df = pd.DataFrame(np.zeros((len(time_points), len(node_list))), index=time_points, columns=node_list)\n",
      "            pred_df.ix[0, :] = exp_data[cell_line].groupby(['Inhibitor', 'Stimulus', 'Timepoint']).mean().ix['DMSO', stim, 0]\n",
      "            \n",
      "            try:\n",
      "                pred_df.ix[0, test_inhib_targets[test_inhib]] = 0\n",
      "            except:\n",
      "                pass\n",
      "            \n",
      "            # loop over times\n",
      "            for tidx in range(1,len(time_points)):\n",
      "                time = time_points[tidx]\n",
      "                \n",
      "                # get covariates for this time step and scale\n",
      "                covariates_df = ((pred_df.ix[time_points[tidx-1], :]) - mean_vec[stim]) / std_vec[stim]\n",
      "    \n",
      "                # zero out covariate we are inhibiting\n",
      "                try:\n",
      "                    covariates_df.ix[test_inhib_targets[test_inhib]] = 0\n",
      "                except:\n",
      "                    pass\n",
      "                \n",
      "                num_cov = len(pred_df.columns)\n",
      "                covariates = np.zeros((num_cov+4, ))\n",
      "                covariates[:num_cov] = covariates_df.values\n",
      "                \n",
      "                # add on the three fixed effect inhibitors we had from the fit step\n",
      "                \n",
      "                # loop over proteins to get values for current time step\n",
      "                for p in node_list:\n",
      "                    pred_df.ix[time, p] = regGBR[p][stim].predict(covariates)\n",
      "                \n",
      "                # zero out covariate we are inhibiting, again\n",
      "                try:\n",
      "                    pred_df.ix[time, test_inhib_targets[test_inhib]] = 0\n",
      "                except:\n",
      "                    pass\n",
      "        \n",
      "            pred_dict[test_inhib][stim] = pred_df\n",
      "            \n",
      "    ### SAVE TO MIDAS\n",
      "    for test_inhib in test_inhibs:\n",
      "        out_path = '../subchallenge2/submission3/sakev-Prediction/sakev-{0}-{1}-Prediction'.format(cell_line, test_inhib)\n",
      "        utilities.write_MIDAS(pred_dict[test_inhib], test_inhib_targets[test_inhib], out_path, datatype='Experimental', cell_line=cell_line)"
     ],
     "language": "python",
     "metadata": {},
     "outputs": [
      {
       "output_type": "stream",
       "stream": "stdout",
       "text": [
        "BT20\n",
        "BT20 training 4EBP1_pS65"
       ]
      },
      {
       "output_type": "stream",
       "stream": "stdout",
       "text": [
        "\n",
        "BT20 training 4EBP1_pT37_pT46"
       ]
      },
      {
       "output_type": "stream",
       "stream": "stdout",
       "text": [
        "\n",
        "BT20 training ACC_pS79"
       ]
      },
      {
       "output_type": "stream",
       "stream": "stdout",
       "text": [
        "\n",
        "BT20 training AKT_pS473"
       ]
      },
      {
       "output_type": "stream",
       "stream": "stdout",
       "text": [
        "\n",
        "BT20 training AKT_pT308"
       ]
      },
      {
       "output_type": "stream",
       "stream": "stdout",
       "text": [
        "\n",
        "BT20 training AMPK_pT172"
       ]
      },
      {
       "output_type": "stream",
       "stream": "stdout",
       "text": [
        "\n",
        "BT20 training BAD_pS112"
       ]
      },
      {
       "output_type": "stream",
       "stream": "stdout",
       "text": [
        "\n",
        "BT20 training c-JUN_pS73"
       ]
      },
      {
       "output_type": "stream",
       "stream": "stdout",
       "text": [
        "\n",
        "BT20 training c-Met_pY1235"
       ]
      },
      {
       "output_type": "stream",
       "stream": "stdout",
       "text": [
        "\n",
        "BT20 training c-Raf_pS338"
       ]
      },
      {
       "output_type": "stream",
       "stream": "stdout",
       "text": [
        "\n",
        "BT20 training CHK1_pS345"
       ]
      },
      {
       "output_type": "stream",
       "stream": "stdout",
       "text": [
        "\n",
        "BT20 training CHK2_pT68"
       ]
      },
      {
       "output_type": "stream",
       "stream": "stdout",
       "text": [
        "\n",
        "BT20 training EGFR_pY1068"
       ]
      },
      {
       "output_type": "stream",
       "stream": "stdout",
       "text": [
        "\n",
        "BT20 training EGFR_pY1173"
       ]
      },
      {
       "output_type": "stream",
       "stream": "stdout",
       "text": [
        "\n",
        "BT20 training EGFR_pY992"
       ]
      },
      {
       "output_type": "stream",
       "stream": "stdout",
       "text": [
        "\n",
        "BT20 training ER-alpha_pS118"
       ]
      },
      {
       "output_type": "stream",
       "stream": "stdout",
       "text": [
        "\n",
        "BT20 training GSK3-alpha-beta_pS21_S9"
       ]
      },
      {
       "output_type": "stream",
       "stream": "stdout",
       "text": [
        "\n",
        "BT20 training GSK3-alpha-beta_pS9"
       ]
      },
      {
       "output_type": "stream",
       "stream": "stdout",
       "text": [
        "\n",
        "BT20 training HER2_pY1248"
       ]
      },
      {
       "output_type": "stream",
       "stream": "stdout",
       "text": [
        "\n",
        "BT20 training HER3_pY1298"
       ]
      },
      {
       "output_type": "stream",
       "stream": "stdout",
       "text": [
        "\n",
        "BT20 training JNK_pT183_pT185"
       ]
      },
      {
       "output_type": "stream",
       "stream": "stdout",
       "text": [
        "\n",
        "BT20 training MAPK_pT202_Y204"
       ]
      },
      {
       "output_type": "stream",
       "stream": "stdout",
       "text": [
        "\n",
        "BT20 training MEK1_pS217_S221"
       ]
      },
      {
       "output_type": "stream",
       "stream": "stdout",
       "text": [
        "\n",
        "BT20 training mTOR_pS2448"
       ]
      },
      {
       "output_type": "stream",
       "stream": "stdout",
       "text": [
        "\n",
        "BT20 training NDRG1_pT346"
       ]
      },
      {
       "output_type": "stream",
       "stream": "stdout",
       "text": [
        "\n",
        "BT20 training NF-kB-p65_pS536"
       ]
      },
      {
       "output_type": "stream",
       "stream": "stdout",
       "text": [
        "\n",
        "BT20 training p27_pT157"
       ]
      },
      {
       "output_type": "stream",
       "stream": "stdout",
       "text": [
        "\n",
        "BT20 training p27_pT198"
       ]
      },
      {
       "output_type": "stream",
       "stream": "stdout",
       "text": [
        "\n",
        "BT20 training p38_pT180_Y182"
       ]
      },
      {
       "output_type": "stream",
       "stream": "stdout",
       "text": [
        "\n",
        "BT20 training p70S6K_pT389"
       ]
      },
      {
       "output_type": "stream",
       "stream": "stdout",
       "text": [
        "\n",
        "BT20 training p90RSK_pT359_S363"
       ]
      },
      {
       "output_type": "stream",
       "stream": "stdout",
       "text": [
        "\n",
        "BT20 training PDK1_pS241"
       ]
      },
      {
       "output_type": "stream",
       "stream": "stdout",
       "text": [
        "\n",
        "BT20 training PEA15_pS116"
       ]
      },
      {
       "output_type": "stream",
       "stream": "stdout",
       "text": [
        "\n",
        "BT20 training PKC-alpha_pS657"
       ]
      },
      {
       "output_type": "stream",
       "stream": "stdout",
       "text": [
        "\n",
        "BT20 training PKC-delta_pS664"
       ]
      },
      {
       "output_type": "stream",
       "stream": "stdout",
       "text": [
        "\n",
        "BT20 training PKC-pan-betaII_pS660"
       ]
      },
      {
       "output_type": "stream",
       "stream": "stdout",
       "text": [
        "\n",
        "BT20 training PRAS40_pT246"
       ]
      },
      {
       "output_type": "stream",
       "stream": "stdout",
       "text": [
        "\n",
        "BT20 training Rb_pS807_S811"
       ]
      },
      {
       "output_type": "stream",
       "stream": "stdout",
       "text": [
        "\n",
        "BT20 training Rictor_pT1135"
       ]
      },
      {
       "output_type": "stream",
       "stream": "stdout",
       "text": [
        "\n",
        "BT20 training S6_pS235_S236"
       ]
      },
      {
       "output_type": "stream",
       "stream": "stdout",
       "text": [
        "\n",
        "BT20 training S6_pS240_S244"
       ]
      },
      {
       "output_type": "stream",
       "stream": "stdout",
       "text": [
        "\n",
        "BT20 training Src_pY416"
       ]
      },
      {
       "output_type": "stream",
       "stream": "stdout",
       "text": [
        "\n",
        "BT20 training Src_pY527"
       ]
      },
      {
       "output_type": "stream",
       "stream": "stdout",
       "text": [
        "\n",
        "BT20 training STAT3_pY705"
       ]
      },
      {
       "output_type": "stream",
       "stream": "stdout",
       "text": [
        "\n",
        "BT20 training YAP_pS127"
       ]
      },
      {
       "output_type": "stream",
       "stream": "stdout",
       "text": [
        "\n",
        "BT20 training YB-1_PS102"
       ]
      },
      {
       "output_type": "stream",
       "stream": "stdout",
       "text": [
        "\n",
        "TestInhib1"
       ]
      },
      {
       "output_type": "stream",
       "stream": "stdout",
       "text": [
        "\n",
        "TestInhib2"
       ]
      },
      {
       "output_type": "stream",
       "stream": "stdout",
       "text": [
        "\n",
        "TestInhib3"
       ]
      },
      {
       "output_type": "stream",
       "stream": "stdout",
       "text": [
        "\n",
        "TestInhib4"
       ]
      },
      {
       "output_type": "stream",
       "stream": "stdout",
       "text": [
        "\n",
        "TestInhib5"
       ]
      },
      {
       "output_type": "stream",
       "stream": "stdout",
       "text": [
        "\n",
        "Experimental"
       ]
      },
      {
       "output_type": "stream",
       "stream": "stdout",
       "text": [
        "\n",
        "Experimental"
       ]
      },
      {
       "output_type": "stream",
       "stream": "stdout",
       "text": [
        "\n",
        "Experimental"
       ]
      },
      {
       "output_type": "stream",
       "stream": "stdout",
       "text": [
        "\n",
        "Experimental"
       ]
      },
      {
       "output_type": "stream",
       "stream": "stdout",
       "text": [
        "\n",
        "Experimental"
       ]
      },
      {
       "output_type": "stream",
       "stream": "stdout",
       "text": [
        "\n",
        "BT549"
       ]
      },
      {
       "output_type": "stream",
       "stream": "stdout",
       "text": [
        "\n",
        "BT549 training 4EBP1_pS65"
       ]
      },
      {
       "output_type": "stream",
       "stream": "stdout",
       "text": [
        "\n",
        "BT549 training 4EBP1_pT37_pT46"
       ]
      },
      {
       "output_type": "stream",
       "stream": "stdout",
       "text": [
        "\n",
        "BT549 training ACC_pS79"
       ]
      },
      {
       "output_type": "stream",
       "stream": "stdout",
       "text": [
        "\n",
        "BT549 training AKT_pS473"
       ]
      },
      {
       "output_type": "stream",
       "stream": "stdout",
       "text": [
        "\n",
        "BT549 training AKT_pT308"
       ]
      },
      {
       "output_type": "stream",
       "stream": "stdout",
       "text": [
        "\n",
        "BT549 training AMPK_pT172"
       ]
      },
      {
       "output_type": "stream",
       "stream": "stdout",
       "text": [
        "\n",
        "BT549 training BAD_pS112"
       ]
      },
      {
       "output_type": "stream",
       "stream": "stdout",
       "text": [
        "\n",
        "BT549 training c-Met_pY1235"
       ]
      },
      {
       "output_type": "stream",
       "stream": "stdout",
       "text": [
        "\n",
        "BT549 training c-Raf_pS338"
       ]
      },
      {
       "output_type": "stream",
       "stream": "stdout",
       "text": [
        "\n",
        "BT549 training CHK1_pS345"
       ]
      },
      {
       "output_type": "stream",
       "stream": "stdout",
       "text": [
        "\n",
        "BT549 training CHK2_pT68"
       ]
      },
      {
       "output_type": "stream",
       "stream": "stdout",
       "text": [
        "\n",
        "BT549 training EGFR_pY1068"
       ]
      },
      {
       "output_type": "stream",
       "stream": "stdout",
       "text": [
        "\n",
        "BT549 training EGFR_pY1173"
       ]
      },
      {
       "output_type": "stream",
       "stream": "stdout",
       "text": [
        "\n",
        "BT549 training ER-alpha_pS118"
       ]
      },
      {
       "output_type": "stream",
       "stream": "stdout",
       "text": [
        "\n",
        "BT549 training GSK3-alpha-beta_pS21_S9"
       ]
      },
      {
       "output_type": "stream",
       "stream": "stdout",
       "text": [
        "\n",
        "BT549 training GSK3-alpha-beta_pS9"
       ]
      },
      {
       "output_type": "stream",
       "stream": "stdout",
       "text": [
        "\n",
        "BT549 training HER2_pY1248"
       ]
      },
      {
       "output_type": "stream",
       "stream": "stdout",
       "text": [
        "\n",
        "BT549 training HER3_pY1298"
       ]
      },
      {
       "output_type": "stream",
       "stream": "stdout",
       "text": [
        "\n",
        "BT549 training JNK_pT183_pT185"
       ]
      },
      {
       "output_type": "stream",
       "stream": "stdout",
       "text": [
        "\n",
        "BT549 training MAPK_pT202_Y204"
       ]
      },
      {
       "output_type": "stream",
       "stream": "stdout",
       "text": [
        "\n",
        "BT549 training MEK1_pS217_S221"
       ]
      },
      {
       "output_type": "stream",
       "stream": "stdout",
       "text": [
        "\n",
        "BT549 training mTOR_pS2448"
       ]
      },
      {
       "output_type": "stream",
       "stream": "stdout",
       "text": [
        "\n",
        "BT549 training NDRG1_pT346"
       ]
      },
      {
       "output_type": "stream",
       "stream": "stdout",
       "text": [
        "\n",
        "BT549 training NF-kB-p65_pS536"
       ]
      },
      {
       "output_type": "stream",
       "stream": "stdout",
       "text": [
        "\n",
        "BT549 training p27_pT157"
       ]
      },
      {
       "output_type": "stream",
       "stream": "stdout",
       "text": [
        "\n",
        "BT549 training p27_pT198"
       ]
      },
      {
       "output_type": "stream",
       "stream": "stdout",
       "text": [
        "\n",
        "BT549 training p38_pT180_Y182"
       ]
      },
      {
       "output_type": "stream",
       "stream": "stdout",
       "text": [
        "\n",
        "BT549 training p70S6K_pT389"
       ]
      },
      {
       "output_type": "stream",
       "stream": "stdout",
       "text": [
        "\n",
        "BT549 training p90RSK_pT359_S363"
       ]
      },
      {
       "output_type": "stream",
       "stream": "stdout",
       "text": [
        "\n",
        "BT549 training PDK1_pS241"
       ]
      },
      {
       "output_type": "stream",
       "stream": "stdout",
       "text": [
        "\n",
        "BT549 training PEA15_pS116"
       ]
      },
      {
       "output_type": "stream",
       "stream": "stdout",
       "text": [
        "\n",
        "BT549 training PKC-alpha_pS657"
       ]
      },
      {
       "output_type": "stream",
       "stream": "stdout",
       "text": [
        "\n",
        "BT549 training PKC-delta_pS664"
       ]
      },
      {
       "output_type": "stream",
       "stream": "stdout",
       "text": [
        "\n",
        "BT549 training PKC-pan-betaII_pS660"
       ]
      },
      {
       "output_type": "stream",
       "stream": "stdout",
       "text": [
        "\n",
        "BT549 training PRAS40_pT246"
       ]
      },
      {
       "output_type": "stream",
       "stream": "stdout",
       "text": [
        "\n",
        "BT549 training Rb_pS807_S811"
       ]
      },
      {
       "output_type": "stream",
       "stream": "stdout",
       "text": [
        "\n",
        "BT549 training Rictor_pT1135"
       ]
      },
      {
       "output_type": "stream",
       "stream": "stdout",
       "text": [
        "\n",
        "BT549 training S6_pS235_S236"
       ]
      },
      {
       "output_type": "stream",
       "stream": "stdout",
       "text": [
        "\n",
        "BT549 training S6_pS240_S244"
       ]
      },
      {
       "output_type": "stream",
       "stream": "stdout",
       "text": [
        "\n",
        "BT549 training Src_pY416"
       ]
      },
      {
       "output_type": "stream",
       "stream": "stdout",
       "text": [
        "\n",
        "BT549 training Src_pY527"
       ]
      },
      {
       "output_type": "stream",
       "stream": "stdout",
       "text": [
        "\n",
        "BT549 training STAT3_pY705"
       ]
      },
      {
       "output_type": "stream",
       "stream": "stdout",
       "text": [
        "\n",
        "BT549 training YAP_pS127"
       ]
      },
      {
       "output_type": "stream",
       "stream": "stdout",
       "text": [
        "\n",
        "BT549 training YB-1_PS102"
       ]
      },
      {
       "output_type": "stream",
       "stream": "stdout",
       "text": [
        "\n",
        "TestInhib1"
       ]
      },
      {
       "output_type": "stream",
       "stream": "stdout",
       "text": [
        "\n",
        "TestInhib2"
       ]
      },
      {
       "output_type": "stream",
       "stream": "stdout",
       "text": [
        "\n",
        "TestInhib3"
       ]
      },
      {
       "output_type": "stream",
       "stream": "stdout",
       "text": [
        "\n",
        "TestInhib4"
       ]
      },
      {
       "output_type": "stream",
       "stream": "stdout",
       "text": [
        "\n",
        "TestInhib5"
       ]
      },
      {
       "output_type": "stream",
       "stream": "stdout",
       "text": [
        "\n",
        "Experimental"
       ]
      },
      {
       "output_type": "stream",
       "stream": "stdout",
       "text": [
        "\n",
        "Experimental"
       ]
      },
      {
       "output_type": "stream",
       "stream": "stdout",
       "text": [
        "\n",
        "Experimental"
       ]
      },
      {
       "output_type": "stream",
       "stream": "stdout",
       "text": [
        "\n",
        "Experimental"
       ]
      },
      {
       "output_type": "stream",
       "stream": "stdout",
       "text": [
        "\n",
        "Experimental"
       ]
      },
      {
       "output_type": "stream",
       "stream": "stdout",
       "text": [
        "\n",
        "MCF7"
       ]
      },
      {
       "output_type": "stream",
       "stream": "stdout",
       "text": [
        "\n",
        "MCF7 training 4EBP1_pS65"
       ]
      },
      {
       "output_type": "stream",
       "stream": "stdout",
       "text": [
        "\n",
        "MCF7 training ACC_pS79"
       ]
      },
      {
       "output_type": "stream",
       "stream": "stdout",
       "text": [
        "\n",
        "MCF7 training AKT_pS473"
       ]
      },
      {
       "output_type": "stream",
       "stream": "stdout",
       "text": [
        "\n",
        "MCF7 training AKT_pT308"
       ]
      },
      {
       "output_type": "stream",
       "stream": "stdout",
       "text": [
        "\n",
        "MCF7 training AMPK_pT172"
       ]
      },
      {
       "output_type": "stream",
       "stream": "stdout",
       "text": [
        "\n",
        "MCF7 training BAD_pS112"
       ]
      },
      {
       "output_type": "stream",
       "stream": "stdout",
       "text": [
        "\n",
        "MCF7 training c-JUN_pS73"
       ]
      },
      {
       "output_type": "stream",
       "stream": "stdout",
       "text": [
        "\n",
        "MCF7 training c-Met_pY1235"
       ]
      },
      {
       "output_type": "stream",
       "stream": "stdout",
       "text": [
        "\n",
        "MCF7 training c-Raf_pS338"
       ]
      },
      {
       "output_type": "stream",
       "stream": "stdout",
       "text": [
        "\n",
        "MCF7 training CHK1_pS345"
       ]
      },
      {
       "output_type": "stream",
       "stream": "stdout",
       "text": [
        "\n",
        "MCF7 training CHK2_pT68"
       ]
      },
      {
       "output_type": "stream",
       "stream": "stdout",
       "text": [
        "\n",
        "MCF7 training EGFR_pY1068"
       ]
      },
      {
       "output_type": "stream",
       "stream": "stdout",
       "text": [
        "\n",
        "MCF7 training EGFR_pY1173"
       ]
      },
      {
       "output_type": "stream",
       "stream": "stdout",
       "text": [
        "\n",
        "MCF7 training EGFR_pY992"
       ]
      },
      {
       "output_type": "stream",
       "stream": "stdout",
       "text": [
        "\n",
        "MCF7 training ER-alpha_pS118"
       ]
      },
      {
       "output_type": "stream",
       "stream": "stdout",
       "text": [
        "\n",
        "MCF7 training GSK3-alpha-beta_pS21_S9"
       ]
      },
      {
       "output_type": "stream",
       "stream": "stdout",
       "text": [
        "\n",
        "MCF7 training GSK3-alpha-beta_pS9"
       ]
      },
      {
       "output_type": "stream",
       "stream": "stdout",
       "text": [
        "\n",
        "MCF7 training HER2_pY1248"
       ]
      },
      {
       "output_type": "stream",
       "stream": "stdout",
       "text": [
        "\n",
        "MCF7 training JNK_pT183_pT185"
       ]
      },
      {
       "output_type": "stream",
       "stream": "stdout",
       "text": [
        "\n",
        "MCF7 training MAPK_pT202_Y204"
       ]
      },
      {
       "output_type": "stream",
       "stream": "stdout",
       "text": [
        "\n",
        "MCF7 training MEK1_pS217_S221"
       ]
      },
      {
       "output_type": "stream",
       "stream": "stdout",
       "text": [
        "\n",
        "MCF7 training mTOR_pS2448"
       ]
      },
      {
       "output_type": "stream",
       "stream": "stdout",
       "text": [
        "\n",
        "MCF7 training NF-kB-p65_pS536"
       ]
      },
      {
       "output_type": "stream",
       "stream": "stdout",
       "text": [
        "\n",
        "MCF7 training p27_pT157"
       ]
      },
      {
       "output_type": "stream",
       "stream": "stdout",
       "text": [
        "\n",
        "MCF7 training p27_pT198"
       ]
      },
      {
       "output_type": "stream",
       "stream": "stdout",
       "text": [
        "\n",
        "MCF7 training p38_pT180_Y182"
       ]
      },
      {
       "output_type": "stream",
       "stream": "stdout",
       "text": [
        "\n",
        "MCF7 training p70S6K_pT389"
       ]
      },
      {
       "output_type": "stream",
       "stream": "stdout",
       "text": [
        "\n",
        "MCF7 training p90RSK_pT359_S363"
       ]
      },
      {
       "output_type": "stream",
       "stream": "stdout",
       "text": [
        "\n",
        "MCF7 training PDK1_pS241"
       ]
      },
      {
       "output_type": "stream",
       "stream": "stdout",
       "text": [
        "\n",
        "MCF7 training PKC-alpha_pS657"
       ]
      },
      {
       "output_type": "stream",
       "stream": "stdout",
       "text": [
        "\n",
        "MCF7 training PRAS40_pT246"
       ]
      },
      {
       "output_type": "stream",
       "stream": "stdout",
       "text": [
        "\n",
        "MCF7 training Rb_pS807_S811"
       ]
      },
      {
       "output_type": "stream",
       "stream": "stdout",
       "text": [
        "\n",
        "MCF7 training S6_pS235_S236"
       ]
      },
      {
       "output_type": "stream",
       "stream": "stdout",
       "text": [
        "\n",
        "MCF7 training S6_pS240_S244"
       ]
      },
      {
       "output_type": "stream",
       "stream": "stdout",
       "text": [
        "\n",
        "MCF7 training Src_pY416"
       ]
      },
      {
       "output_type": "stream",
       "stream": "stdout",
       "text": [
        "\n",
        "MCF7 training Src_pY527"
       ]
      },
      {
       "output_type": "stream",
       "stream": "stdout",
       "text": [
        "\n",
        "MCF7 training STAT3_pY705"
       ]
      },
      {
       "output_type": "stream",
       "stream": "stdout",
       "text": [
        "\n",
        "MCF7 training YAP_pS127"
       ]
      },
      {
       "output_type": "stream",
       "stream": "stdout",
       "text": [
        "\n",
        "MCF7 training YB-1_PS102"
       ]
      },
      {
       "output_type": "stream",
       "stream": "stdout",
       "text": [
        "\n",
        "TestInhib1"
       ]
      },
      {
       "output_type": "stream",
       "stream": "stdout",
       "text": [
        "\n",
        "TestInhib2"
       ]
      },
      {
       "output_type": "stream",
       "stream": "stdout",
       "text": [
        "\n",
        "TestInhib3"
       ]
      },
      {
       "output_type": "stream",
       "stream": "stdout",
       "text": [
        "\n",
        "TestInhib4"
       ]
      },
      {
       "output_type": "stream",
       "stream": "stdout",
       "text": [
        "\n",
        "TestInhib5"
       ]
      },
      {
       "output_type": "stream",
       "stream": "stdout",
       "text": [
        "\n",
        "Experimental"
       ]
      },
      {
       "output_type": "stream",
       "stream": "stdout",
       "text": [
        "\n",
        "Experimental"
       ]
      },
      {
       "output_type": "stream",
       "stream": "stdout",
       "text": [
        "\n",
        "Experimental"
       ]
      },
      {
       "output_type": "stream",
       "stream": "stdout",
       "text": [
        "\n",
        "Experimental"
       ]
      },
      {
       "output_type": "stream",
       "stream": "stdout",
       "text": [
        "\n",
        "Experimental"
       ]
      },
      {
       "output_type": "stream",
       "stream": "stdout",
       "text": [
        "\n",
        "UACC812"
       ]
      },
      {
       "output_type": "stream",
       "stream": "stdout",
       "text": [
        "\n",
        "UACC812 training 4EBP1_pS65"
       ]
      },
      {
       "output_type": "stream",
       "stream": "stdout",
       "text": [
        "\n",
        "UACC812 training 4EBP1_pT37_pT46"
       ]
      },
      {
       "output_type": "stream",
       "stream": "stdout",
       "text": [
        "\n",
        "UACC812 training ACC_pS79"
       ]
      },
      {
       "output_type": "stream",
       "stream": "stdout",
       "text": [
        "\n",
        "UACC812 training AKT_pS473"
       ]
      },
      {
       "output_type": "stream",
       "stream": "stdout",
       "text": [
        "\n",
        "UACC812 training AKT_pT308"
       ]
      },
      {
       "output_type": "stream",
       "stream": "stdout",
       "text": [
        "\n",
        "UACC812 training AMPK_pT172"
       ]
      },
      {
       "output_type": "stream",
       "stream": "stdout",
       "text": [
        "\n",
        "UACC812 training BAD_pS112"
       ]
      },
      {
       "output_type": "stream",
       "stream": "stdout",
       "text": [
        "\n",
        "UACC812 training c-Met_pY1235"
       ]
      },
      {
       "output_type": "stream",
       "stream": "stdout",
       "text": [
        "\n",
        "UACC812 training c-Raf_pS338"
       ]
      },
      {
       "output_type": "stream",
       "stream": "stdout",
       "text": [
        "\n",
        "UACC812 training CHK1_pS345"
       ]
      },
      {
       "output_type": "stream",
       "stream": "stdout",
       "text": [
        "\n",
        "UACC812 training CHK2_pT68"
       ]
      },
      {
       "output_type": "stream",
       "stream": "stdout",
       "text": [
        "\n",
        "UACC812 training EGFR_pY1068"
       ]
      },
      {
       "output_type": "stream",
       "stream": "stdout",
       "text": [
        "\n",
        "UACC812 training EGFR_pY1173"
       ]
      },
      {
       "output_type": "stream",
       "stream": "stdout",
       "text": [
        "\n",
        "UACC812 training ER-alpha_pS118"
       ]
      },
      {
       "output_type": "stream",
       "stream": "stdout",
       "text": [
        "\n",
        "UACC812 training GSK3-alpha-beta_pS21_S9"
       ]
      },
      {
       "output_type": "stream",
       "stream": "stdout",
       "text": [
        "\n",
        "UACC812 training GSK3-alpha-beta_pS9"
       ]
      },
      {
       "output_type": "stream",
       "stream": "stdout",
       "text": [
        "\n",
        "UACC812 training HER2_pY1248"
       ]
      },
      {
       "output_type": "stream",
       "stream": "stdout",
       "text": [
        "\n",
        "UACC812 training HER3_pY1298"
       ]
      },
      {
       "output_type": "stream",
       "stream": "stdout",
       "text": [
        "\n",
        "UACC812 training JNK_pT183_pT185"
       ]
      },
      {
       "output_type": "stream",
       "stream": "stdout",
       "text": [
        "\n",
        "UACC812 training MAPK_pT202_Y204"
       ]
      },
      {
       "output_type": "stream",
       "stream": "stdout",
       "text": [
        "\n",
        "UACC812 training MEK1_pS217_S221"
       ]
      },
      {
       "output_type": "stream",
       "stream": "stdout",
       "text": [
        "\n",
        "UACC812 training mTOR_pS2448"
       ]
      },
      {
       "output_type": "stream",
       "stream": "stdout",
       "text": [
        "\n",
        "UACC812 training NDRG1_pT346"
       ]
      },
      {
       "output_type": "stream",
       "stream": "stdout",
       "text": [
        "\n",
        "UACC812 training NF-kB-p65_pS536"
       ]
      },
      {
       "output_type": "stream",
       "stream": "stdout",
       "text": [
        "\n",
        "UACC812 training p27_pT157"
       ]
      },
      {
       "output_type": "stream",
       "stream": "stdout",
       "text": [
        "\n",
        "UACC812 training p27_pT198"
       ]
      },
      {
       "output_type": "stream",
       "stream": "stdout",
       "text": [
        "\n",
        "UACC812 training p38_pT180_Y182"
       ]
      },
      {
       "output_type": "stream",
       "stream": "stdout",
       "text": [
        "\n",
        "UACC812 training p70S6K_pT389"
       ]
      },
      {
       "output_type": "stream",
       "stream": "stdout",
       "text": [
        "\n",
        "UACC812 training p90RSK_pT359_S363"
       ]
      },
      {
       "output_type": "stream",
       "stream": "stdout",
       "text": [
        "\n",
        "UACC812 training PDK1_pS241"
       ]
      },
      {
       "output_type": "stream",
       "stream": "stdout",
       "text": [
        "\n",
        "UACC812 training PEA15_pS116"
       ]
      },
      {
       "output_type": "stream",
       "stream": "stdout",
       "text": [
        "\n",
        "UACC812 training PKC-alpha_pS657"
       ]
      },
      {
       "output_type": "stream",
       "stream": "stdout",
       "text": [
        "\n",
        "UACC812 training PKC-delta_pS664"
       ]
      },
      {
       "output_type": "stream",
       "stream": "stdout",
       "text": [
        "\n",
        "UACC812 training PKC-pan-betaII_pS660"
       ]
      },
      {
       "output_type": "stream",
       "stream": "stdout",
       "text": [
        "\n",
        "UACC812 training PRAS40_pT246"
       ]
      },
      {
       "output_type": "stream",
       "stream": "stdout",
       "text": [
        "\n",
        "UACC812 training Rb_pS807_S811"
       ]
      },
      {
       "output_type": "stream",
       "stream": "stdout",
       "text": [
        "\n",
        "UACC812 training Rictor_pT1135"
       ]
      },
      {
       "output_type": "stream",
       "stream": "stdout",
       "text": [
        "\n",
        "UACC812 training S6_pS235_S236"
       ]
      },
      {
       "output_type": "stream",
       "stream": "stdout",
       "text": [
        "\n",
        "UACC812 training S6_pS240_S244"
       ]
      },
      {
       "output_type": "stream",
       "stream": "stdout",
       "text": [
        "\n",
        "UACC812 training Src_pY416"
       ]
      },
      {
       "output_type": "stream",
       "stream": "stdout",
       "text": [
        "\n",
        "UACC812 training Src_pY527"
       ]
      },
      {
       "output_type": "stream",
       "stream": "stdout",
       "text": [
        "\n",
        "UACC812 training STAT3_pY705"
       ]
      },
      {
       "output_type": "stream",
       "stream": "stdout",
       "text": [
        "\n",
        "UACC812 training YAP_pS127"
       ]
      },
      {
       "output_type": "stream",
       "stream": "stdout",
       "text": [
        "\n",
        "UACC812 training YB-1_PS102"
       ]
      },
      {
       "output_type": "stream",
       "stream": "stdout",
       "text": [
        "\n",
        "TestInhib1"
       ]
      },
      {
       "output_type": "stream",
       "stream": "stdout",
       "text": [
        "\n",
        "TestInhib2"
       ]
      },
      {
       "output_type": "stream",
       "stream": "stdout",
       "text": [
        "\n",
        "TestInhib3"
       ]
      },
      {
       "output_type": "stream",
       "stream": "stdout",
       "text": [
        "\n",
        "TestInhib4"
       ]
      },
      {
       "output_type": "stream",
       "stream": "stdout",
       "text": [
        "\n",
        "TestInhib5"
       ]
      },
      {
       "output_type": "stream",
       "stream": "stdout",
       "text": [
        "\n",
        "Experimental"
       ]
      },
      {
       "output_type": "stream",
       "stream": "stdout",
       "text": [
        "\n",
        "Experimental"
       ]
      },
      {
       "output_type": "stream",
       "stream": "stdout",
       "text": [
        "\n",
        "Experimental"
       ]
      },
      {
       "output_type": "stream",
       "stream": "stdout",
       "text": [
        "\n",
        "Experimental"
       ]
      },
      {
       "output_type": "stream",
       "stream": "stdout",
       "text": [
        "\n",
        "Experimental"
       ]
      },
      {
       "output_type": "stream",
       "stream": "stdout",
       "text": [
        "\n"
       ]
      }
     ],
     "prompt_number": 89
    },
    {
     "cell_type": "code",
     "collapsed": false,
     "input": [
      "stims"
     ],
     "language": "python",
     "metadata": {},
     "outputs": [
      {
       "metadata": {},
       "output_type": "pyout",
       "prompt_number": 76,
       "text": [
        "{'EGF', 'FGF1', 'HGF', 'IGF1', 'Insulin', 'NRG1', 'PBS', 'Serum'}"
       ]
      }
     ],
     "prompt_number": 76
    },
    {
     "cell_type": "code",
     "collapsed": false,
     "input": [],
     "language": "python",
     "metadata": {},
     "outputs": []
    }
   ],
   "metadata": {}
  }
 ]
}