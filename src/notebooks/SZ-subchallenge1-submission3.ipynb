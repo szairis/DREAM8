{
 "metadata": {
  "name": ""
 },
 "nbformat": 3,
 "nbformat_minor": 0,
 "worksheets": [
  {
   "cells": [
    {
     "cell_type": "code",
     "collapsed": false,
     "input": [
      "import numpy as np\n",
      "import pandas as pd\n",
      "import pydot as dot\n",
      "%matplotlib inline\n",
      "import matplotlib.pyplot as plt\n",
      "from IPython.display import Image, display\n",
      "from synthetic import gen_cantone, gen_xu\n",
      "from models import hill\n",
      "from utilities import plot_network, write_SIF_EDA, score_network"
     ],
     "language": "python",
     "metadata": {},
     "outputs": [],
     "prompt_number": 6
    },
    {
     "cell_type": "code",
     "collapsed": false,
     "input": [
      "insilico = pd.read_csv('../dat/insilico/CSV/insilico2.csv')"
     ],
     "language": "python",
     "metadata": {},
     "outputs": [],
     "prompt_number": 81
    },
    {
     "cell_type": "code",
     "collapsed": false,
     "input": [
      "insilico"
     ],
     "language": "python",
     "metadata": {},
     "outputs": [
      {
       "html": [
        "<pre>\n",
        "&lt;class 'pandas.core.frame.DataFrame'&gt;\n",
        "Int64Index: 660 entries, 0 to 659\n",
        "Data columns (total 24 columns):\n",
        "Cell Line    660  non-null values\n",
        "Inhibitor    660  non-null values\n",
        "Stimulus     660  non-null values\n",
        "Timepoint    660  non-null values\n",
        "AB01         660  non-null values\n",
        "AB02         660  non-null values\n",
        "AB03         660  non-null values\n",
        "AB04         660  non-null values\n",
        "AB05         660  non-null values\n",
        "AB06         660  non-null values\n",
        "AB07         660  non-null values\n",
        "AB08         660  non-null values\n",
        "AB09         660  non-null values\n",
        "AB10         660  non-null values\n",
        "AB11         660  non-null values\n",
        "AB12         660  non-null values\n",
        "AB13         660  non-null values\n",
        "AB14         660  non-null values\n",
        "AB15         660  non-null values\n",
        "AB16         660  non-null values\n",
        "AB17         660  non-null values\n",
        "AB18         660  non-null values\n",
        "AB19         660  non-null values\n",
        "AB20         660  non-null values\n",
        "dtypes: float64(20), int64(1), object(3)\n",
        "</pre>"
       ],
       "metadata": {},
       "output_type": "pyout",
       "prompt_number": 82,
       "text": [
        "<class 'pandas.core.frame.DataFrame'>\n",
        "Int64Index: 660 entries, 0 to 659\n",
        "Data columns (total 24 columns):\n",
        "Cell Line    660  non-null values\n",
        "Inhibitor    660  non-null values\n",
        "Stimulus     660  non-null values\n",
        "Timepoint    660  non-null values\n",
        "AB01         660  non-null values\n",
        "AB02         660  non-null values\n",
        "AB03         660  non-null values\n",
        "AB04         660  non-null values\n",
        "AB05         660  non-null values\n",
        "AB06         660  non-null values\n",
        "AB07         660  non-null values\n",
        "AB08         660  non-null values\n",
        "AB09         660  non-null values\n",
        "AB10         660  non-null values\n",
        "AB11         660  non-null values\n",
        "AB12         660  non-null values\n",
        "AB13         660  non-null values\n",
        "AB14         660  non-null values\n",
        "AB15         660  non-null values\n",
        "AB16         660  non-null values\n",
        "AB17         660  non-null values\n",
        "AB18         660  non-null values\n",
        "AB19         660  non-null values\n",
        "AB20         660  non-null values\n",
        "dtypes: float64(20), int64(1), object(3)"
       ]
      }
     ],
     "prompt_number": 82
    },
    {
     "cell_type": "code",
     "collapsed": false,
     "input": [
      "set(insilico['Inhibitor'])"
     ],
     "language": "python",
     "metadata": {},
     "outputs": [
      {
       "metadata": {},
       "output_type": "pyout",
       "prompt_number": 83,
       "text": [
        "{'INH1', 'INH2', 'INH3', 'None'}"
       ]
      }
     ],
     "prompt_number": 83
    },
    {
     "cell_type": "code",
     "collapsed": false,
     "input": [
      "set(insilico['Stimulus'])"
     ],
     "language": "python",
     "metadata": {},
     "outputs": [
      {
       "metadata": {},
       "output_type": "pyout",
       "prompt_number": 84,
       "text": [
        "{'hiLIG1+hiLIG2',\n",
        " 'hiLIG1+loLIG2',\n",
        " 'hiLIG1+noLIG2',\n",
        " 'loLIG1+hiLIG2',\n",
        " 'loLIG1+loLIG2',\n",
        " 'loLIG1+noLIG2',\n",
        " 'noLIG1+hiLIG2',\n",
        " 'noLIG1+loLIG2'}"
       ]
      }
     ],
     "prompt_number": 84
    },
    {
     "cell_type": "code",
     "collapsed": false,
     "input": [
      "hi1_hi2 = insilico[(insilico['Stimulus'] == 'hiLIG1+hiLIG2') & (insilico['Inhibitor'] == 'None')].groupby('Timepoint').mean()\n",
      "hi1_lo2 = insilico[(insilico['Stimulus'] == 'hiLIG1+loLIG2') & (insilico['Inhibitor'] == 'None')].groupby('Timepoint').mean()\n",
      "hi1_no2 = insilico[(insilico['Stimulus'] == 'hiLIG1+noLIG2') & (insilico['Inhibitor'] == 'None')].groupby('Timepoint').mean()\n",
      "lo1_hi2 = insilico[(insilico['Stimulus'] == 'loLIG1+hiLIG2') & (insilico['Inhibitor'] == 'None')].groupby('Timepoint').mean()\n",
      "lo1_lo2 = insilico[(insilico['Stimulus'] == 'loLIG1+loLIG2') & (insilico['Inhibitor'] == 'None')].groupby('Timepoint').mean()\n",
      "lo1_no2 = insilico[(insilico['Stimulus'] == 'loLIG1+noLIG2') & (insilico['Inhibitor'] == 'None')].groupby('Timepoint').mean()\n",
      "no1_hi2 = insilico[(insilico['Stimulus'] == 'noLIG1+hiLIG2') & (insilico['Inhibitor'] == 'None')].groupby('Timepoint').mean()\n",
      "no1_lo2 = insilico[(insilico['Stimulus'] == 'noLIG1+loLIG2') & (insilico['Inhibitor'] == 'None')].groupby('Timepoint').mean()"
     ],
     "language": "python",
     "metadata": {},
     "outputs": [],
     "prompt_number": 85
    },
    {
     "cell_type": "code",
     "collapsed": false,
     "input": [
      "total = {'hi1_hi2':hi1_hi2, 'hi1_lo2':hi1_lo2, 'hi1_no2':hi1_no2, 'lo1_hi2':lo1_hi2,\n",
      "         'lo1_lo2':lo1_lo2, 'lo1_no2':lo1_no2, 'no1_hi2':no1_hi2, 'no1_lo2':no1_lo2}"
     ],
     "language": "python",
     "metadata": {},
     "outputs": [],
     "prompt_number": 86
    },
    {
     "cell_type": "code",
     "collapsed": false,
     "input": [
      "panel = pd.Panel(total)\n",
      "arr = np.transpose(panel.values, axes=(2,1,0))\n",
      "print np.shape(arr)\n",
      "print panel.minor_axis\n",
      "#arr = np.array(panel)\n",
      "#np.shape(arr)\n",
      "#data = np.transpose(arr, axes=(2,1,0))\n"
     ],
     "language": "python",
     "metadata": {},
     "outputs": [
      {
       "output_type": "stream",
       "stream": "stdout",
       "text": [
        "(20, 11, 8)\n",
        "Index([u'AB01', u'AB02', u'AB03', u'AB04', u'AB05', u'AB06', u'AB07', u'AB08', u'AB09', u'AB10', u'AB11', u'AB12', u'AB13', u'AB14', u'AB15', u'AB16', u'AB17', u'AB18', u'AB19', u'AB20'], dtype=object)\n"
       ]
      }
     ],
     "prompt_number": 93
    },
    {
     "cell_type": "code",
     "collapsed": false,
     "input": [
      "prob, sign = hill(panel, maxtime=600)"
     ],
     "language": "python",
     "metadata": {},
     "outputs": [
      {
       "output_type": "stream",
       "stream": "stdout",
       "text": [
        "Starting MATLAB on http://localhost:52415\n",
        " visit http://localhost:52415/exit.m to shut down same\n"
       ]
      },
      {
       "output_type": "stream",
       "stream": "stdout",
       "text": [
        "."
       ]
      },
      {
       "output_type": "stream",
       "stream": "stdout",
       "text": [
        "."
       ]
      },
      {
       "output_type": "stream",
       "stream": "stdout",
       "text": [
        "MATLAB started and connected!\n",
        "MATLAB closed"
       ]
      },
      {
       "output_type": "stream",
       "stream": "stdout",
       "text": [
        "\n"
       ]
      }
     ],
     "prompt_number": 99
    },
    {
     "cell_type": "code",
     "collapsed": false,
     "input": [
      "plt.hist(np.array(prob))"
     ],
     "language": "python",
     "metadata": {},
     "outputs": [
      {
       "metadata": {},
       "output_type": "pyout",
       "prompt_number": 101,
       "text": [
        "([array([ 18.,   0.,   0.,   0.,   0.,   0.,   0.,   0.,   0.,   2.]),\n",
        "  array([ 17.,   0.,   0.,   0.,   0.,   0.,   0.,   0.,   1.,   2.]),\n",
        "  array([ 18.,   2.,   0.,   0.,   0.,   0.,   0.,   0.,   0.,   0.]),\n",
        "  array([ 18.,   0.,   0.,   0.,   0.,   0.,   0.,   0.,   1.,   1.]),\n",
        "  array([ 17.,   0.,   0.,   0.,   1.,   0.,   0.,   0.,   0.,   2.]),\n",
        "  array([ 15.,   2.,   0.,   0.,   1.,   1.,   0.,   0.,   0.,   1.]),\n",
        "  array([ 18.,   0.,   0.,   0.,   0.,   0.,   0.,   0.,   0.,   2.]),\n",
        "  array([ 13.,   2.,   0.,   2.,   2.,   0.,   0.,   0.,   0.,   1.]),\n",
        "  array([ 15.,   3.,   0.,   0.,   0.,   1.,   0.,   1.,   0.,   0.]),\n",
        "  array([ 17.,   0.,   0.,   1.,   1.,   0.,   0.,   0.,   0.,   1.]),\n",
        "  array([ 17.,   1.,   0.,   1.,   0.,   0.,   0.,   0.,   1.,   0.]),\n",
        "  array([ 18.,   0.,   0.,   0.,   0.,   1.,   0.,   0.,   0.,   1.]),\n",
        "  array([ 19.,   1.,   0.,   0.,   0.,   0.,   0.,   0.,   0.,   0.]),\n",
        "  array([ 17.,   1.,   0.,   0.,   0.,   0.,   0.,   0.,   0.,   2.]),\n",
        "  array([ 17.,   1.,   0.,   0.,   0.,   0.,   1.,   0.,   0.,   1.]),\n",
        "  array([ 15.,   2.,   2.,   0.,   0.,   0.,   1.,   0.,   0.,   0.]),\n",
        "  array([ 16.,   0.,   2.,   0.,   0.,   0.,   1.,   0.,   0.,   1.]),\n",
        "  array([ 18.,   1.,   0.,   1.,   0.,   0.,   0.,   0.,   0.,   0.]),\n",
        "  array([ 17.,   1.,   0.,   0.,   0.,   0.,   0.,   1.,   0.,   1.]),\n",
        "  array([ 17.,   0.,   0.,   0.,   0.,   0.,   0.,   0.,   0.,   3.])],\n",
        " array([  2.53784707e-08,   1.00000023e-01,   2.00000020e-01,\n",
        "         3.00000018e-01,   4.00000015e-01,   5.00000013e-01,\n",
        "         6.00000010e-01,   7.00000008e-01,   8.00000005e-01,\n",
        "         9.00000003e-01,   1.00000000e+00]),\n",
        " <a list of 20 Lists of Patches objects>)"
       ]
      },
      {
       "metadata": {},
       "output_type": "display_data",
       "png": "[encoded data removed]",
       "text": [
        "<matplotlib.figure.Figure at 0x1131d5350>"
       ]
      }
     ],
     "prompt_number": 101
    },
    {
     "cell_type": "code",
     "collapsed": false,
     "input": [
      "prob[prob < 0.1] = 0"
     ],
     "language": "python",
     "metadata": {},
     "outputs": [],
     "prompt_number": 103
    },
    {
     "cell_type": "code",
     "collapsed": false,
     "input": [
      "plt.matshow(prob)"
     ],
     "language": "python",
     "metadata": {},
     "outputs": [
      {
       "metadata": {},
       "output_type": "pyout",
       "prompt_number": 105,
       "text": [
        "<matplotlib.image.AxesImage at 0x111f21210>"
       ]
      },
      {
       "metadata": {},
       "output_type": "display_data",
       "png": "[encoded data removed]",
       "text": [
        "<matplotlib.figure.Figure at 0x112e37fd0>"
       ]
      }
     ],
     "prompt_number": 105
    },
    {
     "cell_type": "code",
     "collapsed": false,
     "input": [
      "prob.columns"
     ],
     "language": "python",
     "metadata": {},
     "outputs": [
      {
       "metadata": {},
       "output_type": "pyout",
       "prompt_number": 106,
       "text": [
        "Index([u'AB01', u'AB02', u'AB03', u'AB04', u'AB05', u'AB06', u'AB07', u'AB08', u'AB09', u'AB10', u'AB11', u'AB12', u'AB13', u'AB14', u'AB15', u'AB16', u'AB17', u'AB18', u'AB19', u'AB20'], dtype=object)"
       ]
      }
     ],
     "prompt_number": 106
    },
    {
     "cell_type": "code",
     "collapsed": false,
     "input": [
      "import models"
     ],
     "language": "python",
     "metadata": {},
     "outputs": [],
     "prompt_number": 23
    },
    {
     "cell_type": "code",
     "collapsed": false,
     "input": [
      "reload(models)"
     ],
     "language": "python",
     "metadata": {},
     "outputs": [
      {
       "metadata": {},
       "output_type": "pyout",
       "prompt_number": 24,
       "text": [
        "<module 'models' from 'models.pyc'>"
       ]
      }
     ],
     "prompt_number": 24
    },
    {
     "cell_type": "code",
     "collapsed": false,
     "input": [
      "from models import hill"
     ],
     "language": "python",
     "metadata": {},
     "outputs": [],
     "prompt_number": 97
    },
    {
     "cell_type": "code",
     "collapsed": false,
     "input": [
      "path = '../subchallenge1/submission3/sakev-Network-Insilico/sakev-Network-Insilico'\n",
      "write_SIF_EDA(prob, path)"
     ],
     "language": "python",
     "metadata": {},
     "outputs": [],
     "prompt_number": 107
    },
    {
     "cell_type": "code",
     "collapsed": false,
     "input": [
      "prior_bt20 = pd.DataFrame(np.zeros((46,46)), index=bt20_egf.columns, columns=bt20_egf.columns)\n",
      "x = pd.read_csv('../subchallenge1/submission1/sakevin-Network/sakevin-BT20-EGF-Network.sif"
     ],
     "language": "python",
     "metadata": {},
     "outputs": [],
     "prompt_number": 216
    },
    {
     "cell_type": "code",
     "collapsed": false,
     "input": [
      "bt20 = pd.read_csv('../dat/experimental/CSV/BT20_main.csv')\n",
      "#bt549 = pd.read_csv('../dat/experimental/CSV/BT549_main.kje.csv')\n",
      "#del bt549['TAZ_pS89']\n",
      "#mcf7 = pd.read_csv('../dat/experimental/CSV/MCF7_main.kje.csv')\n",
      "#del mcf7['FOXO3a_pS318_S321']\n",
      "#del mcf7['TAZ_pS89']\n",
      "#uacc812 = pd.read_csv('../dat/experimental/CSV/UACC812_main.kje.csv')\n",
      "#del uacc812['TAZ_pS89']"
     ],
     "language": "python",
     "metadata": {},
     "outputs": [],
     "prompt_number": 7
    },
    {
     "cell_type": "code",
     "collapsed": false,
     "input": [
      "np.shape(bt20)"
     ],
     "language": "python",
     "metadata": {},
     "outputs": [
      {
       "metadata": {},
       "output_type": "pyout",
       "prompt_number": 8,
       "text": [
        "(623, 50)"
       ]
      }
     ],
     "prompt_number": 8
    },
    {
     "cell_type": "code",
     "collapsed": false,
     "input": [
      "set(bt20['Stimulus'])"
     ],
     "language": "python",
     "metadata": {},
     "outputs": [
      {
       "metadata": {},
       "output_type": "pyout",
       "prompt_number": 9,
       "text": [
        "{'EGF', 'FGF1', 'HGF', 'IGF1', 'Insulin', 'NRG1', 'PBS', 'Serum'}"
       ]
      }
     ],
     "prompt_number": 9
    },
    {
     "cell_type": "code",
     "collapsed": false,
     "input": [
      "bt20_egf = bt20[(bt20['Stimulus'] == 'EGF') & (bt20['Inhibitor'] == 'DMSO')].groupby('Timepoint').mean()\n",
      "bt20_fgf1 = bt20[(bt20['Stimulus'] == 'FGF1') & (bt20['Inhibitor'] == 'DMSO')].groupby('Timepoint').mean()\n",
      "bt20_hgf = bt20[(bt20['Stimulus'] == 'HGF') & (bt20['Inhibitor'] == 'DMSO')].groupby('Timepoint').mean()\n",
      "bt20_igf1 = bt20[(bt20['Stimulus'] == 'IGF1') & (bt20['Inhibitor'] == 'DMSO')].groupby('Timepoint').mean()\n",
      "bt20_insulin = bt20[(bt20['Stimulus'] == 'Insulin') & (bt20['Inhibitor'] == 'DMSO')].groupby('Timepoint').mean()\n",
      "bt20_nrg1 = bt20[(bt20['Stimulus'] == 'NRG1') & (bt20['Inhibitor'] == 'DMSO')].groupby('Timepoint').mean()\n",
      "bt20_pbs = bt20[(bt20['Stimulus'] == 'PBS') & (bt20['Inhibitor'] == 'DMSO')].groupby('Timepoint').mean()\n",
      "bt20_serum = bt20[(bt20['Stimulus'] == 'Serum') & (bt20['Inhibitor'] == 'DMSO')].groupby('Timepoint').mean()"
     ],
     "language": "python",
     "metadata": {},
     "outputs": [],
     "prompt_number": 10
    },
    {
     "cell_type": "code",
     "collapsed": false,
     "input": [
      "bt20_nrg1.shape"
     ],
     "language": "python",
     "metadata": {},
     "outputs": [
      {
       "metadata": {},
       "output_type": "pyout",
       "prompt_number": 17,
       "text": [
        "(7, 46)"
       ]
      }
     ],
     "prompt_number": 17
    },
    {
     "cell_type": "code",
     "collapsed": false,
     "input": [
      "total = {'egf':bt20_egf, 'hgf':bt20_hgf, 'igf1':bt20_igf1, 'nrg1':bt20_nrg1,\n",
      "         'pbs':bt20_pbs, 'serum':bt20_serum, 'fgf1':bt20_fgf1, 'insulin':bt20_insulin}"
     ],
     "language": "python",
     "metadata": {},
     "outputs": [],
     "prompt_number": 18
    },
    {
     "cell_type": "code",
     "collapsed": false,
     "input": [
      "panel = pd.Panel(total)"
     ],
     "language": "python",
     "metadata": {},
     "outputs": [],
     "prompt_number": 19
    },
    {
     "cell_type": "code",
     "collapsed": false,
     "input": [
      "panel.shape"
     ],
     "language": "python",
     "metadata": {},
     "outputs": [
      {
       "metadata": {},
       "output_type": "pyout",
       "prompt_number": 20,
       "text": [
        "(8, 7, 46)"
       ]
      }
     ],
     "prompt_number": 20
    },
    {
     "cell_type": "code",
     "collapsed": false,
     "input": [
      "prob, sign = hill(panel, maxtime=600)"
     ],
     "language": "python",
     "metadata": {},
     "outputs": [
      {
       "output_type": "stream",
       "stream": "stdout",
       "text": [
        "Starting MATLAB on http://localhost:64027\n",
        " visit http://localhost:64027/exit.m to shut down same\n"
       ]
      },
      {
       "output_type": "stream",
       "stream": "stdout",
       "text": [
        "."
       ]
      },
      {
       "output_type": "stream",
       "stream": "stdout",
       "text": [
        "."
       ]
      },
      {
       "output_type": "stream",
       "stream": "stdout",
       "text": [
        "."
       ]
      },
      {
       "output_type": "stream",
       "stream": "stdout",
       "text": [
        "."
       ]
      },
      {
       "output_type": "stream",
       "stream": "stdout",
       "text": [
        "."
       ]
      },
      {
       "ename": "ValueError",
       "evalue": "No JSON object could be decoded",
       "output_type": "pyerr",
       "traceback": [
        "\u001b[0;31m---------------------------------------------------------------------------\u001b[0m\n\u001b[0;31mValueError\u001b[0m                                Traceback (most recent call last)",
        "\u001b[0;32m<ipython-input-21-effe19e891fd>\u001b[0m in \u001b[0;36m<module>\u001b[0;34m()\u001b[0m\n\u001b[0;32m----> 1\u001b[0;31m \u001b[0mprob\u001b[0m\u001b[0;34m,\u001b[0m \u001b[0msign\u001b[0m \u001b[0;34m=\u001b[0m \u001b[0mhill\u001b[0m\u001b[0;34m(\u001b[0m\u001b[0mpanel\u001b[0m\u001b[0;34m,\u001b[0m \u001b[0mmaxtime\u001b[0m\u001b[0;34m=\u001b[0m\u001b[0;36m600\u001b[0m\u001b[0;34m)\u001b[0m\u001b[0;34m\u001b[0m\u001b[0m\n\u001b[0m",
        "\u001b[0;32m/Users/sakellarios/Documents/MD-PhD/5-Research/DREAM8/src/models.py\u001b[0m in \u001b[0;36mhill\u001b[0;34m(panel, prior_graph, lambdas, max_indegree, reg_mode, stdise, silent, maxtime)\u001b[0m\n\u001b[1;32m     43\u001b[0m \u001b[0;34m\u001b[0m\u001b[0m\n\u001b[1;32m     44\u001b[0m     \u001b[0;31m# call DBN code\u001b[0m\u001b[0;34m\u001b[0m\u001b[0;34m\u001b[0m\u001b[0m\n\u001b[0;32m---> 45\u001b[0;31m     \u001b[0mres\u001b[0m \u001b[0;34m=\u001b[0m \u001b[0mmlab\u001b[0m\u001b[0;34m.\u001b[0m\u001b[0mrun_func\u001b[0m\u001b[0;34m(\u001b[0m\u001b[0;34m'dbn_wrapper.m'\u001b[0m\u001b[0;34m,\u001b[0m \u001b[0margs\u001b[0m\u001b[0;34m,\u001b[0m \u001b[0mmaxtime\u001b[0m\u001b[0;34m=\u001b[0m\u001b[0mmaxtime\u001b[0m\u001b[0;34m)\u001b[0m\u001b[0;34m\u001b[0m\u001b[0m\n\u001b[0m\u001b[1;32m     46\u001b[0m \u001b[0;34m\u001b[0m\u001b[0m\n\u001b[1;32m     47\u001b[0m     \u001b[0mmlab\u001b[0m\u001b[0;34m.\u001b[0m\u001b[0mstop\u001b[0m\u001b[0;34m(\u001b[0m\u001b[0;34m)\u001b[0m\u001b[0;34m\u001b[0m\u001b[0m\n",
        "\u001b[0;32m/opt/local/Library/Frameworks/Python.framework/Versions/2.7/lib/python2.7/site-packages/pymatbridge/pymatbridge.pyc\u001b[0m in \u001b[0;36mrun_func\u001b[0;34m(self, func_path, func_args, maxtime)\u001b[0m\n\u001b[1;32m    153\u001b[0m             \u001b[0mpage_args\u001b[0m\u001b[0;34m[\u001b[0m\u001b[0;34m'arguments'\u001b[0m\u001b[0;34m]\u001b[0m \u001b[0;34m=\u001b[0m \u001b[0mjson\u001b[0m\u001b[0;34m.\u001b[0m\u001b[0mdumps\u001b[0m\u001b[0;34m(\u001b[0m\u001b[0mfunc_args\u001b[0m\u001b[0;34m)\u001b[0m\u001b[0;34m\u001b[0m\u001b[0m\n\u001b[1;32m    154\u001b[0m         \u001b[0;32mif\u001b[0m \u001b[0mmaxtime\u001b[0m\u001b[0;34m:\u001b[0m\u001b[0;34m\u001b[0m\u001b[0m\n\u001b[0;32m--> 155\u001b[0;31m             \u001b[0mresult\u001b[0m \u001b[0;34m=\u001b[0m \u001b[0mself\u001b[0m\u001b[0;34m.\u001b[0m\u001b[0m_open_page\u001b[0m\u001b[0;34m(\u001b[0m\u001b[0mself\u001b[0m\u001b[0;34m.\u001b[0m\u001b[0mfeval\u001b[0m\u001b[0;34m,\u001b[0m \u001b[0mpage_args\u001b[0m\u001b[0;34m,\u001b[0m \u001b[0mmaxtime\u001b[0m\u001b[0;34m)\u001b[0m\u001b[0;34m\u001b[0m\u001b[0m\n\u001b[0m\u001b[1;32m    156\u001b[0m         \u001b[0;32melse\u001b[0m\u001b[0;34m:\u001b[0m\u001b[0;34m\u001b[0m\u001b[0m\n\u001b[1;32m    157\u001b[0m             \u001b[0mresult\u001b[0m \u001b[0;34m=\u001b[0m \u001b[0mself\u001b[0m\u001b[0;34m.\u001b[0m\u001b[0m_open_page\u001b[0m\u001b[0;34m(\u001b[0m\u001b[0mself\u001b[0m\u001b[0;34m.\u001b[0m\u001b[0mfeval\u001b[0m\u001b[0;34m,\u001b[0m \u001b[0mpage_args\u001b[0m\u001b[0;34m)\u001b[0m\u001b[0;34m\u001b[0m\u001b[0m\n",
        "\u001b[0;32m/opt/local/Library/Frameworks/Python.framework/Versions/2.7/lib/python2.7/site-packages/pymatbridge/pymatbridge.pyc\u001b[0m in \u001b[0;36m_open_page\u001b[0;34m(self, page_name, arguments, timeout)\u001b[0m\n\u001b[1;32m    206\u001b[0m         \u001b[0;31m# Keep new-lines:\u001b[0m\u001b[0;34m\u001b[0m\u001b[0;34m\u001b[0m\u001b[0m\n\u001b[1;32m    207\u001b[0m         \u001b[0mread_page\u001b[0m \u001b[0;34m=\u001b[0m \u001b[0mread_page\u001b[0m\u001b[0;34m.\u001b[0m\u001b[0mreplace\u001b[0m\u001b[0;34m(\u001b[0m\u001b[0;34m\"\\n\"\u001b[0m\u001b[0;34m,\u001b[0m\u001b[0;34m\"\\\\n\"\u001b[0m\u001b[0;34m)\u001b[0m\u001b[0;34m\u001b[0m\u001b[0m\n\u001b[0;32m--> 208\u001b[0;31m         \u001b[0;32mreturn\u001b[0m \u001b[0mjson\u001b[0m\u001b[0;34m.\u001b[0m\u001b[0mloads\u001b[0m\u001b[0;34m(\u001b[0m\u001b[0mread_page\u001b[0m\u001b[0;34m)\u001b[0m\u001b[0;34m\u001b[0m\u001b[0m\n\u001b[0m\u001b[1;32m    209\u001b[0m \u001b[0;34m\u001b[0m\u001b[0m\n\u001b[1;32m    210\u001b[0m \u001b[0;34m\u001b[0m\u001b[0m\n",
        "\u001b[0;32m/opt/local/Library/Frameworks/Python.framework/Versions/2.7/lib/python2.7/json/__init__.pyc\u001b[0m in \u001b[0;36mloads\u001b[0;34m(s, encoding, cls, object_hook, parse_float, parse_int, parse_constant, object_pairs_hook, **kw)\u001b[0m\n\u001b[1;32m    336\u001b[0m             \u001b[0mparse_int\u001b[0m \u001b[0;32mis\u001b[0m \u001b[0mNone\u001b[0m \u001b[0;32mand\u001b[0m \u001b[0mparse_float\u001b[0m \u001b[0;32mis\u001b[0m \u001b[0mNone\u001b[0m \u001b[0;32mand\u001b[0m\u001b[0;34m\u001b[0m\u001b[0m\n\u001b[1;32m    337\u001b[0m             parse_constant is None and object_pairs_hook is None and not kw):\n\u001b[0;32m--> 338\u001b[0;31m         \u001b[0;32mreturn\u001b[0m \u001b[0m_default_decoder\u001b[0m\u001b[0;34m.\u001b[0m\u001b[0mdecode\u001b[0m\u001b[0;34m(\u001b[0m\u001b[0ms\u001b[0m\u001b[0;34m)\u001b[0m\u001b[0;34m\u001b[0m\u001b[0m\n\u001b[0m\u001b[1;32m    339\u001b[0m     \u001b[0;32mif\u001b[0m \u001b[0mcls\u001b[0m \u001b[0;32mis\u001b[0m \u001b[0mNone\u001b[0m\u001b[0;34m:\u001b[0m\u001b[0;34m\u001b[0m\u001b[0m\n\u001b[1;32m    340\u001b[0m         \u001b[0mcls\u001b[0m \u001b[0;34m=\u001b[0m \u001b[0mJSONDecoder\u001b[0m\u001b[0;34m\u001b[0m\u001b[0m\n",
        "\u001b[0;32m/opt/local/Library/Frameworks/Python.framework/Versions/2.7/lib/python2.7/json/decoder.pyc\u001b[0m in \u001b[0;36mdecode\u001b[0;34m(self, s, _w)\u001b[0m\n\u001b[1;32m    363\u001b[0m \u001b[0;34m\u001b[0m\u001b[0m\n\u001b[1;32m    364\u001b[0m         \"\"\"\n\u001b[0;32m--> 365\u001b[0;31m         \u001b[0mobj\u001b[0m\u001b[0;34m,\u001b[0m \u001b[0mend\u001b[0m \u001b[0;34m=\u001b[0m \u001b[0mself\u001b[0m\u001b[0;34m.\u001b[0m\u001b[0mraw_decode\u001b[0m\u001b[0;34m(\u001b[0m\u001b[0ms\u001b[0m\u001b[0;34m,\u001b[0m \u001b[0midx\u001b[0m\u001b[0;34m=\u001b[0m\u001b[0m_w\u001b[0m\u001b[0;34m(\u001b[0m\u001b[0ms\u001b[0m\u001b[0;34m,\u001b[0m \u001b[0;36m0\u001b[0m\u001b[0;34m)\u001b[0m\u001b[0;34m.\u001b[0m\u001b[0mend\u001b[0m\u001b[0;34m(\u001b[0m\u001b[0;34m)\u001b[0m\u001b[0;34m)\u001b[0m\u001b[0;34m\u001b[0m\u001b[0m\n\u001b[0m\u001b[1;32m    366\u001b[0m         \u001b[0mend\u001b[0m \u001b[0;34m=\u001b[0m \u001b[0m_w\u001b[0m\u001b[0;34m(\u001b[0m\u001b[0ms\u001b[0m\u001b[0;34m,\u001b[0m \u001b[0mend\u001b[0m\u001b[0;34m)\u001b[0m\u001b[0;34m.\u001b[0m\u001b[0mend\u001b[0m\u001b[0;34m(\u001b[0m\u001b[0;34m)\u001b[0m\u001b[0;34m\u001b[0m\u001b[0m\n\u001b[1;32m    367\u001b[0m         \u001b[0;32mif\u001b[0m \u001b[0mend\u001b[0m \u001b[0;34m!=\u001b[0m \u001b[0mlen\u001b[0m\u001b[0;34m(\u001b[0m\u001b[0ms\u001b[0m\u001b[0;34m)\u001b[0m\u001b[0;34m:\u001b[0m\u001b[0;34m\u001b[0m\u001b[0m\n",
        "\u001b[0;32m/opt/local/Library/Frameworks/Python.framework/Versions/2.7/lib/python2.7/json/decoder.pyc\u001b[0m in \u001b[0;36mraw_decode\u001b[0;34m(self, s, idx)\u001b[0m\n\u001b[1;32m    381\u001b[0m             \u001b[0mobj\u001b[0m\u001b[0;34m,\u001b[0m \u001b[0mend\u001b[0m \u001b[0;34m=\u001b[0m \u001b[0mself\u001b[0m\u001b[0;34m.\u001b[0m\u001b[0mscan_once\u001b[0m\u001b[0;34m(\u001b[0m\u001b[0ms\u001b[0m\u001b[0;34m,\u001b[0m \u001b[0midx\u001b[0m\u001b[0;34m)\u001b[0m\u001b[0;34m\u001b[0m\u001b[0m\n\u001b[1;32m    382\u001b[0m         \u001b[0;32mexcept\u001b[0m \u001b[0mStopIteration\u001b[0m\u001b[0;34m:\u001b[0m\u001b[0;34m\u001b[0m\u001b[0m\n\u001b[0;32m--> 383\u001b[0;31m             \u001b[0;32mraise\u001b[0m \u001b[0mValueError\u001b[0m\u001b[0;34m(\u001b[0m\u001b[0;34m\"No JSON object could be decoded\"\u001b[0m\u001b[0;34m)\u001b[0m\u001b[0;34m\u001b[0m\u001b[0m\n\u001b[0m\u001b[1;32m    384\u001b[0m         \u001b[0;32mreturn\u001b[0m \u001b[0mobj\u001b[0m\u001b[0;34m,\u001b[0m \u001b[0mend\u001b[0m\u001b[0;34m\u001b[0m\u001b[0m\n",
        "\u001b[0;31mValueError\u001b[0m: No JSON object could be decoded"
       ]
      },
      {
       "output_type": "stream",
       "stream": "stdout",
       "text": [
        "MATLAB started and connected!\n"
       ]
      },
      {
       "output_type": "stream",
       "stream": "stderr",
       "text": [
        "/opt/local/Library/Frameworks/Python.framework/Versions/2.7/lib/python2.7/site-packages/scipy/io/matlab/mio.py:267: FutureWarning: Using oned_as default value ('column') This will change to 'row' in future versions\n",
        "  oned_as=oned_as)\n"
       ]
      }
     ],
     "prompt_number": 21
    },
    {
     "cell_type": "code",
     "collapsed": false,
     "input": [
      "plt.hist(np.array(prob))"
     ],
     "language": "python",
     "metadata": {},
     "outputs": [
      {
       "metadata": {},
       "output_type": "pyout",
       "prompt_number": 211,
       "text": [
        "([array([ 44.,   0.,   0.,   0.,   0.,   0.,   0.,   0.,   0.,   0.]),\n",
        "  array([ 42.,   1.,   0.,   0.,   1.,   0.,   0.,   0.,   0.,   0.]),\n",
        "  array([ 37.,   5.,   0.,   1.,   1.,   0.,   0.,   0.,   0.,   0.]),\n",
        "  array([ 39.,   2.,   0.,   0.,   1.,   1.,   0.,   1.,   0.,   0.]),\n",
        "  array([ 37.,   2.,   2.,   0.,   0.,   2.,   0.,   1.,   0.,   0.]),\n",
        "  array([ 36.,   6.,   2.,   0.,   0.,   0.,   0.,   0.,   0.,   0.]),\n",
        "  array([ 40.,   2.,   0.,   0.,   0.,   0.,   0.,   0.,   2.,   0.]),\n",
        "  array([ 41.,   0.,   1.,   1.,   0.,   1.,   0.,   0.,   0.,   0.]),\n",
        "  array([ 40.,   1.,   1.,   0.,   0.,   2.,   0.,   0.,   0.,   0.]),\n",
        "  array([ 41.,   3.,   0.,   0.,   0.,   0.,   0.,   0.,   0.,   0.]),\n",
        "  array([ 39.,   3.,   0.,   0.,   2.,   0.,   0.,   0.,   0.,   0.]),\n",
        "  array([ 41.,   0.,   1.,   0.,   0.,   1.,   0.,   0.,   0.,   1.]),\n",
        "  array([ 41.,   0.,   1.,   0.,   1.,   0.,   0.,   1.,   0.,   0.]),\n",
        "  array([ 36.,   3.,   4.,   0.,   0.,   0.,   1.,   0.,   0.,   0.]),\n",
        "  array([ 41.,   1.,   0.,   0.,   0.,   0.,   0.,   1.,   1.,   0.]),\n",
        "  array([ 39.,   2.,   1.,   1.,   0.,   1.,   0.,   0.,   0.,   0.]),\n",
        "  array([ 41.,   1.,   1.,   0.,   0.,   0.,   0.,   0.,   0.,   1.]),\n",
        "  array([ 40.,   0.,   2.,   1.,   1.,   0.,   0.,   0.,   0.,   0.]),\n",
        "  array([ 39.,   3.,   1.,   1.,   0.,   0.,   0.,   0.,   0.,   0.]),\n",
        "  array([ 39.,   0.,   1.,   1.,   1.,   1.,   0.,   0.,   0.,   1.]),\n",
        "  array([ 38.,   2.,   0.,   0.,   1.,   1.,   0.,   0.,   2.,   0.]),\n",
        "  array([ 38.,   4.,   1.,   1.,   0.,   0.,   0.,   0.,   0.,   0.]),\n",
        "  array([ 39.,   2.,   2.,   0.,   0.,   0.,   0.,   0.,   0.,   1.]),\n",
        "  array([ 41.,   1.,   0.,   0.,   0.,   0.,   0.,   1.,   0.,   1.]),\n",
        "  array([ 44.,   0.,   0.,   0.,   0.,   0.,   0.,   0.,   0.,   0.]),\n",
        "  array([ 40.,   1.,   0.,   1.,   0.,   0.,   1.,   0.,   0.,   1.]),\n",
        "  array([ 39.,   3.,   0.,   1.,   0.,   0.,   1.,   0.,   0.,   0.]),\n",
        "  array([ 37.,   2.,   4.,   0.,   0.,   0.,   0.,   1.,   0.,   0.]),\n",
        "  array([ 39.,   2.,   2.,   0.,   0.,   0.,   0.,   0.,   0.,   1.]),\n",
        "  array([ 43.,   1.,   0.,   0.,   0.,   0.,   0.,   0.,   0.,   0.]),\n",
        "  array([ 39.,   3.,   1.,   1.,   0.,   0.,   0.,   0.,   0.,   0.]),\n",
        "  array([ 38.,   3.,   2.,   1.,   0.,   0.,   0.,   0.,   0.,   0.]),\n",
        "  array([ 43.,   1.,   0.,   0.,   0.,   0.,   0.,   0.,   0.,   0.]),\n",
        "  array([ 38.,   3.,   0.,   0.,   2.,   1.,   0.,   0.,   0.,   0.]),\n",
        "  array([ 41.,   2.,   0.,   0.,   0.,   0.,   0.,   1.,   0.,   0.]),\n",
        "  array([ 40.,   4.,   0.,   0.,   0.,   0.,   0.,   0.,   0.,   0.]),\n",
        "  array([ 42.,   0.,   0.,   0.,   0.,   0.,   0.,   2.,   0.,   0.]),\n",
        "  array([ 40.,   3.,   0.,   0.,   0.,   0.,   0.,   0.,   0.,   1.]),\n",
        "  array([ 40.,   0.,   2.,   0.,   0.,   0.,   2.,   0.,   0.,   0.]),\n",
        "  array([ 40.,   3.,   0.,   0.,   0.,   0.,   0.,   0.,   0.,   1.]),\n",
        "  array([ 42.,   0.,   0.,   0.,   0.,   0.,   0.,   1.,   0.,   1.]),\n",
        "  array([ 35.,   6.,   0.,   1.,   2.,   0.,   0.,   0.,   0.,   0.]),\n",
        "  array([ 42.,   1.,   1.,   0.,   0.,   0.,   0.,   0.,   0.,   0.]),\n",
        "  array([ 40.,   2.,   0.,   0.,   0.,   1.,   0.,   0.,   0.,   1.])],\n",
        " array([  3.81572726e-06,   9.99943380e-02,   1.99984860e-01,\n",
        "         2.99975382e-01,   3.99965905e-01,   4.99956427e-01,\n",
        "         5.99946949e-01,   6.99937471e-01,   7.99927994e-01,\n",
        "         8.99918516e-01,   9.99909038e-01]),\n",
        " <a list of 44 Lists of Patches objects>)"
       ]
      },
      {
       "metadata": {},
       "output_type": "display_data",
       "png": "[encoded data removed]",
       "text": [
        "<matplotlib.figure.Figure at 0x1149ddc90>"
       ]
      }
     ],
     "prompt_number": 211
    },
    {
     "cell_type": "code",
     "collapsed": false,
     "input": [
      "prob[prob < 0.1] = 0"
     ],
     "language": "python",
     "metadata": {},
     "outputs": [],
     "prompt_number": 212
    },
    {
     "cell_type": "code",
     "collapsed": false,
     "input": [
      "plt.matshow(prob)"
     ],
     "language": "python",
     "metadata": {},
     "outputs": [
      {
       "metadata": {},
       "output_type": "pyout",
       "prompt_number": 213,
       "text": [
        "<matplotlib.image.AxesImage at 0x11514a450>"
       ]
      },
      {
       "metadata": {},
       "output_type": "display_data",
       "png": "[encoded data removed]",
       "text": [
        "<matplotlib.figure.Figure at 0x114d53510>"
       ]
      }
     ],
     "prompt_number": 213
    },
    {
     "cell_type": "code",
     "collapsed": false,
     "input": [
      "cell_line = 'UACC812'\n",
      "stims = ['EGF', 'FGF1', 'HGF', 'IGF1', 'Insulin', 'NRG1', 'PBS', 'Serum']\n",
      "for stim in stims:\n",
      "    path = '../subchallenge1/submission3/sakev-Network/sakev-{0}-{1}'.format(cell_line, stim)\n",
      "    write_SIF_EDA(prob, path)"
     ],
     "language": "python",
     "metadata": {},
     "outputs": [],
     "prompt_number": 214
    },
    {
     "cell_type": "code",
     "collapsed": false,
     "input": [
      "import scipy as sp"
     ],
     "language": "python",
     "metadata": {},
     "outputs": [],
     "prompt_number": 1
    },
    {
     "cell_type": "code",
     "collapsed": false,
     "input": [
      "from scipy.io import loadmat"
     ],
     "language": "python",
     "metadata": {},
     "outputs": [],
     "prompt_number": 3
    },
    {
     "cell_type": "code",
     "collapsed": false,
     "input": [],
     "language": "python",
     "metadata": {},
     "outputs": []
    }
   ],
   "metadata": {}
  }
 ]
}