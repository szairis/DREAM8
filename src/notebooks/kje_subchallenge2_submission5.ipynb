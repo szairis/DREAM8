{
 "metadata": {
  "name": ""
 },
 "nbformat": 3,
 "nbformat_minor": 0,
 "worksheets": [
  {
   "cells": [
    {
     "cell_type": "code",
     "collapsed": false,
     "input": [
      "import pandas as pd\n",
      "import numpy as np\n",
      "import os\n",
      "import math\n",
      "from scipy.misc import comb\n",
      "from sklearn.ensemble import GradientBoostingRegressor\n",
      "from sklearn import linear_model\n",
      "from sklearn import metrics\n",
      "from sklearn import cross_validation\n",
      "from sklearn import preprocessing\n",
      "import models\n",
      "import utilities\n",
      "\n",
      "%matplotlib inline\n",
      "import matplotlib.pyplot as plt"
     ],
     "language": "python",
     "metadata": {},
     "outputs": [],
     "prompt_number": 1
    },
    {
     "cell_type": "code",
     "collapsed": false,
     "input": [
      "### FUNCTIONS\n",
      "\n",
      "def network_gbr(X, Y, n_estimators=100, learning_rate=0.1, max_depth=5, verbose=False):\n",
      "\n",
      "    regGBR = {}\n",
      "\n",
      "    for target in Y.columns:\n",
      "        \n",
      "        if verbose:\n",
      "            print target\n",
      "        \n",
      "        # get target values\n",
      "        y = Y[target].values\n",
      "        \n",
      "        regGBR[target] = GradientBoostingRegressor(n_estimators=n_estimators,\n",
      "                                                        learning_rate=learning_rate,\n",
      "                                                        max_depth=max_depth,\n",
      "                                                        loss='ls')\n",
      "        regGBR[target].fit(X, y)\n",
      "        \n",
      "    return regGBR\n",
      "\n",
      "def plot_regGBR(X, regGBR, n_estimators=100):\n",
      "    for target in regGBR:\n",
      "\n",
      "        train_set_score = regGBR[target].train_score_\n",
      "    \n",
      "        #plot training deviance\n",
      "        fig = plt.figure(figsize=(16,18))\n",
      "        plt.subplot(1, 2, 1)\n",
      "        plt.title('{0} Deviance'.format(target))\n",
      "        \n",
      "        plt.plot(np.arange(n_estimators) + 1, train_set_score, label='Training Set Deviance')\n",
      "        plt.legend(loc='upper right')\n",
      "        plt.xlabel('Boosting Iterations')\n",
      "        plt.ylabel('Deviance')\n",
      "        \n",
      "        # Plot feature importants\n",
      "        \n",
      "        feature_scores = regGBR[target].feature_importances_\n",
      "        \n",
      "        # make importances relative to max importance\n",
      "    \n",
      "        sorted_idx = np.argsort(feature_scores)\n",
      "        pos = np.arange(sorted_idx.shape[0]) + .5\n",
      "        plt.subplot(1, 2, 2)\n",
      "        plt.barh(pos, feature_scores[sorted_idx], align='center')\n",
      "        plt.yticks(pos, X.columns[sorted_idx])\n",
      "        plt.xlabel('Relative Importance')\n",
      "        plt.title('{0} Variable Importance'.format(target))\n",
      "    \n",
      "        #fig.savefig(os.path.join(project_path, 'fig', 'gbr_model', '{0}_gbr_performance_take2.pdf'.format(target)), format='pdf')\n",
      "        #plt.close()\n",
      "\n",
      "def network_gbr_cv(X, Y, verbose=False, n_estimators=100, learning_rate=0.1, max_depth=5):\n",
      "    \n",
      "    n_folds = 5\n",
      "    kf = list(cross_validation.KFold(X.shape[0], n_folds=n_folds, shuffle=True))\n",
      "    \n",
      "    regGBR = {}\n",
      "    test_score = {}\n",
      "\n",
      "    for target in Y.columns:\n",
      "        \n",
      "        if verbose:\n",
      "            print target\n",
      "        \n",
      "        # get target values\n",
      "        y = Y[target].values\n",
      "        \n",
      "        regGBR[target] = []\n",
      "        test_score[target] = []\n",
      "        \n",
      "        for fold in range(n_folds):\n",
      "            if verbose:\n",
      "                print 'cv fold ', fold\n",
      "            X_train, y_train = X.ix[kf[fold][0],:], y[kf[fold][0]]\n",
      "            X_test, y_test = X.ix[kf[fold][1],:], y[kf[fold][1]]\n",
      "        \n",
      "            regGBR[target].append(GradientBoostingRegressor(n_estimators=n_estimators,\n",
      "                                                            learning_rate=learning_rate,\n",
      "                                                            max_depth=max_depth,\n",
      "                                                            loss='ls'))\n",
      "            regGBR[target][fold].fit(X_train, y_train)\n",
      "        \n",
      "            test_score[target].append(np.zeros((n_estimators,), dtype=np.float64))\n",
      "            \n",
      "            for i, y_pred in enumerate(regGBR[target][fold].staged_decision_function(X_test)):\n",
      "                test_score[target][fold][i] = regGBR[target][fold].loss_(y_test, y_pred)\n",
      "        \n",
      "        #mse = mean_squared_error(y_test, regGBR[target].predict(logB_test))\n",
      "        \n",
      "    return regGBR, test_score\n",
      "\n",
      "\n",
      "def plot_regGBR_cv(X, regGBR, test_score, n_estimators=100):\n",
      "    for target in regGBR:\n",
      "    \n",
      "        test_set_scores = np.zeros((n_folds, n_estimators))\n",
      "        train_set_scores = np.zeros((n_folds, n_estimators))\n",
      "        for i in range(n_folds):\n",
      "            test_set_scores[i,:] = test_score[target][i]\n",
      "            train_set_scores[i, :] = regGBR[target][i].train_score_\n",
      "        \n",
      "        mean_test_set_deviance = test_set_scores.mean(axis=0)\n",
      "        mean_train_set_deviance = train_set_scores.mean(axis=0)\n",
      "        std_test_set_deviance = test_set_scores.std(axis=0)\n",
      "        std_train_set_deviance = train_set_scores.std(axis=0)\n",
      "    \n",
      "        #plot training deviance\n",
      "        fig = plt.figure(figsize=(16,18))\n",
      "        plt.subplot(1, 2, 1)\n",
      "        plt.title('{0} Deviance'.format(target))\n",
      "        \n",
      "        plt.errorbar(np.arange(n_estimators) + 1, mean_train_set_deviance,\n",
      "                     yerr=std_train_set_deviance, fmt='b-', label='Training Set Deviance')\n",
      "        plt.errorbar(np.arange(n_estimators) + 1, mean_test_set_deviance,\n",
      "                     yerr=std_test_set_deviance, fmt='r-', label='Test Set Deviance')\n",
      "        plt.legend(loc='upper right')\n",
      "        plt.xlabel('Boosting Iterations')\n",
      "        plt.ylabel('Deviance')\n",
      "        \n",
      "        # Plot feature importants\n",
      "        \n",
      "        feature_scores = np.zeros((n_folds, len(regGBR[target][0].feature_importances_)))\n",
      "        for i in range(n_folds):\n",
      "            feature_importance = regGBR[target][i].feature_importances_\n",
      "            feature_scores[i, :] = 100.0 * (feature_importance / feature_importance.max())\n",
      "        mean_feature_importance = feature_scores.mean(axis=0)\n",
      "        std_feature_importance = feature_scores.std(axis=0)\n",
      "        \n",
      "        # make importances relative to max importance\n",
      "    \n",
      "        sorted_idx = np.argsort(mean_feature_importance)\n",
      "        pos = np.arange(sorted_idx.shape[0]) + .5\n",
      "        plt.subplot(1, 2, 2)\n",
      "        plt.barh(pos, mean_feature_importance[sorted_idx], align='center', xerr=std_feature_importance[sorted_idx])\n",
      "        plt.yticks(pos, X.columns[sorted_idx])\n",
      "        plt.xlabel('Relative Importance')\n",
      "        plt.title('{0} Variable Importance'.format(target))\n",
      "    \n",
      "        #fig.savefig(os.path.join(project_path, 'fig', 'gbr_model', '{0}_gbr_performance_take2.pdf'.format(target)), format='pdf')\n",
      "        #plt.close()"
     ],
     "language": "python",
     "metadata": {},
     "outputs": [],
     "prompt_number": 43
    },
    {
     "cell_type": "code",
     "collapsed": true,
     "input": [
      "## INSILICO\n",
      "\n",
      "# load data\n",
      "project_path = '../'\n",
      "data_path = os.path.join(project_path, 'dat')\n",
      "insilico_data = pd.read_csv(os.path.join(data_path, 'insilico', 'CSV', 'insilico.csv'), header=0)\n",
      "inhibs = set(insilico_data['Inhibitor'])\n",
      "stims = set(insilico_data['Stimulus'])\n",
      "\n",
      "node_list = ['AB{0:02d}'.format(i) for i in range(1, 21)]\n",
      "inhib_targets = {'INH1' : 'AB12', 'INH2' : 'AB05', 'INH3' : 'AB08'}\n",
      "INH_targets = ['_'.join(['Inhib', node]) for node in node_list]\n",
      "\n",
      "# wrangle data\n",
      "regGBR= {}\n",
      "scalar = {}\n",
      "td = utilities.prepare_markov_data(utilities.introduce_inhibs(insilico_data, inhib_targets=inhib_targets, perfect=True), 'level', group_stimuli=False)\n",
      "for stim in stims:\n",
      "    print stim\n",
      "    X, Y = td[stim]\n",
      "    scalar[stim] = preprocessing.StandardScaler()\n",
      "    scalar[stim].fit_transform(X)\n",
      "    X.ix[X.ix[:,'Inhib_INH1']>0,'Inhib_INH1'] = 1\n",
      "    X.ix[X.ix[:,'Inhib_INH2']>0,'Inhib_INH2'] = 1\n",
      "    X.ix[X.ix[:,'Inhib_INH3']>0,'Inhib_INH3'] = 1\n",
      "    X.ix[X.ix[:,'Inhib_INH1']<0,'Inhib_INH1'] = 0\n",
      "    X.ix[X.ix[:,'Inhib_INH2']<0,'Inhib_INH2'] = 0\n",
      "    X.ix[X.ix[:,'Inhib_INH3']<0,'Inhib_INH3'] = 0\n",
      "\n",
      "    # Step 2 : Fit\n",
      "    n_estimators = 100\n",
      "    max_depth = 3\n",
      "\n",
      "    regGBR[stim] = network_gbr(X, Y, n_estimators=n_estimators, max_depth=max_depth)\n",
      "    #plot_regGBR(X, regGBR, test_score, n_estimators=n_estimators)\n",
      "\n",
      "\n",
      "# predict\n",
      "times = [0, 1, 2, 4, 6, 10, 15, 30, 60, 120]\n",
      "pred_dict = {}\n",
      "for test_inhib in node_list:\n",
      "    print test_inhib\n",
      "    pred_dict[test_inhib] = {}\n",
      "    for stim in stims:\n",
      "        print stim\n",
      "        scalarblah = scalar[stim]\n",
      "        # set up new df to use, and fill t=0 values\n",
      "        pred_df = pd.DataFrame(np.zeros((len(times), len(node_list))), index=times, columns=node_list)\n",
      "        pred_df.ix[0, :] = insilico_data.groupby(['Inhibitor', 'Stimulus', 'Timepoint']).mean().ix['None', stim, 0]\n",
      "        pred_df.ix[0, test_inhib] = 0\n",
      "        \n",
      "        # loop over times\n",
      "        for tidx in range(1,len(times)):\n",
      "            time = times[tidx]\n",
      "            \n",
      "            # get covariates for this time step and scale\n",
      "            # covariates_df = scaler.transform(pred_df.ix[times[tidx-1], :])\n",
      "            covariates_df = ((pred_df.ix[times[tidx-1], :]) - scalarblah.mean_[:-3]) / scalarblah.std_[:-3]\n",
      "\n",
      "            # zero out covariate we are inhibiting\n",
      "            try:\n",
      "                covariates_df.ix[test_inhib_targets[test_inhib]] = 0\n",
      "            except:\n",
      "                pass\n",
      "            \n",
      "            num_cov = len(pred_df.columns)\n",
      "            covariates = np.zeros((num_cov + 3,))\n",
      "            covariates[:num_cov] = covariates_df.values\n",
      "\n",
      "            # loop over proteins to get values for current time step\n",
      "            for p in node_list:\n",
      "                pred_df.ix[time, p] = regGBR[stim][p].predict(covariates)\n",
      "            \n",
      "            # zero out covariate we are inhibiting, again\n",
      "            pred_df.ix[time, test_inhib] = 0\n",
      "    \n",
      "        pred_dict[test_inhib][stim] = pred_df\n",
      "        \n",
      "### SAVE TO MIDAS\n",
      "import utilities\n",
      "reload(utilities)\n",
      "\n",
      "for node in node_list:\n",
      "    out_path = '../subchallenge2/submission5/sakev-Prediction-Insilico/sakev-{0}-Prediction-Insilico'.format(node)\n",
      "    utilities.write_MIDAS(pred_dict[node], node, out_path, datatype='inSilico', cell_line='inSilico')"
     ],
     "language": "python",
     "metadata": {},
     "outputs": [
      {
       "output_type": "stream",
       "stream": "stdout",
       "text": [
        "hiLIG1_loLIG2\n",
        "hiLIG2"
       ]
      },
      {
       "output_type": "stream",
       "stream": "stdout",
       "text": [
        "\n",
        "hiLIG1"
       ]
      },
      {
       "output_type": "stream",
       "stream": "stdout",
       "text": [
        "\n",
        "loLIG1_loLIG2"
       ]
      },
      {
       "output_type": "stream",
       "stream": "stdout",
       "text": [
        "\n",
        "loLIG1"
       ]
      },
      {
       "output_type": "stream",
       "stream": "stdout",
       "text": [
        "\n",
        "loLIG2"
       ]
      },
      {
       "output_type": "stream",
       "stream": "stdout",
       "text": [
        "\n",
        "hiLIG1_hiLIG2"
       ]
      },
      {
       "output_type": "stream",
       "stream": "stdout",
       "text": [
        "\n",
        "loLIG1_hiLIG2"
       ]
      },
      {
       "output_type": "stream",
       "stream": "stdout",
       "text": [
        "\n",
        "AB01"
       ]
      },
      {
       "output_type": "stream",
       "stream": "stdout",
       "text": [
        "\n",
        "hiLIG1_loLIG2\n",
        "hiLIG2"
       ]
      },
      {
       "output_type": "stream",
       "stream": "stdout",
       "text": [
        "\n",
        "hiLIG1"
       ]
      },
      {
       "output_type": "stream",
       "stream": "stdout",
       "text": [
        "\n",
        "loLIG1_loLIG2"
       ]
      },
      {
       "output_type": "stream",
       "stream": "stdout",
       "text": [
        "\n",
        "loLIG1"
       ]
      },
      {
       "output_type": "stream",
       "stream": "stdout",
       "text": [
        "\n",
        "loLIG2"
       ]
      },
      {
       "output_type": "stream",
       "stream": "stdout",
       "text": [
        "\n",
        "hiLIG1_hiLIG2"
       ]
      },
      {
       "output_type": "stream",
       "stream": "stdout",
       "text": [
        "\n",
        "loLIG1_hiLIG2"
       ]
      },
      {
       "output_type": "stream",
       "stream": "stdout",
       "text": [
        "\n",
        "AB02"
       ]
      },
      {
       "output_type": "stream",
       "stream": "stdout",
       "text": [
        "\n",
        "hiLIG1_loLIG2\n",
        "hiLIG2"
       ]
      },
      {
       "output_type": "stream",
       "stream": "stdout",
       "text": [
        "\n",
        "hiLIG1"
       ]
      },
      {
       "output_type": "stream",
       "stream": "stdout",
       "text": [
        "\n",
        "loLIG1_loLIG2"
       ]
      },
      {
       "output_type": "stream",
       "stream": "stdout",
       "text": [
        "\n",
        "loLIG1"
       ]
      },
      {
       "output_type": "stream",
       "stream": "stdout",
       "text": [
        "\n",
        "loLIG2"
       ]
      },
      {
       "output_type": "stream",
       "stream": "stdout",
       "text": [
        "\n",
        "hiLIG1_hiLIG2"
       ]
      },
      {
       "output_type": "stream",
       "stream": "stdout",
       "text": [
        "\n",
        "loLIG1_hiLIG2"
       ]
      },
      {
       "output_type": "stream",
       "stream": "stdout",
       "text": [
        "\n",
        "AB03"
       ]
      },
      {
       "output_type": "stream",
       "stream": "stdout",
       "text": [
        "\n",
        "hiLIG1_loLIG2\n",
        "hiLIG2"
       ]
      },
      {
       "output_type": "stream",
       "stream": "stdout",
       "text": [
        "\n",
        "hiLIG1"
       ]
      },
      {
       "output_type": "stream",
       "stream": "stdout",
       "text": [
        "\n",
        "loLIG1_loLIG2"
       ]
      },
      {
       "output_type": "stream",
       "stream": "stdout",
       "text": [
        "\n",
        "loLIG1"
       ]
      },
      {
       "output_type": "stream",
       "stream": "stdout",
       "text": [
        "\n",
        "loLIG2"
       ]
      },
      {
       "output_type": "stream",
       "stream": "stdout",
       "text": [
        "\n",
        "hiLIG1_hiLIG2"
       ]
      },
      {
       "output_type": "stream",
       "stream": "stdout",
       "text": [
        "\n",
        "loLIG1_hiLIG2"
       ]
      },
      {
       "output_type": "stream",
       "stream": "stdout",
       "text": [
        "\n",
        "AB04"
       ]
      },
      {
       "output_type": "stream",
       "stream": "stdout",
       "text": [
        "\n",
        "hiLIG1_loLIG2\n",
        "hiLIG2"
       ]
      },
      {
       "output_type": "stream",
       "stream": "stdout",
       "text": [
        "\n",
        "hiLIG1"
       ]
      },
      {
       "output_type": "stream",
       "stream": "stdout",
       "text": [
        "\n",
        "loLIG1_loLIG2"
       ]
      },
      {
       "output_type": "stream",
       "stream": "stdout",
       "text": [
        "\n",
        "loLIG1"
       ]
      },
      {
       "output_type": "stream",
       "stream": "stdout",
       "text": [
        "\n",
        "loLIG2"
       ]
      },
      {
       "output_type": "stream",
       "stream": "stdout",
       "text": [
        "\n",
        "hiLIG1_hiLIG2"
       ]
      },
      {
       "output_type": "stream",
       "stream": "stdout",
       "text": [
        "\n",
        "loLIG1_hiLIG2"
       ]
      },
      {
       "output_type": "stream",
       "stream": "stdout",
       "text": [
        "\n",
        "AB05"
       ]
      },
      {
       "output_type": "stream",
       "stream": "stdout",
       "text": [
        "\n",
        "hiLIG1_loLIG2\n",
        "hiLIG2"
       ]
      },
      {
       "output_type": "stream",
       "stream": "stdout",
       "text": [
        "\n",
        "hiLIG1"
       ]
      },
      {
       "output_type": "stream",
       "stream": "stdout",
       "text": [
        "\n",
        "loLIG1_loLIG2"
       ]
      },
      {
       "output_type": "stream",
       "stream": "stdout",
       "text": [
        "\n",
        "loLIG1"
       ]
      },
      {
       "output_type": "stream",
       "stream": "stdout",
       "text": [
        "\n",
        "loLIG2"
       ]
      },
      {
       "output_type": "stream",
       "stream": "stdout",
       "text": [
        "\n",
        "hiLIG1_hiLIG2"
       ]
      },
      {
       "output_type": "stream",
       "stream": "stdout",
       "text": [
        "\n",
        "loLIG1_hiLIG2"
       ]
      },
      {
       "output_type": "stream",
       "stream": "stdout",
       "text": [
        "\n",
        "AB06"
       ]
      },
      {
       "output_type": "stream",
       "stream": "stdout",
       "text": [
        "\n",
        "hiLIG1_loLIG2\n",
        "hiLIG2"
       ]
      },
      {
       "output_type": "stream",
       "stream": "stdout",
       "text": [
        "\n",
        "hiLIG1"
       ]
      },
      {
       "output_type": "stream",
       "stream": "stdout",
       "text": [
        "\n",
        "loLIG1_loLIG2"
       ]
      },
      {
       "output_type": "stream",
       "stream": "stdout",
       "text": [
        "\n",
        "loLIG1"
       ]
      },
      {
       "output_type": "stream",
       "stream": "stdout",
       "text": [
        "\n",
        "loLIG2"
       ]
      },
      {
       "output_type": "stream",
       "stream": "stdout",
       "text": [
        "\n",
        "hiLIG1_hiLIG2"
       ]
      },
      {
       "output_type": "stream",
       "stream": "stdout",
       "text": [
        "\n",
        "loLIG1_hiLIG2"
       ]
      },
      {
       "output_type": "stream",
       "stream": "stdout",
       "text": [
        "\n",
        "AB07"
       ]
      },
      {
       "output_type": "stream",
       "stream": "stdout",
       "text": [
        "\n",
        "hiLIG1_loLIG2\n",
        "hiLIG2"
       ]
      },
      {
       "output_type": "stream",
       "stream": "stdout",
       "text": [
        "\n",
        "hiLIG1"
       ]
      },
      {
       "output_type": "stream",
       "stream": "stdout",
       "text": [
        "\n",
        "loLIG1_loLIG2"
       ]
      },
      {
       "output_type": "stream",
       "stream": "stdout",
       "text": [
        "\n",
        "loLIG1"
       ]
      },
      {
       "output_type": "stream",
       "stream": "stdout",
       "text": [
        "\n",
        "loLIG2"
       ]
      },
      {
       "output_type": "stream",
       "stream": "stdout",
       "text": [
        "\n",
        "hiLIG1_hiLIG2"
       ]
      },
      {
       "output_type": "stream",
       "stream": "stdout",
       "text": [
        "\n",
        "loLIG1_hiLIG2"
       ]
      },
      {
       "output_type": "stream",
       "stream": "stdout",
       "text": [
        "\n",
        "AB08"
       ]
      },
      {
       "output_type": "stream",
       "stream": "stdout",
       "text": [
        "\n",
        "hiLIG1_loLIG2\n",
        "hiLIG2"
       ]
      },
      {
       "output_type": "stream",
       "stream": "stdout",
       "text": [
        "\n",
        "hiLIG1"
       ]
      },
      {
       "output_type": "stream",
       "stream": "stdout",
       "text": [
        "\n",
        "loLIG1_loLIG2"
       ]
      },
      {
       "output_type": "stream",
       "stream": "stdout",
       "text": [
        "\n",
        "loLIG1"
       ]
      },
      {
       "output_type": "stream",
       "stream": "stdout",
       "text": [
        "\n",
        "loLIG2"
       ]
      },
      {
       "output_type": "stream",
       "stream": "stdout",
       "text": [
        "\n",
        "hiLIG1_hiLIG2"
       ]
      },
      {
       "output_type": "stream",
       "stream": "stdout",
       "text": [
        "\n",
        "loLIG1_hiLIG2"
       ]
      },
      {
       "output_type": "stream",
       "stream": "stdout",
       "text": [
        "\n",
        "AB09"
       ]
      },
      {
       "output_type": "stream",
       "stream": "stdout",
       "text": [
        "\n",
        "hiLIG1_loLIG2\n",
        "hiLIG2"
       ]
      },
      {
       "output_type": "stream",
       "stream": "stdout",
       "text": [
        "\n",
        "hiLIG1"
       ]
      },
      {
       "output_type": "stream",
       "stream": "stdout",
       "text": [
        "\n",
        "loLIG1_loLIG2"
       ]
      },
      {
       "output_type": "stream",
       "stream": "stdout",
       "text": [
        "\n",
        "loLIG1"
       ]
      },
      {
       "output_type": "stream",
       "stream": "stdout",
       "text": [
        "\n",
        "loLIG2"
       ]
      },
      {
       "output_type": "stream",
       "stream": "stdout",
       "text": [
        "\n",
        "hiLIG1_hiLIG2"
       ]
      },
      {
       "output_type": "stream",
       "stream": "stdout",
       "text": [
        "\n",
        "loLIG1_hiLIG2"
       ]
      },
      {
       "output_type": "stream",
       "stream": "stdout",
       "text": [
        "\n",
        "AB10"
       ]
      },
      {
       "output_type": "stream",
       "stream": "stdout",
       "text": [
        "\n",
        "hiLIG1_loLIG2\n",
        "hiLIG2"
       ]
      },
      {
       "output_type": "stream",
       "stream": "stdout",
       "text": [
        "\n",
        "hiLIG1"
       ]
      },
      {
       "output_type": "stream",
       "stream": "stdout",
       "text": [
        "\n",
        "loLIG1_loLIG2"
       ]
      },
      {
       "output_type": "stream",
       "stream": "stdout",
       "text": [
        "\n",
        "loLIG1"
       ]
      },
      {
       "output_type": "stream",
       "stream": "stdout",
       "text": [
        "\n",
        "loLIG2"
       ]
      },
      {
       "output_type": "stream",
       "stream": "stdout",
       "text": [
        "\n",
        "hiLIG1_hiLIG2"
       ]
      },
      {
       "output_type": "stream",
       "stream": "stdout",
       "text": [
        "\n",
        "loLIG1_hiLIG2"
       ]
      },
      {
       "output_type": "stream",
       "stream": "stdout",
       "text": [
        "\n",
        "AB11"
       ]
      },
      {
       "output_type": "stream",
       "stream": "stdout",
       "text": [
        "\n",
        "hiLIG1_loLIG2\n",
        "hiLIG2"
       ]
      },
      {
       "output_type": "stream",
       "stream": "stdout",
       "text": [
        "\n",
        "hiLIG1"
       ]
      },
      {
       "output_type": "stream",
       "stream": "stdout",
       "text": [
        "\n",
        "loLIG1_loLIG2"
       ]
      },
      {
       "output_type": "stream",
       "stream": "stdout",
       "text": [
        "\n",
        "loLIG1"
       ]
      },
      {
       "output_type": "stream",
       "stream": "stdout",
       "text": [
        "\n",
        "loLIG2"
       ]
      },
      {
       "output_type": "stream",
       "stream": "stdout",
       "text": [
        "\n",
        "hiLIG1_hiLIG2"
       ]
      },
      {
       "output_type": "stream",
       "stream": "stdout",
       "text": [
        "\n",
        "loLIG1_hiLIG2"
       ]
      },
      {
       "output_type": "stream",
       "stream": "stdout",
       "text": [
        "\n",
        "AB12"
       ]
      },
      {
       "output_type": "stream",
       "stream": "stdout",
       "text": [
        "\n",
        "hiLIG1_loLIG2\n",
        "hiLIG2"
       ]
      },
      {
       "output_type": "stream",
       "stream": "stdout",
       "text": [
        "\n",
        "hiLIG1"
       ]
      },
      {
       "output_type": "stream",
       "stream": "stdout",
       "text": [
        "\n",
        "loLIG1_loLIG2"
       ]
      },
      {
       "output_type": "stream",
       "stream": "stdout",
       "text": [
        "\n",
        "loLIG1"
       ]
      },
      {
       "output_type": "stream",
       "stream": "stdout",
       "text": [
        "\n",
        "loLIG2"
       ]
      },
      {
       "output_type": "stream",
       "stream": "stdout",
       "text": [
        "\n",
        "hiLIG1_hiLIG2"
       ]
      },
      {
       "output_type": "stream",
       "stream": "stdout",
       "text": [
        "\n",
        "loLIG1_hiLIG2"
       ]
      },
      {
       "output_type": "stream",
       "stream": "stdout",
       "text": [
        "\n",
        "AB13"
       ]
      },
      {
       "output_type": "stream",
       "stream": "stdout",
       "text": [
        "\n",
        "hiLIG1_loLIG2\n",
        "hiLIG2"
       ]
      },
      {
       "output_type": "stream",
       "stream": "stdout",
       "text": [
        "\n",
        "hiLIG1"
       ]
      },
      {
       "output_type": "stream",
       "stream": "stdout",
       "text": [
        "\n",
        "loLIG1_loLIG2"
       ]
      },
      {
       "output_type": "stream",
       "stream": "stdout",
       "text": [
        "\n",
        "loLIG1"
       ]
      },
      {
       "output_type": "stream",
       "stream": "stdout",
       "text": [
        "\n",
        "loLIG2"
       ]
      },
      {
       "output_type": "stream",
       "stream": "stdout",
       "text": [
        "\n",
        "hiLIG1_hiLIG2"
       ]
      },
      {
       "output_type": "stream",
       "stream": "stdout",
       "text": [
        "\n",
        "loLIG1_hiLIG2"
       ]
      },
      {
       "output_type": "stream",
       "stream": "stdout",
       "text": [
        "\n",
        "AB14"
       ]
      },
      {
       "output_type": "stream",
       "stream": "stdout",
       "text": [
        "\n",
        "hiLIG1_loLIG2\n",
        "hiLIG2"
       ]
      },
      {
       "output_type": "stream",
       "stream": "stdout",
       "text": [
        "\n",
        "hiLIG1"
       ]
      },
      {
       "output_type": "stream",
       "stream": "stdout",
       "text": [
        "\n",
        "loLIG1_loLIG2"
       ]
      },
      {
       "output_type": "stream",
       "stream": "stdout",
       "text": [
        "\n",
        "loLIG1"
       ]
      },
      {
       "output_type": "stream",
       "stream": "stdout",
       "text": [
        "\n",
        "loLIG2"
       ]
      },
      {
       "output_type": "stream",
       "stream": "stdout",
       "text": [
        "\n",
        "hiLIG1_hiLIG2"
       ]
      },
      {
       "output_type": "stream",
       "stream": "stdout",
       "text": [
        "\n",
        "loLIG1_hiLIG2"
       ]
      },
      {
       "output_type": "stream",
       "stream": "stdout",
       "text": [
        "\n",
        "AB15"
       ]
      },
      {
       "output_type": "stream",
       "stream": "stdout",
       "text": [
        "\n",
        "hiLIG1_loLIG2\n",
        "hiLIG2"
       ]
      },
      {
       "output_type": "stream",
       "stream": "stdout",
       "text": [
        "\n",
        "hiLIG1"
       ]
      },
      {
       "output_type": "stream",
       "stream": "stdout",
       "text": [
        "\n",
        "loLIG1_loLIG2"
       ]
      },
      {
       "output_type": "stream",
       "stream": "stdout",
       "text": [
        "\n",
        "loLIG1"
       ]
      },
      {
       "output_type": "stream",
       "stream": "stdout",
       "text": [
        "\n",
        "loLIG2"
       ]
      },
      {
       "output_type": "stream",
       "stream": "stdout",
       "text": [
        "\n",
        "hiLIG1_hiLIG2"
       ]
      },
      {
       "output_type": "stream",
       "stream": "stdout",
       "text": [
        "\n",
        "loLIG1_hiLIG2"
       ]
      },
      {
       "output_type": "stream",
       "stream": "stdout",
       "text": [
        "\n",
        "AB16"
       ]
      },
      {
       "output_type": "stream",
       "stream": "stdout",
       "text": [
        "\n",
        "hiLIG1_loLIG2\n",
        "hiLIG2"
       ]
      },
      {
       "output_type": "stream",
       "stream": "stdout",
       "text": [
        "\n",
        "hiLIG1"
       ]
      },
      {
       "output_type": "stream",
       "stream": "stdout",
       "text": [
        "\n",
        "loLIG1_loLIG2"
       ]
      },
      {
       "output_type": "stream",
       "stream": "stdout",
       "text": [
        "\n",
        "loLIG1"
       ]
      },
      {
       "output_type": "stream",
       "stream": "stdout",
       "text": [
        "\n",
        "loLIG2"
       ]
      },
      {
       "output_type": "stream",
       "stream": "stdout",
       "text": [
        "\n",
        "hiLIG1_hiLIG2"
       ]
      },
      {
       "output_type": "stream",
       "stream": "stdout",
       "text": [
        "\n",
        "loLIG1_hiLIG2"
       ]
      },
      {
       "output_type": "stream",
       "stream": "stdout",
       "text": [
        "\n",
        "AB17"
       ]
      },
      {
       "output_type": "stream",
       "stream": "stdout",
       "text": [
        "\n",
        "hiLIG1_loLIG2\n",
        "hiLIG2"
       ]
      },
      {
       "output_type": "stream",
       "stream": "stdout",
       "text": [
        "\n",
        "hiLIG1"
       ]
      },
      {
       "output_type": "stream",
       "stream": "stdout",
       "text": [
        "\n",
        "loLIG1_loLIG2"
       ]
      },
      {
       "output_type": "stream",
       "stream": "stdout",
       "text": [
        "\n",
        "loLIG1"
       ]
      },
      {
       "output_type": "stream",
       "stream": "stdout",
       "text": [
        "\n",
        "loLIG2"
       ]
      },
      {
       "output_type": "stream",
       "stream": "stdout",
       "text": [
        "\n",
        "hiLIG1_hiLIG2"
       ]
      },
      {
       "output_type": "stream",
       "stream": "stdout",
       "text": [
        "\n",
        "loLIG1_hiLIG2"
       ]
      },
      {
       "output_type": "stream",
       "stream": "stdout",
       "text": [
        "\n",
        "AB18"
       ]
      },
      {
       "output_type": "stream",
       "stream": "stdout",
       "text": [
        "\n",
        "hiLIG1_loLIG2\n",
        "hiLIG2"
       ]
      },
      {
       "output_type": "stream",
       "stream": "stdout",
       "text": [
        "\n",
        "hiLIG1"
       ]
      },
      {
       "output_type": "stream",
       "stream": "stdout",
       "text": [
        "\n",
        "loLIG1_loLIG2"
       ]
      },
      {
       "output_type": "stream",
       "stream": "stdout",
       "text": [
        "\n",
        "loLIG1"
       ]
      },
      {
       "output_type": "stream",
       "stream": "stdout",
       "text": [
        "\n",
        "loLIG2"
       ]
      },
      {
       "output_type": "stream",
       "stream": "stdout",
       "text": [
        "\n",
        "hiLIG1_hiLIG2"
       ]
      },
      {
       "output_type": "stream",
       "stream": "stdout",
       "text": [
        "\n",
        "loLIG1_hiLIG2"
       ]
      },
      {
       "output_type": "stream",
       "stream": "stdout",
       "text": [
        "\n",
        "AB19"
       ]
      },
      {
       "output_type": "stream",
       "stream": "stdout",
       "text": [
        "\n",
        "hiLIG1_loLIG2\n",
        "hiLIG2"
       ]
      },
      {
       "output_type": "stream",
       "stream": "stdout",
       "text": [
        "\n",
        "hiLIG1"
       ]
      },
      {
       "output_type": "stream",
       "stream": "stdout",
       "text": [
        "\n",
        "loLIG1_loLIG2"
       ]
      },
      {
       "output_type": "stream",
       "stream": "stdout",
       "text": [
        "\n",
        "loLIG1"
       ]
      },
      {
       "output_type": "stream",
       "stream": "stdout",
       "text": [
        "\n",
        "loLIG2"
       ]
      },
      {
       "output_type": "stream",
       "stream": "stdout",
       "text": [
        "\n",
        "hiLIG1_hiLIG2"
       ]
      },
      {
       "output_type": "stream",
       "stream": "stdout",
       "text": [
        "\n",
        "loLIG1_hiLIG2"
       ]
      },
      {
       "output_type": "stream",
       "stream": "stdout",
       "text": [
        "\n",
        "AB20"
       ]
      },
      {
       "output_type": "stream",
       "stream": "stdout",
       "text": [
        "\n",
        "hiLIG1_loLIG2\n",
        "hiLIG2"
       ]
      },
      {
       "output_type": "stream",
       "stream": "stdout",
       "text": [
        "\n",
        "hiLIG1"
       ]
      },
      {
       "output_type": "stream",
       "stream": "stdout",
       "text": [
        "\n",
        "loLIG1_loLIG2"
       ]
      },
      {
       "output_type": "stream",
       "stream": "stdout",
       "text": [
        "\n",
        "loLIG1"
       ]
      },
      {
       "output_type": "stream",
       "stream": "stdout",
       "text": [
        "\n",
        "loLIG2"
       ]
      },
      {
       "output_type": "stream",
       "stream": "stdout",
       "text": [
        "\n",
        "hiLIG1_hiLIG2"
       ]
      },
      {
       "output_type": "stream",
       "stream": "stdout",
       "text": [
        "\n",
        "loLIG1_hiLIG2"
       ]
      },
      {
       "output_type": "stream",
       "stream": "stdout",
       "text": [
        "\n"
       ]
      }
     ],
     "prompt_number": 53
    },
    {
     "cell_type": "code",
     "collapsed": false,
     "input": [
      "### EXPERIMENTAL\n",
      "\n",
      "# load data\n",
      "project_path = '../'\n",
      "data_path = os.path.join(project_path, 'dat')\n",
      "insilico_data = pd.read_csv(os.path.join(data_path, 'insilico', 'CSV', 'insilico.csv'), header=0)\n",
      "\n",
      "node_list = ['AB{0:02d}'.format(i) for i in range(1, 21)]\n",
      "inhib_targets = {'INH1' : 'AB12', 'INH2' : 'AB05', 'INH3' : 'AB08'}\n",
      "INH_targets = ['_'.join(['Inhib', node]) for node in node_list]\n",
      "\n",
      "inhibs = set(insilico_data['Inhibitor'])\n",
      "stims = set(insilico_data['Stimulus'])\n",
      "\n",
      "# Step 1 : Wrangle\n",
      "td = utilities.prepare_markov_data(utilities.introduce_inhibs(insilico_data, inhib_targets=inhib_targets, perfect=True), 'level', group_stimuli=True)\n",
      "X, Y = td['all_stimuli']\n",
      "scalar = preprocessing.StandardScaler()\n",
      "scalar.fit_transform(X)\n",
      "\n",
      "for inhib in inhib_targets:\n",
      "    X.ix[X.ix[:,'Inhib_{0}'.format(inhib)] > 0,'Inhib_{0}'.format(inhib)] = 1\n",
      "    X.ix[X.ix[:,'Inhib_{0}'.format(inhib)] < 0,'Inhib_{0}'.format(inhib)] = 0\n",
      "\n",
      "# Step 2 : Fit\n",
      "n_estimators = 100\n",
      "insilico_regGBR = network_gbr(X, Y, n_estimators=n_estimators)\n",
      "        \n",
      "# Step 3 : Predict\n",
      "times = [0, 1, 2, 4, 6, 10, 15, 30, 60, 120]\n",
      "pred_dict = {}\n",
      "\n",
      "for test_inhib in node_list:\n",
      "    print test_inhib\n",
      "    pred_dict[test_inhib] = {}\n",
      "    for stim in stims:\n",
      "        print stim\n",
      "        # set up new df to use, and fill t=0 values\n",
      "        pred_df = pd.DataFrame(np.zeros((len(times), len(node_list))), index=times, columns=node_list)\n",
      "        pred_df.ix[0, :] = insilico_data.groupby(['Inhibitor', 'Stimulus', 'Timepoint']).mean().ix['None', stim, 0]\n",
      "        pred_df.ix[0, test_inhib] = 0\n",
      "        \n",
      "        # loop over times\n",
      "        for tidx in range(1,len(times)):\n",
      "            time = times[tidx]\n",
      "            \n",
      "            # get covariates for this time step and scale\n",
      "            # covariates_df = scaler.transform(pred_df.ix[times[tidx-1], :])\n",
      "            covariates_df = ((pred_df.ix[times[tidx-1], :]) - scalar.mean_[:-3]) / scalar.std_[:-3]\n",
      "\n",
      "            # zero out covariate we are inhibiting\n",
      "            try:\n",
      "                covariates_df.ix[test_inhib_targets[test_inhib]] = 0\n",
      "            except:\n",
      "                pass\n",
      "            \n",
      "            num_cov = len(pred_df.columns)\n",
      "            covariates = np.zeros((num_cov + 3,))\n",
      "            covariates[:num_cov] = covariates_df.values\n",
      "\n",
      "            # loop over proteins to get values for current time step\n",
      "            for p in node_list:\n",
      "                pred_df.ix[time, p] = insilico_regGBR[p].predict(covariates)\n",
      "            \n",
      "            # zero out covariate we are inhibiting, again\n",
      "            pred_df.ix[time, test_inhib] = 0\n",
      "    \n",
      "        pred_dict[test_inhib][stim] = pred_df\n",
      "\n",
      "    \n",
      "### SAVE TO MIDAS\n",
      "for test_inhib in node_list:\n",
      "    out_path = '../subchallenge2/submission4/sakev-Prediction-Insilico/sakev-{0}-Prediction-Insilico'.format(test_inhib)\n",
      "    utilities.write_MIDAS(pred_dict[test_inhib], [test_inhib], out_path, datatype='inSilico', cell_line='inSilico')"
     ],
     "language": "python",
     "metadata": {},
     "outputs": [
      {
       "output_type": "stream",
       "stream": "stdout",
       "text": [
        "AB01\n",
        "hiLIG1_loLIG2\n",
        "hiLIG2"
       ]
      },
      {
       "output_type": "stream",
       "stream": "stdout",
       "text": [
        "\n",
        "hiLIG1"
       ]
      },
      {
       "output_type": "stream",
       "stream": "stdout",
       "text": [
        "\n",
        "loLIG1_loLIG2"
       ]
      },
      {
       "output_type": "stream",
       "stream": "stdout",
       "text": [
        "\n",
        "loLIG1"
       ]
      },
      {
       "output_type": "stream",
       "stream": "stdout",
       "text": [
        "\n",
        "loLIG2"
       ]
      },
      {
       "output_type": "stream",
       "stream": "stdout",
       "text": [
        "\n",
        "hiLIG1_hiLIG2"
       ]
      },
      {
       "output_type": "stream",
       "stream": "stdout",
       "text": [
        "\n",
        "loLIG1_hiLIG2"
       ]
      },
      {
       "output_type": "stream",
       "stream": "stdout",
       "text": [
        "\n",
        "AB02"
       ]
      },
      {
       "output_type": "stream",
       "stream": "stdout",
       "text": [
        "\n",
        "hiLIG1_loLIG2\n",
        "hiLIG2"
       ]
      },
      {
       "output_type": "stream",
       "stream": "stdout",
       "text": [
        "\n",
        "hiLIG1"
       ]
      },
      {
       "output_type": "stream",
       "stream": "stdout",
       "text": [
        "\n",
        "loLIG1_loLIG2"
       ]
      },
      {
       "output_type": "stream",
       "stream": "stdout",
       "text": [
        "\n",
        "loLIG1"
       ]
      },
      {
       "output_type": "stream",
       "stream": "stdout",
       "text": [
        "\n",
        "loLIG2"
       ]
      },
      {
       "output_type": "stream",
       "stream": "stdout",
       "text": [
        "\n",
        "hiLIG1_hiLIG2"
       ]
      },
      {
       "output_type": "stream",
       "stream": "stdout",
       "text": [
        "\n",
        "loLIG1_hiLIG2"
       ]
      },
      {
       "output_type": "stream",
       "stream": "stdout",
       "text": [
        "\n",
        "AB03"
       ]
      },
      {
       "output_type": "stream",
       "stream": "stdout",
       "text": [
        "\n",
        "hiLIG1_loLIG2\n",
        "hiLIG2"
       ]
      },
      {
       "output_type": "stream",
       "stream": "stdout",
       "text": [
        "\n",
        "hiLIG1"
       ]
      },
      {
       "output_type": "stream",
       "stream": "stdout",
       "text": [
        "\n",
        "loLIG1_loLIG2"
       ]
      },
      {
       "output_type": "stream",
       "stream": "stdout",
       "text": [
        "\n",
        "loLIG1"
       ]
      },
      {
       "output_type": "stream",
       "stream": "stdout",
       "text": [
        "\n",
        "loLIG2"
       ]
      },
      {
       "output_type": "stream",
       "stream": "stdout",
       "text": [
        "\n",
        "hiLIG1_hiLIG2"
       ]
      },
      {
       "output_type": "stream",
       "stream": "stdout",
       "text": [
        "\n",
        "loLIG1_hiLIG2"
       ]
      },
      {
       "output_type": "stream",
       "stream": "stdout",
       "text": [
        "\n",
        "AB04"
       ]
      },
      {
       "output_type": "stream",
       "stream": "stdout",
       "text": [
        "\n",
        "hiLIG1_loLIG2\n",
        "hiLIG2"
       ]
      },
      {
       "output_type": "stream",
       "stream": "stdout",
       "text": [
        "\n",
        "hiLIG1"
       ]
      },
      {
       "output_type": "stream",
       "stream": "stdout",
       "text": [
        "\n",
        "loLIG1_loLIG2"
       ]
      },
      {
       "output_type": "stream",
       "stream": "stdout",
       "text": [
        "\n",
        "loLIG1"
       ]
      },
      {
       "output_type": "stream",
       "stream": "stdout",
       "text": [
        "\n",
        "loLIG2"
       ]
      },
      {
       "output_type": "stream",
       "stream": "stdout",
       "text": [
        "\n",
        "hiLIG1_hiLIG2"
       ]
      },
      {
       "output_type": "stream",
       "stream": "stdout",
       "text": [
        "\n",
        "loLIG1_hiLIG2"
       ]
      },
      {
       "output_type": "stream",
       "stream": "stdout",
       "text": [
        "\n",
        "AB05"
       ]
      },
      {
       "output_type": "stream",
       "stream": "stdout",
       "text": [
        "\n",
        "hiLIG1_loLIG2\n",
        "hiLIG2"
       ]
      },
      {
       "output_type": "stream",
       "stream": "stdout",
       "text": [
        "\n",
        "hiLIG1"
       ]
      },
      {
       "output_type": "stream",
       "stream": "stdout",
       "text": [
        "\n",
        "loLIG1_loLIG2"
       ]
      },
      {
       "output_type": "stream",
       "stream": "stdout",
       "text": [
        "\n",
        "loLIG1"
       ]
      },
      {
       "output_type": "stream",
       "stream": "stdout",
       "text": [
        "\n",
        "loLIG2"
       ]
      },
      {
       "output_type": "stream",
       "stream": "stdout",
       "text": [
        "\n",
        "hiLIG1_hiLIG2"
       ]
      },
      {
       "output_type": "stream",
       "stream": "stdout",
       "text": [
        "\n",
        "loLIG1_hiLIG2"
       ]
      },
      {
       "output_type": "stream",
       "stream": "stdout",
       "text": [
        "\n",
        "AB06"
       ]
      },
      {
       "output_type": "stream",
       "stream": "stdout",
       "text": [
        "\n",
        "hiLIG1_loLIG2\n",
        "hiLIG2"
       ]
      },
      {
       "output_type": "stream",
       "stream": "stdout",
       "text": [
        "\n",
        "hiLIG1"
       ]
      },
      {
       "output_type": "stream",
       "stream": "stdout",
       "text": [
        "\n",
        "loLIG1_loLIG2"
       ]
      },
      {
       "output_type": "stream",
       "stream": "stdout",
       "text": [
        "\n",
        "loLIG1"
       ]
      },
      {
       "output_type": "stream",
       "stream": "stdout",
       "text": [
        "\n",
        "loLIG2"
       ]
      },
      {
       "output_type": "stream",
       "stream": "stdout",
       "text": [
        "\n",
        "hiLIG1_hiLIG2"
       ]
      },
      {
       "output_type": "stream",
       "stream": "stdout",
       "text": [
        "\n",
        "loLIG1_hiLIG2"
       ]
      },
      {
       "output_type": "stream",
       "stream": "stdout",
       "text": [
        "\n",
        "AB07"
       ]
      },
      {
       "output_type": "stream",
       "stream": "stdout",
       "text": [
        "\n",
        "hiLIG1_loLIG2\n",
        "hiLIG2"
       ]
      },
      {
       "output_type": "stream",
       "stream": "stdout",
       "text": [
        "\n",
        "hiLIG1"
       ]
      },
      {
       "output_type": "stream",
       "stream": "stdout",
       "text": [
        "\n",
        "loLIG1_loLIG2"
       ]
      },
      {
       "output_type": "stream",
       "stream": "stdout",
       "text": [
        "\n",
        "loLIG1"
       ]
      },
      {
       "output_type": "stream",
       "stream": "stdout",
       "text": [
        "\n",
        "loLIG2"
       ]
      },
      {
       "output_type": "stream",
       "stream": "stdout",
       "text": [
        "\n",
        "hiLIG1_hiLIG2"
       ]
      },
      {
       "output_type": "stream",
       "stream": "stdout",
       "text": [
        "\n",
        "loLIG1_hiLIG2"
       ]
      },
      {
       "output_type": "stream",
       "stream": "stdout",
       "text": [
        "\n",
        "AB08"
       ]
      },
      {
       "output_type": "stream",
       "stream": "stdout",
       "text": [
        "\n",
        "hiLIG1_loLIG2\n",
        "hiLIG2"
       ]
      },
      {
       "output_type": "stream",
       "stream": "stdout",
       "text": [
        "\n",
        "hiLIG1"
       ]
      },
      {
       "output_type": "stream",
       "stream": "stdout",
       "text": [
        "\n",
        "loLIG1_loLIG2"
       ]
      },
      {
       "output_type": "stream",
       "stream": "stdout",
       "text": [
        "\n",
        "loLIG1"
       ]
      },
      {
       "output_type": "stream",
       "stream": "stdout",
       "text": [
        "\n",
        "loLIG2"
       ]
      },
      {
       "output_type": "stream",
       "stream": "stdout",
       "text": [
        "\n",
        "hiLIG1_hiLIG2"
       ]
      },
      {
       "output_type": "stream",
       "stream": "stdout",
       "text": [
        "\n",
        "loLIG1_hiLIG2"
       ]
      },
      {
       "output_type": "stream",
       "stream": "stdout",
       "text": [
        "\n",
        "AB09"
       ]
      },
      {
       "output_type": "stream",
       "stream": "stdout",
       "text": [
        "\n",
        "hiLIG1_loLIG2\n",
        "hiLIG2"
       ]
      },
      {
       "output_type": "stream",
       "stream": "stdout",
       "text": [
        "\n",
        "hiLIG1"
       ]
      },
      {
       "output_type": "stream",
       "stream": "stdout",
       "text": [
        "\n",
        "loLIG1_loLIG2"
       ]
      },
      {
       "output_type": "stream",
       "stream": "stdout",
       "text": [
        "\n",
        "loLIG1"
       ]
      },
      {
       "output_type": "stream",
       "stream": "stdout",
       "text": [
        "\n",
        "loLIG2"
       ]
      },
      {
       "output_type": "stream",
       "stream": "stdout",
       "text": [
        "\n",
        "hiLIG1_hiLIG2"
       ]
      },
      {
       "output_type": "stream",
       "stream": "stdout",
       "text": [
        "\n",
        "loLIG1_hiLIG2"
       ]
      },
      {
       "output_type": "stream",
       "stream": "stdout",
       "text": [
        "\n",
        "AB10"
       ]
      },
      {
       "output_type": "stream",
       "stream": "stdout",
       "text": [
        "\n",
        "hiLIG1_loLIG2\n",
        "hiLIG2"
       ]
      },
      {
       "output_type": "stream",
       "stream": "stdout",
       "text": [
        "\n",
        "hiLIG1"
       ]
      },
      {
       "output_type": "stream",
       "stream": "stdout",
       "text": [
        "\n",
        "loLIG1_loLIG2"
       ]
      },
      {
       "output_type": "stream",
       "stream": "stdout",
       "text": [
        "\n",
        "loLIG1"
       ]
      },
      {
       "output_type": "stream",
       "stream": "stdout",
       "text": [
        "\n",
        "loLIG2"
       ]
      },
      {
       "output_type": "stream",
       "stream": "stdout",
       "text": [
        "\n",
        "hiLIG1_hiLIG2"
       ]
      },
      {
       "output_type": "stream",
       "stream": "stdout",
       "text": [
        "\n",
        "loLIG1_hiLIG2"
       ]
      },
      {
       "output_type": "stream",
       "stream": "stdout",
       "text": [
        "\n",
        "AB11"
       ]
      },
      {
       "output_type": "stream",
       "stream": "stdout",
       "text": [
        "\n",
        "hiLIG1_loLIG2\n",
        "hiLIG2"
       ]
      },
      {
       "output_type": "stream",
       "stream": "stdout",
       "text": [
        "\n",
        "hiLIG1"
       ]
      },
      {
       "output_type": "stream",
       "stream": "stdout",
       "text": [
        "\n",
        "loLIG1_loLIG2"
       ]
      },
      {
       "output_type": "stream",
       "stream": "stdout",
       "text": [
        "\n",
        "loLIG1"
       ]
      },
      {
       "output_type": "stream",
       "stream": "stdout",
       "text": [
        "\n",
        "loLIG2"
       ]
      },
      {
       "output_type": "stream",
       "stream": "stdout",
       "text": [
        "\n",
        "hiLIG1_hiLIG2"
       ]
      },
      {
       "output_type": "stream",
       "stream": "stdout",
       "text": [
        "\n",
        "loLIG1_hiLIG2"
       ]
      },
      {
       "output_type": "stream",
       "stream": "stdout",
       "text": [
        "\n",
        "AB12"
       ]
      },
      {
       "output_type": "stream",
       "stream": "stdout",
       "text": [
        "\n",
        "hiLIG1_loLIG2\n",
        "hiLIG2"
       ]
      },
      {
       "output_type": "stream",
       "stream": "stdout",
       "text": [
        "\n",
        "hiLIG1"
       ]
      },
      {
       "output_type": "stream",
       "stream": "stdout",
       "text": [
        "\n",
        "loLIG1_loLIG2"
       ]
      },
      {
       "output_type": "stream",
       "stream": "stdout",
       "text": [
        "\n",
        "loLIG1"
       ]
      },
      {
       "output_type": "stream",
       "stream": "stdout",
       "text": [
        "\n",
        "loLIG2"
       ]
      },
      {
       "output_type": "stream",
       "stream": "stdout",
       "text": [
        "\n",
        "hiLIG1_hiLIG2"
       ]
      },
      {
       "output_type": "stream",
       "stream": "stdout",
       "text": [
        "\n",
        "loLIG1_hiLIG2"
       ]
      },
      {
       "output_type": "stream",
       "stream": "stdout",
       "text": [
        "\n",
        "AB13"
       ]
      },
      {
       "output_type": "stream",
       "stream": "stdout",
       "text": [
        "\n",
        "hiLIG1_loLIG2\n",
        "hiLIG2"
       ]
      },
      {
       "output_type": "stream",
       "stream": "stdout",
       "text": [
        "\n",
        "hiLIG1"
       ]
      },
      {
       "output_type": "stream",
       "stream": "stdout",
       "text": [
        "\n",
        "loLIG1_loLIG2"
       ]
      },
      {
       "output_type": "stream",
       "stream": "stdout",
       "text": [
        "\n",
        "loLIG1"
       ]
      },
      {
       "output_type": "stream",
       "stream": "stdout",
       "text": [
        "\n",
        "loLIG2"
       ]
      },
      {
       "output_type": "stream",
       "stream": "stdout",
       "text": [
        "\n",
        "hiLIG1_hiLIG2"
       ]
      },
      {
       "output_type": "stream",
       "stream": "stdout",
       "text": [
        "\n",
        "loLIG1_hiLIG2"
       ]
      },
      {
       "output_type": "stream",
       "stream": "stdout",
       "text": [
        "\n",
        "AB14"
       ]
      },
      {
       "output_type": "stream",
       "stream": "stdout",
       "text": [
        "\n",
        "hiLIG1_loLIG2\n",
        "hiLIG2"
       ]
      },
      {
       "output_type": "stream",
       "stream": "stdout",
       "text": [
        "\n",
        "hiLIG1"
       ]
      },
      {
       "output_type": "stream",
       "stream": "stdout",
       "text": [
        "\n",
        "loLIG1_loLIG2"
       ]
      },
      {
       "output_type": "stream",
       "stream": "stdout",
       "text": [
        "\n",
        "loLIG1"
       ]
      },
      {
       "output_type": "stream",
       "stream": "stdout",
       "text": [
        "\n",
        "loLIG2"
       ]
      },
      {
       "output_type": "stream",
       "stream": "stdout",
       "text": [
        "\n",
        "hiLIG1_hiLIG2"
       ]
      },
      {
       "output_type": "stream",
       "stream": "stdout",
       "text": [
        "\n",
        "loLIG1_hiLIG2"
       ]
      },
      {
       "output_type": "stream",
       "stream": "stdout",
       "text": [
        "\n",
        "AB15"
       ]
      },
      {
       "output_type": "stream",
       "stream": "stdout",
       "text": [
        "\n",
        "hiLIG1_loLIG2\n",
        "hiLIG2"
       ]
      },
      {
       "output_type": "stream",
       "stream": "stdout",
       "text": [
        "\n",
        "hiLIG1"
       ]
      },
      {
       "output_type": "stream",
       "stream": "stdout",
       "text": [
        "\n",
        "loLIG1_loLIG2"
       ]
      },
      {
       "output_type": "stream",
       "stream": "stdout",
       "text": [
        "\n",
        "loLIG1"
       ]
      },
      {
       "output_type": "stream",
       "stream": "stdout",
       "text": [
        "\n",
        "loLIG2"
       ]
      },
      {
       "output_type": "stream",
       "stream": "stdout",
       "text": [
        "\n",
        "hiLIG1_hiLIG2"
       ]
      },
      {
       "output_type": "stream",
       "stream": "stdout",
       "text": [
        "\n",
        "loLIG1_hiLIG2"
       ]
      },
      {
       "output_type": "stream",
       "stream": "stdout",
       "text": [
        "\n",
        "AB16"
       ]
      },
      {
       "output_type": "stream",
       "stream": "stdout",
       "text": [
        "\n",
        "hiLIG1_loLIG2\n",
        "hiLIG2"
       ]
      },
      {
       "output_type": "stream",
       "stream": "stdout",
       "text": [
        "\n",
        "hiLIG1"
       ]
      },
      {
       "output_type": "stream",
       "stream": "stdout",
       "text": [
        "\n",
        "loLIG1_loLIG2"
       ]
      },
      {
       "output_type": "stream",
       "stream": "stdout",
       "text": [
        "\n",
        "loLIG1"
       ]
      },
      {
       "output_type": "stream",
       "stream": "stdout",
       "text": [
        "\n",
        "loLIG2"
       ]
      },
      {
       "output_type": "stream",
       "stream": "stdout",
       "text": [
        "\n",
        "hiLIG1_hiLIG2"
       ]
      },
      {
       "output_type": "stream",
       "stream": "stdout",
       "text": [
        "\n",
        "loLIG1_hiLIG2"
       ]
      },
      {
       "output_type": "stream",
       "stream": "stdout",
       "text": [
        "\n",
        "AB17"
       ]
      },
      {
       "output_type": "stream",
       "stream": "stdout",
       "text": [
        "\n",
        "hiLIG1_loLIG2\n",
        "hiLIG2"
       ]
      },
      {
       "output_type": "stream",
       "stream": "stdout",
       "text": [
        "\n",
        "hiLIG1"
       ]
      },
      {
       "output_type": "stream",
       "stream": "stdout",
       "text": [
        "\n",
        "loLIG1_loLIG2"
       ]
      },
      {
       "output_type": "stream",
       "stream": "stdout",
       "text": [
        "\n",
        "loLIG1"
       ]
      },
      {
       "output_type": "stream",
       "stream": "stdout",
       "text": [
        "\n",
        "loLIG2"
       ]
      },
      {
       "output_type": "stream",
       "stream": "stdout",
       "text": [
        "\n",
        "hiLIG1_hiLIG2"
       ]
      },
      {
       "output_type": "stream",
       "stream": "stdout",
       "text": [
        "\n",
        "loLIG1_hiLIG2"
       ]
      },
      {
       "output_type": "stream",
       "stream": "stdout",
       "text": [
        "\n",
        "AB18"
       ]
      },
      {
       "output_type": "stream",
       "stream": "stdout",
       "text": [
        "\n",
        "hiLIG1_loLIG2\n",
        "hiLIG2"
       ]
      },
      {
       "output_type": "stream",
       "stream": "stdout",
       "text": [
        "\n",
        "hiLIG1"
       ]
      },
      {
       "output_type": "stream",
       "stream": "stdout",
       "text": [
        "\n",
        "loLIG1_loLIG2"
       ]
      },
      {
       "output_type": "stream",
       "stream": "stdout",
       "text": [
        "\n",
        "loLIG1"
       ]
      },
      {
       "output_type": "stream",
       "stream": "stdout",
       "text": [
        "\n",
        "loLIG2"
       ]
      },
      {
       "output_type": "stream",
       "stream": "stdout",
       "text": [
        "\n",
        "hiLIG1_hiLIG2"
       ]
      },
      {
       "output_type": "stream",
       "stream": "stdout",
       "text": [
        "\n",
        "loLIG1_hiLIG2"
       ]
      },
      {
       "output_type": "stream",
       "stream": "stdout",
       "text": [
        "\n",
        "AB19"
       ]
      },
      {
       "output_type": "stream",
       "stream": "stdout",
       "text": [
        "\n",
        "hiLIG1_loLIG2\n",
        "hiLIG2"
       ]
      },
      {
       "output_type": "stream",
       "stream": "stdout",
       "text": [
        "\n",
        "hiLIG1"
       ]
      },
      {
       "output_type": "stream",
       "stream": "stdout",
       "text": [
        "\n",
        "loLIG1_loLIG2"
       ]
      },
      {
       "output_type": "stream",
       "stream": "stdout",
       "text": [
        "\n",
        "loLIG1"
       ]
      },
      {
       "output_type": "stream",
       "stream": "stdout",
       "text": [
        "\n",
        "loLIG2"
       ]
      },
      {
       "output_type": "stream",
       "stream": "stdout",
       "text": [
        "\n",
        "hiLIG1_hiLIG2"
       ]
      },
      {
       "output_type": "stream",
       "stream": "stdout",
       "text": [
        "\n",
        "loLIG1_hiLIG2"
       ]
      },
      {
       "output_type": "stream",
       "stream": "stdout",
       "text": [
        "\n",
        "AB20"
       ]
      },
      {
       "output_type": "stream",
       "stream": "stdout",
       "text": [
        "\n",
        "hiLIG1_loLIG2\n",
        "hiLIG2"
       ]
      },
      {
       "output_type": "stream",
       "stream": "stdout",
       "text": [
        "\n",
        "hiLIG1"
       ]
      },
      {
       "output_type": "stream",
       "stream": "stdout",
       "text": [
        "\n",
        "loLIG1_loLIG2"
       ]
      },
      {
       "output_type": "stream",
       "stream": "stdout",
       "text": [
        "\n",
        "loLIG1"
       ]
      },
      {
       "output_type": "stream",
       "stream": "stdout",
       "text": [
        "\n",
        "loLIG2"
       ]
      },
      {
       "output_type": "stream",
       "stream": "stdout",
       "text": [
        "\n",
        "hiLIG1_hiLIG2"
       ]
      },
      {
       "output_type": "stream",
       "stream": "stdout",
       "text": [
        "\n",
        "loLIG1_hiLIG2"
       ]
      },
      {
       "output_type": "stream",
       "stream": "stdout",
       "text": [
        "\n",
        "inSilico"
       ]
      },
      {
       "output_type": "stream",
       "stream": "stdout",
       "text": [
        "\n",
        "inSilico"
       ]
      },
      {
       "output_type": "stream",
       "stream": "stdout",
       "text": [
        "\n",
        "inSilico"
       ]
      },
      {
       "output_type": "stream",
       "stream": "stdout",
       "text": [
        "\n",
        "inSilico"
       ]
      },
      {
       "output_type": "stream",
       "stream": "stdout",
       "text": [
        "\n",
        "inSilico"
       ]
      },
      {
       "output_type": "stream",
       "stream": "stdout",
       "text": [
        "\n",
        "inSilico"
       ]
      },
      {
       "output_type": "stream",
       "stream": "stdout",
       "text": [
        "\n",
        "inSilico"
       ]
      },
      {
       "output_type": "stream",
       "stream": "stdout",
       "text": [
        "\n",
        "inSilico"
       ]
      },
      {
       "output_type": "stream",
       "stream": "stdout",
       "text": [
        "\n",
        "inSilico"
       ]
      },
      {
       "output_type": "stream",
       "stream": "stdout",
       "text": [
        "\n",
        "inSilico"
       ]
      },
      {
       "output_type": "stream",
       "stream": "stdout",
       "text": [
        "\n",
        "inSilico"
       ]
      },
      {
       "output_type": "stream",
       "stream": "stdout",
       "text": [
        "\n",
        "inSilico"
       ]
      },
      {
       "output_type": "stream",
       "stream": "stdout",
       "text": [
        "\n",
        "inSilico"
       ]
      },
      {
       "output_type": "stream",
       "stream": "stdout",
       "text": [
        "\n",
        "inSilico"
       ]
      },
      {
       "output_type": "stream",
       "stream": "stdout",
       "text": [
        "\n",
        "inSilico"
       ]
      },
      {
       "output_type": "stream",
       "stream": "stdout",
       "text": [
        "\n",
        "inSilico"
       ]
      },
      {
       "output_type": "stream",
       "stream": "stdout",
       "text": [
        "\n",
        "inSilico"
       ]
      },
      {
       "output_type": "stream",
       "stream": "stdout",
       "text": [
        "\n",
        "inSilico"
       ]
      },
      {
       "output_type": "stream",
       "stream": "stdout",
       "text": [
        "\n",
        "inSilico"
       ]
      },
      {
       "output_type": "stream",
       "stream": "stdout",
       "text": [
        "\n",
        "inSilico"
       ]
      },
      {
       "output_type": "stream",
       "stream": "stdout",
       "text": [
        "\n"
       ]
      }
     ],
     "prompt_number": 135
    }
   ],
   "metadata": {}
  }
 ]
}