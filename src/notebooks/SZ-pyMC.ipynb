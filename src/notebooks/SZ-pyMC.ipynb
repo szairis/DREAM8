{
 "metadata": {
  "name": ""
 },
 "nbformat": 3,
 "nbformat_minor": 0,
 "worksheets": [
  {
   "cells": [
    {
     "cell_type": "code",
     "collapsed": false,
     "input": [
      "cd .."
     ],
     "language": "python",
     "metadata": {},
     "outputs": [
      {
       "output_type": "stream",
       "stream": "stdout",
       "text": [
        "/Users/sakellarios/Documents/MD-PhD/5-Research/DREAM8/src\n"
       ]
      }
     ],
     "prompt_number": 1
    },
    {
     "cell_type": "code",
     "collapsed": false,
     "input": [
      "import numpy as np\n",
      "import pandas as pd\n",
      "from pymc import *\n",
      "import utilities\n",
      "import synthetic\n",
      "import models\n",
      "import bayesian_linear_regression"
     ],
     "language": "python",
     "metadata": {},
     "outputs": [],
     "prompt_number": 24
    },
    {
     "cell_type": "code",
     "collapsed": false,
     "input": [
      "reload(bayesian_linear_regression)"
     ],
     "language": "python",
     "metadata": {},
     "outputs": [
      {
       "metadata": {},
       "output_type": "pyout",
       "prompt_number": 25,
       "text": [
        "<module 'bayesian_linear_regression' from 'bayesian_linear_regression.py'>"
       ]
      }
     ],
     "prompt_number": 25
    },
    {
     "cell_type": "code",
     "collapsed": false,
     "input": [
      "def concat_A():\n",
      "    cols = []\n",
      "    ab01_col = np.abs(inference_mcmc.beta1_ab01.value)[:,None]\n",
      "    ab01_col = ab01_col / ab01_col.max()\n",
      "    cols.append(ab01_col)\n",
      "    ab02_col = np.abs(inference_mcmc.beta1_ab02.value)[:,None]\n",
      "    ab02_col = ab02_col / ab02_col.max()\n",
      "    cols.append(ab02_col)\n",
      "    ab03_col = np.abs(inference_mcmc.beta1_ab03.value)[:,None]\n",
      "    ab03_col = ab03_col / ab03_col.max()\n",
      "    cols.append(ab03_col)\n",
      "    ab04_col = np.abs(inference_mcmc.beta1_ab04.value)[:,None]\n",
      "    ab04_col = ab04_col / ab04_col.max()\n",
      "    cols.append(ab04_col)\n",
      "    ab05_col = np.abs(inference_mcmc.beta1_ab05.value)[:,None]\n",
      "    ab05_col = ab05_col / ab05_col.max()\n",
      "    cols.append(ab05_col)\n",
      "    ab06_col = np.abs(inference_mcmc.beta1_ab06.value)[:,None]\n",
      "    ab06_col = ab06_col / ab06_col.max()\n",
      "    cols.append(ab06_col)\n",
      "    ab07_col = np.abs(inference_mcmc.beta1_ab07.value)[:,None]\n",
      "    ab07_col = ab07_col / ab07_col.max()\n",
      "    cols.append(ab07_col)\n",
      "    ab08_col = np.abs(inference_mcmc.beta1_ab08.value)[:,None]\n",
      "    ab08_col = ab08_col / ab08_col.max()\n",
      "    cols.append(ab08_col)\n",
      "    ab09_col = np.abs(inference_mcmc.beta1_ab09.value)[:,None]\n",
      "    ab09_col = ab09_col / ab09_col.max()\n",
      "    cols.append(ab09_col)\n",
      "    ab10_col = np.abs(inference_mcmc.beta1_ab10.value)[:,None]\n",
      "    ab10_col = ab10_col / ab10_col.max()\n",
      "    cols.append(ab10_col)\n",
      "    ab11_col = np.abs(inference_mcmc.beta1_ab11.value)[:,None]\n",
      "    ab11_col = ab11_col / ab11_col.max()\n",
      "    cols.append(ab11_col)\n",
      "    ab12_col = np.abs(inference_mcmc.beta1_ab12.value)[:,None]\n",
      "    ab12_col = ab12_col / ab12_col.max()\n",
      "    cols.append(ab12_col)\n",
      "    ab13_col = np.abs(inference_mcmc.beta1_ab13.value)[:,None]\n",
      "    ab13_col = ab13_col / ab13_col.max()\n",
      "    cols.append(ab13_col)\n",
      "    ab14_col = np.abs(inference_mcmc.beta1_ab14.value)[:,None]\n",
      "    ab14_col = ab14_col / ab14_col.max()\n",
      "    cols.append(ab14_col)\n",
      "    ab15_col = np.abs(inference_mcmc.beta1_ab15.value)[:,None]\n",
      "    ab15_col = ab15_col / ab15_col.max()\n",
      "    cols.append(ab15_col)\n",
      "    ab16_col = np.abs(inference_mcmc.beta1_ab16.value)[:,None]\n",
      "    ab16_col = ab16_col / ab16_col.max()\n",
      "    cols.append(ab16_col)\n",
      "    ab17_col = np.abs(inference_mcmc.beta1_ab17.value)[:,None]\n",
      "    ab17_col = ab17_col / ab17_col.max()\n",
      "    cols.append(ab17_col)\n",
      "    ab18_col = np.abs(inference_mcmc.beta1_ab18.value)[:,None]\n",
      "    ab18_col = ab18_col / ab18_col.max()\n",
      "    cols.append(ab18_col)\n",
      "    ab19_col = np.abs(inference_mcmc.beta1_ab19.value)[:,None]\n",
      "    ab19_col = ab19_col / ab19_col.max()\n",
      "    cols.append(ab19_col)\n",
      "    ab20_col = np.abs(inference_mcmc.beta1_ab20.value)[:,None]\n",
      "    ab20_col = ab20_col / ab20_col.max()\n",
      "    cols.append(ab20_col)\n",
      "    ab21_col = np.abs(inference_mcmc.beta1_ab21.value)[:,None]\n",
      "    ab21_col = ab21_col / ab21_col.max()\n",
      "    cols.append(ab21_col)\n",
      "    ab22_col = np.abs(inference_mcmc.beta1_ab22.value)[:,None]\n",
      "    ab22_col = ab22_col / ab22_col.max()\n",
      "    cols.append(ab22_col)\n",
      "    ab23_col = np.abs(inference_mcmc.beta1_ab23.value)[:,None]\n",
      "    ab23_col = ab23_col / ab23_col.max()\n",
      "    cols.append(ab23_col)\n",
      "    ab24_col = np.abs(inference_mcmc.beta1_ab24.value)[:,None]\n",
      "    ab24_col = ab24_col / ab24_col.max()\n",
      "    cols.append(ab24_col)\n",
      "    ab25_col = np.abs(inference_mcmc.beta1_ab25.value)[:,None]\n",
      "    ab25_col = ab25_col / ab25_col.max()\n",
      "    cols.append(ab25_col)\n",
      "    ab26_col = np.abs(inference_mcmc.beta1_ab26.value)[:,None]\n",
      "    ab26_col = ab26_col / ab26_col.max()\n",
      "    cols.append(ab26_col)\n",
      "    ab27_col = np.abs(inference_mcmc.beta1_ab27.value)[:,None]\n",
      "    ab27_col = ab27_col / ab27_col.max()\n",
      "    cols.append(ab27_col)\n",
      "    ab28_col = np.abs(inference_mcmc.beta1_ab28.value)[:,None]\n",
      "    ab28_col = ab28_col / ab28_col.max()\n",
      "    cols.append(ab28_col)\n",
      "    ab29_col = np.abs(inference_mcmc.beta1_ab29.value)[:,None]\n",
      "    ab29_col = ab29_col / ab29_col.max()\n",
      "    cols.append(ab29_col)\n",
      "    ab30_col = np.abs(inference_mcmc.beta1_ab30.value)[:,None]\n",
      "    ab30_col = ab30_col / ab30_col.max()\n",
      "    cols.append(ab30_col)\n",
      "    ab31_col = np.abs(inference_mcmc.beta1_ab31.value)[:,None]\n",
      "    ab31_col = ab31_col / ab31_col.max()\n",
      "    cols.append(ab31_col)\n",
      "    ab32_col = np.abs(inference_mcmc.beta1_ab32.value)[:,None]\n",
      "    ab32_col = ab32_col / ab32_col.max()\n",
      "    cols.append(ab32_col)\n",
      "    ab33_col = np.abs(inference_mcmc.beta1_ab33.value)[:,None]\n",
      "    ab33_col = ab33_col / ab33_col.max()\n",
      "    cols.append(ab33_col)\n",
      "    ab34_col = np.abs(inference_mcmc.beta1_ab34.value)[:,None]\n",
      "    ab34_col = ab34_col / ab34_col.max()\n",
      "    cols.append(ab34_col)\n",
      "    ab35_col = np.abs(inference_mcmc.beta1_ab35.value)[:,None]\n",
      "    ab35_col = ab35_col / ab35_col.max()\n",
      "    cols.append(ab35_col)\n",
      "    ab36_col = np.abs(inference_mcmc.beta1_ab36.value)[:,None]\n",
      "    ab36_col = ab36_col / ab36_col.max()\n",
      "    cols.append(ab36_col)\n",
      "    ab37_col = np.abs(inference_mcmc.beta1_ab37.value)[:,None]\n",
      "    ab37_col = ab37_col / ab37_col.max()\n",
      "    cols.append(ab37_col)\n",
      "    ab38_col = np.abs(inference_mcmc.beta1_ab38.value)[:,None]\n",
      "    ab38_col = ab38_col / ab38_col.max()\n",
      "    cols.append(ab38_col)\n",
      "    ab39_col = np.abs(inference_mcmc.beta1_ab39.value)[:,None]\n",
      "    ab39_col = ab39_col / ab39_col.max()\n",
      "    cols.append(ab39_col)\n",
      "    ab40_col = np.abs(inference_mcmc.beta1_ab40.value)[:,None]\n",
      "    ab40_col = ab40_col / ab40_col.max()\n",
      "    cols.append(ab40_col)\n",
      "    ab41_col = np.abs(inference_mcmc.beta1_ab41.value)[:,None]\n",
      "    ab41_col = ab41_col / ab41_col.max()\n",
      "    cols.append(ab41_col)\n",
      "    ab42_col = np.abs(inference_mcmc.beta1_ab42.value)[:,None]\n",
      "    ab42_col = ab42_col / ab42_col.max()\n",
      "    cols.append(ab42_col)\n",
      "    ab43_col = np.abs(inference_mcmc.beta1_ab43.value)[:,None]\n",
      "    ab43_col = ab43_col / ab43_col.max()\n",
      "    cols.append(ab43_col)\n",
      "    ab44_col = np.abs(inference_mcmc.beta1_ab44.value)[:,None]\n",
      "    ab44_col = ab44_col / ab44_col.max()\n",
      "    cols.append(ab44_col)\n",
      "    ab45_col = np.abs(inference_mcmc.beta1_ab45.value)[:,None]\n",
      "    ab45_col = ab45_col / ab45_col.max()\n",
      "    cols.append(ab45_col)\n",
      "    ab46_col = np.abs(inference_mcmc.beta1_ab46.value)[:,None]\n",
      "    ab46_col = ab46_col / ab46_col.max()\n",
      "    cols.append(ab46_col)\n",
      "    \n",
      "    adj = np.concatenate(cols, axis=1)\n",
      "    return pd.DataFrame(adj, index=antibodies_exp, columns=antibodies_exp)"
     ],
     "language": "python",
     "metadata": {},
     "outputs": [],
     "prompt_number": 16
    },
    {
     "cell_type": "code",
     "collapsed": false,
     "input": [
      "bt20 = pd.read_csv('../dat/experimental/CSV/BT20_main.csv')\n",
      "bt549 = pd.read_csv('../dat/experimental/CSV/BT549_main.csv')\n",
      "mcf7 = pd.read_csv('../dat/experimental/CSV/MCF7_main.csv')\n",
      "uacc812 = pd.read_csv('../dat/experimental/CSV/UACC812_main.csv')\n",
      "\n",
      "td_bt20 = utilities.prepare_markov_data(bt20, 'level', False)\n",
      "td_bt549 = utilities.prepare_markov_data(bt549, 'level', False)\n",
      "td_mcf7 = utilities.prepare_markov_data(mcf7, 'level', False)\n",
      "td_uacc812 = utilities.prepare_markov_data(uacc812, 'level', False)"
     ],
     "language": "python",
     "metadata": {},
     "outputs": [],
     "prompt_number": 17
    },
    {
     "cell_type": "code",
     "collapsed": false,
     "input": [
      "oldprior = pd.read_csv('../dat/experimental/experimental_prior.csv', index_col=0, header=0)\n",
      "A_true_bt20 = oldprior\n",
      "A_true_bt549 = A_true_bt20.ix[td_bt549['EGF'][0].columns, td_bt549['EGF'][0].columns]\n",
      "A_true_mcf7 = A_true_bt20.ix[td_mcf7['EGF'][0].columns, td_mcf7['EGF'][0].columns]\n",
      "A_true_uacc812 = A_true_bt20.ix[td_uacc812['EGF'][0].columns, td_uacc812['EGF'][0].columns]"
     ],
     "language": "python",
     "metadata": {},
     "outputs": [],
     "prompt_number": 18
    },
    {
     "cell_type": "code",
     "collapsed": false,
     "input": [
      "stim='EGF'\n",
      "X_exp = td_bt20[stim][0].values\n",
      "Y_exp = td_bt20[stim][1].values\n",
      "antibodies_exp = td_bt20[stim][0].columns"
     ],
     "language": "python",
     "metadata": {},
     "outputs": [],
     "prompt_number": 19
    },
    {
     "cell_type": "code",
     "collapsed": false,
     "input": [
      "blr = Model(bayesian_linear_regression.bayesian_linear_regression(X_exp, Y_exp, A_true=A_true_bt20))"
     ],
     "language": "python",
     "metadata": {},
     "outputs": [],
     "prompt_number": "*"
    },
    {
     "cell_type": "code",
     "collapsed": false,
     "input": [],
     "language": "python",
     "metadata": {},
     "outputs": []
    },
    {
     "cell_type": "code",
     "collapsed": false,
     "input": [
      "for stim in td_bt549.keys():\n",
      "    path = '../subchallenge1/submission5/sakev-Network/sakev-BT549-{0}-Network'.format(stim)\n",
      "    X_exp = td_bt549[stim][0].values\n",
      "    Y_exp = td_bt549[stim][1].values\n",
      "    antibodies_exp = td_bt549[stim][0].columns\n",
      "    blr = Model(bayesian_linear_regression(X_exp, Y_exp, A_true=A_true_bt549))\n",
      "    inference_mcmc = MCMC(blr)\n",
      "    inference_mcmc.sample(iter=10000, burn=1000, thin=10)\n",
      "    A = concat_A()\n",
      "    utilities.write_SIF_EDA(A, path)"
     ],
     "language": "python",
     "metadata": {},
     "outputs": []
    },
    {
     "cell_type": "code",
     "collapsed": false,
     "input": [
      "for stim in td_mcf7.keys():\n",
      "    path = '../subchallenge1/submission5/sakev-Network/sakev-MCF7-{0}-Network'.format(stim)\n",
      "    X_exp = td_mcf7[stim][0].values\n",
      "    Y_exp = td_mcf7[stim][1].values\n",
      "    antibodies_exp = td_mcf7[stim][0].columns\n",
      "    blr = Model(bayesian_linear_regression(X_exp, Y_exp, A_true=A_true_mcf7))\n",
      "    inference_mcmc = MCMC(blr)\n",
      "    inference_mcmc.sample(iter=10000, burn=1000, thin=10)\n",
      "    A = concat_A()\n",
      "    utilities.write_SIF_EDA(A, path)"
     ],
     "language": "python",
     "metadata": {},
     "outputs": []
    },
    {
     "cell_type": "code",
     "collapsed": false,
     "input": [
      "for stim in td_uacc812.keys():\n",
      "    path = '../subchallenge1/submission5/sakev-Network/sakev-UACC812-{0}-Network'.format(stim)\n",
      "    X_exp = td_uacc812[stim][0].values\n",
      "    Y_exp = td_uacc812[stim][1].values\n",
      "    antibodies_exp = td_uacc812[stim][0].columns\n",
      "    blr = Model(bayesian_linear_regression(X_exp, Y_exp, A_true=A_true_uacc812))\n",
      "    inference_mcmc = MCMC(blr)\n",
      "    inference_mcmc.sample(iter=10000, burn=1000, thin=10)\n",
      "    A = concat_A()\n",
      "    utilities.write_SIF_EDA(A, path)"
     ],
     "language": "python",
     "metadata": {},
     "outputs": []
    },
    {
     "cell_type": "code",
     "collapsed": false,
     "input": [
      "data = pd.read_csv('../dat/insilico/CSV/insilico.csv')\n",
      "td_ins = utilities.prepare_markov_data(data, 'level', True)\n",
      "X_ins = td_ins['all_stimuli'][0].values\n",
      "Y_ins = td_ins['all_stimuli'][1].values\n",
      "antibodies_ins = td_ins['all_stimuli'][0].columns\n",
      "blr = Model(bayesian_linear_regression(X_ins, Y_ins))\n",
      "inference_mcmc = MCMC(blr)\n",
      "inference_mcmc.sample(iter=10000, burn=1000, thin=10)\n",
      "path = '../subchallenge1/submission5/sakev-Network-Insilico/sakev-Network-Insilico'\n",
      "utilities.write_SIF_EDA(A, path)"
     ],
     "language": "python",
     "metadata": {},
     "outputs": [],
     "prompt_number": 126
    },
    {
     "cell_type": "code",
     "collapsed": false,
     "input": [
      "tp = range(120)\n",
      "#tp = [0,1,2,4,6,10,15,30,45,60,120]\n",
      "A_true,TC_egf = synthetic.gen_xu(tp, EGF=1000, Gap=10, Cilostamide=10, EPACA=10, PKAA=10)\n",
      "A_true,TC_gap = synthetic.gen_xu(tp, EGF=10, Gap=1000, Cilostamide=10, EPACA=10, PKAA=10)\n",
      "A_true,TC_cilostamide = synthetic.gen_xu(tp, EGF=10, Gap=10, Cilostamide=1000, EPACA=10, PKAA=10)\n",
      "A_true,TC_epaca = synthetic.gen_xu(tp, EGF=10, Gap=10, Cilostamide=10, EPACA=1000, PKAA=10)\n",
      "A_true,TC_pkaa = synthetic.gen_xu(tp, EGF=10, Gap=10, Cilostamide=10, EPACA=10, PKAA=1000)\n",
      "TC = pd.concat((TC_egf, TC_gap, TC_cilostamide, TC_epaca, TC_pkaa))\n",
      "td_xu = utilities.prepare_markov_data(TC, 'level', True)\n",
      "X_xu = td_xu['all_stimuli'][0].values\n",
      "Y_xu = td_xu['all_stimuli'][1].values\n",
      "antibodies_xu = td_xu['all_stimuli'][0].columns"
     ],
     "language": "python",
     "metadata": {},
     "outputs": [],
     "prompt_number": 237
    },
    {
     "cell_type": "code",
     "collapsed": false,
     "input": [],
     "language": "python",
     "metadata": {},
     "outputs": []
    }
   ],
   "metadata": {}
  }
 ]
}