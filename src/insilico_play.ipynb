{
 "metadata": {
  "name": ""
 },
 "nbformat": 3,
 "nbformat_minor": 0,
 "worksheets": [
  {
   "cells": [
    {
     "cell_type": "code",
     "collapsed": false,
     "input": [
      "import os\n",
      "import pandas as pd\n",
      "import numpy as np\n",
      "from scipy.io import savemat\n",
      "import matplotlib.gridspec as gridspec\n",
      "\n",
      "projPath = '/Users/kje/work/proj/DREAM8/'\n",
      "\n",
      "df = {}\n",
      "edf = {}\n",
      "df['insilico'] = pd.read_csv(projPath+'data/insilico/CSV/insilico.csv', header=0)\n",
      "edf['BT20'] = pd.read_csv(projPath+'data/experimental/CSV/kje_csv/BT20_main.kje.clean.csv', header=0)"
     ],
     "language": "python",
     "metadata": {},
     "outputs": [],
     "prompt_number": 1
    },
    {
     "cell_type": "code",
     "collapsed": false,
     "input": [
      "#\n",
      "# plots\n",
      "#\n",
      "\n",
      "for ab in df.columns[4:]:\n",
      "    print ab\n",
      "    figure(figsize=(11,8.5))\n",
      "    gs = gridspec.GridSpec(2, 2)\n",
      "    gs.update(wspace=0.2, hspace=0.3)\n",
      "    \n",
      "    ligset = ['loLIG1+noLIG2', 'hiLIG1+noLIG2', 'noLIG1+loLIG2', 'noLIG1+hiLIG2']\n",
      "    ax = {}\n",
      "    \n",
      "    for idx, ligpair in enumerate(ligset):\n",
      "        g_x = divide(idx, 2)\n",
      "        g_y = mod(idx, 2)\n",
      "        ax[idx] = subplot(gs[g_x, g_y])\n",
      "        for key in ['None', 'INH1', 'INH2', 'INH3']:\n",
      "            x = df[(df['Stimulus']==ligpair) & (df['Inhibitor']==key)].groupby('Timepoint').mean()[ab].index\n",
      "            y = df[(df['Stimulus']==ligpair) & (df['Inhibitor']==key)].groupby('Timepoint').mean()[ab]\n",
      "            yerr = df[(df['Stimulus']==ligpair) & (df['Inhibitor']==key)].groupby('Timepoint').std()[ab]\n",
      "            errorbar(x, y, yerr=yerr, label=key, linewidth=2, linestyle='-', marker='o')\n",
      "            #df[(df['Stimulus']==ligpair) & (df['Inhibitor']==key)].groupby('Timepoint').mean()[ab].plot(label=key, linewidth=2, linestyle='-', marker='o')\n",
      "        legend(fontsize='small', numpoints=1)\n",
      "        xlim((0, 15))\n",
      "        xlabel('time (min)')\n",
      "        title(ligpair)\n",
      "    suptitle(ab, fontsize='xx-large', weight='bold')\n",
      "    savefig(ab+'-15.pdf', format='pdf', orientation='landscape')\n",
      "    close()"
     ],
     "language": "python",
     "metadata": {},
     "outputs": [
      {
       "output_type": "stream",
       "stream": "stdout",
       "text": [
        "AB01\n",
        "AB02"
       ]
      },
      {
       "output_type": "stream",
       "stream": "stdout",
       "text": [
        "\n",
        "AB03"
       ]
      },
      {
       "output_type": "stream",
       "stream": "stdout",
       "text": [
        "\n",
        "AB04"
       ]
      },
      {
       "output_type": "stream",
       "stream": "stdout",
       "text": [
        "\n",
        "AB05"
       ]
      },
      {
       "output_type": "stream",
       "stream": "stdout",
       "text": [
        "\n",
        "AB06"
       ]
      },
      {
       "output_type": "stream",
       "stream": "stdout",
       "text": [
        "\n",
        "AB07"
       ]
      },
      {
       "output_type": "stream",
       "stream": "stdout",
       "text": [
        "\n",
        "AB08"
       ]
      },
      {
       "output_type": "stream",
       "stream": "stdout",
       "text": [
        "\n",
        "AB09"
       ]
      },
      {
       "output_type": "stream",
       "stream": "stdout",
       "text": [
        "\n",
        "AB10"
       ]
      },
      {
       "output_type": "stream",
       "stream": "stdout",
       "text": [
        "\n",
        "AB11"
       ]
      },
      {
       "output_type": "stream",
       "stream": "stdout",
       "text": [
        "\n",
        "AB12"
       ]
      },
      {
       "output_type": "stream",
       "stream": "stdout",
       "text": [
        "\n",
        "AB13"
       ]
      },
      {
       "output_type": "stream",
       "stream": "stdout",
       "text": [
        "\n",
        "AB14"
       ]
      },
      {
       "output_type": "stream",
       "stream": "stdout",
       "text": [
        "\n",
        "AB15"
       ]
      },
      {
       "output_type": "stream",
       "stream": "stdout",
       "text": [
        "\n",
        "AB16"
       ]
      },
      {
       "output_type": "stream",
       "stream": "stdout",
       "text": [
        "\n",
        "AB17"
       ]
      },
      {
       "output_type": "stream",
       "stream": "stdout",
       "text": [
        "\n",
        "AB18"
       ]
      },
      {
       "output_type": "stream",
       "stream": "stdout",
       "text": [
        "\n",
        "AB19"
       ]
      },
      {
       "output_type": "stream",
       "stream": "stdout",
       "text": [
        "\n",
        "AB20"
       ]
      },
      {
       "output_type": "stream",
       "stream": "stdout",
       "text": [
        "\n"
       ]
      }
     ],
     "prompt_number": 235
    },
    {
     "cell_type": "code",
     "collapsed": false,
     "input": [
      "#\n",
      "# plots\n",
      "#\n",
      "\n",
      "def chunks(l, n):\n",
      "    return [l[i:i+n] for i in range(0, len(l), n)]\n",
      "\n",
      "l = df.columns[4:]\n",
      "chunklist = chunks(l, 4)\n",
      "    \n",
      "for cid, chunk in enumerate(chunklist):\n",
      "    print chunk\n",
      "    figure(figsize=(11,8.5))\n",
      "    gs = gridspec.GridSpec(2, 2)\n",
      "    gs.update(wspace=0.2, hspace=0.3)\n",
      "    ax = {}\n",
      "    for idx, ab in enumerate(chunk):\n",
      "        g_x = divide(idx, 2)\n",
      "        g_y = mod(idx, 2)\n",
      "        ax[idx] = subplot(gs[g_x, g_y])  \n",
      "        for ligpair in set(df['Stimulus']):\n",
      "            #pdb.set_trace()\n",
      "            x = df[(df['Stimulus']==ligpair) & (df['Inhibitor']=='None') & (df['Timepoint']<20)].groupby('Timepoint').mean()[ab].index\n",
      "            y = df[(df['Stimulus']==ligpair) & (df['Inhibitor']=='None') & (df['Timepoint']<20)].groupby('Timepoint').mean()[ab]\n",
      "            yerr = df[(df['Stimulus']==ligpair) & (df['Inhibitor']=='None') & (df['Timepoint']<20)].groupby('Timepoint').std()[ab]\n",
      "            errorbar(x, y, yerr=yerr, label=ligpair, linewidth=2, linestyle='-', marker='o')\n",
      "        legend(fontsize='small', numpoints=1)\n",
      "        title(ab)\n",
      "        xlabel('time (min)')\n",
      "        xlim((0, 15))\n",
      "    savefig('chunk'+str(cid)+'-15.pdf', format='pdf', orientation='landscape')\n",
      "    close()"
     ],
     "language": "python",
     "metadata": {},
     "outputs": [
      {
       "output_type": "stream",
       "stream": "stdout",
       "text": [
        "Index([u'AB01', u'AB02', u'AB03', u'AB04'], dtype=object)\n",
        "Index([u'AB05', u'AB06', u'AB07', u'AB08'], dtype=object)"
       ]
      },
      {
       "output_type": "stream",
       "stream": "stdout",
       "text": [
        "\n",
        "Index([u'AB09', u'AB10', u'AB11', u'AB12'], dtype=object)"
       ]
      },
      {
       "output_type": "stream",
       "stream": "stdout",
       "text": [
        "\n",
        "Index([u'AB13', u'AB14', u'AB15', u'AB16'], dtype=object)"
       ]
      },
      {
       "output_type": "stream",
       "stream": "stdout",
       "text": [
        "\n",
        "Index([u'AB17', u'AB18', u'AB19', u'AB20'], dtype=object)"
       ]
      },
      {
       "output_type": "stream",
       "stream": "stdout",
       "text": [
        "\n"
       ]
      }
     ],
     "prompt_number": 15
    },
    {
     "cell_type": "code",
     "collapsed": false,
     "input": [
      "#\n",
      "# plots\n",
      "#\n",
      "\n",
      "stim = 'Serum'\n",
      "prot = edf.columns[4:][0]\n",
      "inhib = 'DMSO'\n",
      "\n",
      "ax = {}\n",
      "\n",
      "for prot in set(edf.columns[4:]):\n",
      "    print prot\n",
      "    \n",
      "    figure(figsize=(8.5,11))\n",
      "    gs = gridspec.GridSpec(4, 2)\n",
      "    gs.update(wspace=0.2, hspace=0.3)\n",
      "\n",
      "    for sidx, stim in enumerate(set(edf['Stimulus'])):\n",
      "        \n",
      "        g_x = divide(sidx, 2)\n",
      "        g_y = mod(sidx, 2)\n",
      "        ax[idx] = subplot(gs[g_x, g_y])  \n",
      "        \n",
      "        for inhib in set(edf['Inhibitor']):\n",
      "            x = edf[(edf['Stimulus']==stim) & (edf['Inhibitor']==inhib)].groupby('Timepoint').mean()[prot].index\n",
      "            y = edf[(edf['Stimulus']==stim) & (edf['Inhibitor']==inhib)].groupby('Timepoint').mean()[prot]\n",
      "            yerr = edf[(edf['Stimulus']==stim) & (edf['Inhibitor']==inhib)].groupby('Timepoint').std()[prot]\n",
      "            errorbar(x, y, yerr=yerr, label=inhib, linewidth=2, linestyle='-', marker='o')\n",
      "        legend(fontsize='xx-small', numpoints=1)\n",
      "        #xlabel('time (min)')\n",
      "        title(stim)\n",
      "    suptitle(prot, fontsize='xx-large', weight='bold')\n",
      "    savefig('./fig/exp/'+prot+'.pdf', format='pdf')\n",
      "    close()"
     ],
     "language": "python",
     "metadata": {},
     "outputs": [
      {
       "output_type": "stream",
       "stream": "stdout",
       "text": [
        "ERBB3_pY1298\n",
        "RPS6_pS240_S244"
       ]
      },
      {
       "output_type": "stream",
       "stream": "stdout",
       "text": [
        "\n",
        "SRC_pY527"
       ]
      },
      {
       "output_type": "stream",
       "stream": "stdout",
       "text": [
        "\n",
        "MTOR_pS2448"
       ]
      },
      {
       "output_type": "stream",
       "stream": "stdout",
       "text": [
        "\n",
        "MET_pY1235"
       ]
      },
      {
       "output_type": "stream",
       "stream": "stdout",
       "text": [
        "\n",
        "GSK3A_pS9_pS21.GSK3B_pS9_pS21"
       ]
      },
      {
       "output_type": "stream",
       "stream": "stdout",
       "text": [
        "\n",
        "AKT1S1_pT246"
       ]
      },
      {
       "output_type": "stream",
       "stream": "stdout",
       "text": [
        "\n",
        "RICTOR_pT1135"
       ]
      },
      {
       "output_type": "stream",
       "stream": "stdout",
       "text": [
        "\n",
        "BAD_pS112"
       ]
      },
      {
       "output_type": "stream",
       "stream": "stdout",
       "text": [
        "\n",
        "YBX1_PS102"
       ]
      },
      {
       "output_type": "stream",
       "stream": "stdout",
       "text": [
        "\n",
        "CHEK1_pS345"
       ]
      },
      {
       "output_type": "stream",
       "stream": "stdout",
       "text": [
        "\n",
        "EIF4EBP1_pS65"
       ]
      },
      {
       "output_type": "stream",
       "stream": "stdout",
       "text": [
        "\n",
        "MAP2K1_pS217_S221"
       ]
      },
      {
       "output_type": "stream",
       "stream": "stdout",
       "text": [
        "\n",
        "CHEK2_pT68"
       ]
      },
      {
       "output_type": "stream",
       "stream": "stdout",
       "text": [
        "\n",
        "ACACA_pS79.ACACB_pS79"
       ]
      },
      {
       "output_type": "stream",
       "stream": "stdout",
       "text": [
        "\n",
        "WWTR1_pS89"
       ]
      },
      {
       "output_type": "stream",
       "stream": "stdout",
       "text": [
        "\n",
        "RPS6KB1_pT389"
       ]
      },
      {
       "output_type": "stream",
       "stream": "stdout",
       "text": [
        "\n",
        "PRKAA1_pT172.PRKAA2_pT172"
       ]
      },
      {
       "output_type": "stream",
       "stream": "stdout",
       "text": [
        "\n",
        "ESR1_pS118"
       ]
      },
      {
       "output_type": "stream",
       "stream": "stdout",
       "text": [
        "\n",
        "MAPK8_pT183_pT185"
       ]
      },
      {
       "output_type": "stream",
       "stream": "stdout",
       "text": [
        "\n",
        "EGFR_pY1173"
       ]
      },
      {
       "output_type": "stream",
       "stream": "stdout",
       "text": [
        "\n",
        "AKT1_pT308.AKT2_pT308.AKT3_pT308"
       ]
      },
      {
       "output_type": "stream",
       "stream": "stdout",
       "text": [
        "\n",
        "EIF4EBP1_pT37_pT46"
       ]
      },
      {
       "output_type": "stream",
       "stream": "stdout",
       "text": [
        "\n",
        "YAP1_pS127"
       ]
      },
      {
       "output_type": "stream",
       "stream": "stdout",
       "text": [
        "\n",
        "EGFR_pY992"
       ]
      },
      {
       "output_type": "stream",
       "stream": "stdout",
       "text": [
        "\n",
        "STAT3_pY705"
       ]
      },
      {
       "output_type": "stream",
       "stream": "stdout",
       "text": [
        "\n",
        "PRKCD"
       ]
      },
      {
       "output_type": "stream",
       "stream": "stdout",
       "text": [
        "\n",
        "NDRG1_pT346"
       ]
      },
      {
       "output_type": "stream",
       "stream": "stdout",
       "text": [
        "\n",
        "RAF1_pS338"
       ]
      },
      {
       "output_type": "stream",
       "stream": "stdout",
       "text": [
        "\n",
        "PRKCA_pS660.PRKCB_pS660.PRKCD_pS660.PRKCE_pS660.PRKCH_pS660.PRKCQ_pS660"
       ]
      },
      {
       "output_type": "stream",
       "stream": "stdout",
       "text": [
        "\n",
        "PEA15_pS116"
       ]
      },
      {
       "output_type": "stream",
       "stream": "stdout",
       "text": [
        "\n",
        "ERBB2_pY1248"
       ]
      },
      {
       "output_type": "stream",
       "stream": "stdout",
       "text": [
        "\n",
        "PDK1_pS241"
       ]
      },
      {
       "output_type": "stream",
       "stream": "stdout",
       "text": [
        "\n",
        "RPS6_pS235_S236"
       ]
      },
      {
       "output_type": "stream",
       "stream": "stdout",
       "text": [
        "\n",
        "RB1_pS807_S811"
       ]
      },
      {
       "output_type": "stream",
       "stream": "stdout",
       "text": [
        "\n",
        "FOXO3_pS318_pS321"
       ]
      },
      {
       "output_type": "stream",
       "stream": "stdout",
       "text": [
        "\n",
        "GSK3A_pS9.GSK3B_pS9"
       ]
      },
      {
       "output_type": "stream",
       "stream": "stdout",
       "text": [
        "\n",
        "CDKN1B_pT157"
       ]
      },
      {
       "output_type": "stream",
       "stream": "stdout",
       "text": [
        "\n",
        "MAPK14_pT180_Y182"
       ]
      },
      {
       "output_type": "stream",
       "stream": "stdout",
       "text": [
        "\n",
        "RPS6KA1_pT359_S363"
       ]
      },
      {
       "output_type": "stream",
       "stream": "stdout",
       "text": [
        "\n",
        "MAPK1_pT202_Y204.MAPK3_pT202_Y204"
       ]
      },
      {
       "output_type": "stream",
       "stream": "stdout",
       "text": [
        "\n",
        "CDKN1B_pT198"
       ]
      },
      {
       "output_type": "stream",
       "stream": "stdout",
       "text": [
        "\n",
        "JUN_pS73"
       ]
      },
      {
       "output_type": "stream",
       "stream": "stdout",
       "text": [
        "\n",
        "PRKCA_pS657"
       ]
      },
      {
       "output_type": "stream",
       "stream": "stdout",
       "text": [
        "\n",
        "AKT1_pS473.AKT2_pS473.AKT3_pS473"
       ]
      },
      {
       "output_type": "stream",
       "stream": "stdout",
       "text": [
        "\n",
        "EGFR_pY1068"
       ]
      },
      {
       "output_type": "stream",
       "stream": "stdout",
       "text": [
        "\n",
        "RELA_p65_pS536"
       ]
      },
      {
       "output_type": "stream",
       "stream": "stdout",
       "text": [
        "\n",
        "SRC_pY416"
       ]
      },
      {
       "output_type": "stream",
       "stream": "stdout",
       "text": [
        "\n"
       ]
      }
     ],
     "prompt_number": 282
    },
    {
     "cell_type": "code",
     "collapsed": false,
     "input": [
      "###################################\n",
      "# save insilico in matlab format #\n",
      "###################################\n",
      "dat = {}\n",
      "for inhib in set(df['Inhibitor']):\n",
      "    print inhib\n",
      "    dat[inhib] = np.zeros((20, 11, len(set(df[df['Inhibitor']==inhib]['Stimulus']))))\n",
      "    for sidx,stim in enumerate(set(df[df['Inhibitor']==inhib]['Stimulus'])):\n",
      "        #print sidx, stim\n",
      "        dat[inhib][:, :, sidx] = df[(df['Inhibitor']==inhib) & (df['Stimulus']==stim)].groupby('Timepoint').mean().T\n",
      "    \n",
      "savemat('insilico_for_DBN.mat', dict((inhib, dat[inhib]) for inhib in set(df['Inhibitor'])))"
     ],
     "language": "python",
     "metadata": {},
     "outputs": [
      {
       "output_type": "stream",
       "stream": "stdout",
       "text": [
        "INH1\n",
        "None\n",
        "INH2\n",
        "INH3"
       ]
      },
      {
       "output_type": "stream",
       "stream": "stdout",
       "text": [
        "\n"
       ]
      }
     ],
     "prompt_number": 309
    }
   ],
   "metadata": {}
  }
 ]
}