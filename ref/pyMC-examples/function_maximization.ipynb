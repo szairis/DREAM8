{
 "metadata": {
  "name": "function_maximization"
 },
 "nbformat": 3,
 "worksheets": [
  {
   "cells": [
    {
     "cell_type": "markdown",
     "source": [
      "Optimization with PyMC/Python",
      "=============================",
      "",
      "This notebook demonstrates how to do continuous optimization with PyMC,",
      "the pymc.MAP class, and the pymc.MAP.fit method."
     ]
    },
    {
     "cell_type": "code",
     "collapsed": true,
     "input": [
      "import pylab as pl",
      "import pymc as mc",
      "import scipy.optimize"
     ],
     "language": "python",
     "outputs": [],
     "prompt_number": 1
    },
    {
     "cell_type": "markdown",
     "source": [
      "Powell's Method",
      "===============",
      "",
      "This method has worked very well for me in practice, and is reasonably simple theoretically.",
      "It was introduced by MJD Powell, in the 1964 paper \"An efficient method for finding the minimum",
      "of a function of several variables without calculating derivatives\", The Computer Journal (1964) 7 (2): 155-162."
     ]
    },
    {
     "cell_type": "markdown",
     "source": [
      "In Section 7, of Powell's 1964 paper, there is an example application of",
      "his method to a function of three variables:",
      "",
      "$$",
      "f = \\frac{1}{1+(x-y)^2}",
      "+ \\sin\\left(\\frac12 \\pi yz\\right)",
      "+ \\exp\\left(",
      "-\\left(\\frac{x+z}{y}-2\\right)^2",
      "\\right)",
      "$$",
      "",
      "Replicating this is where I will begin."
     ]
    },
    {
     "cell_type": "code",
     "collapsed": true,
     "input": [
      "def f(x, y, z):",
      "    result = 0",
      "    result += 1 / (1 + (x - y)**2)",
      "    result += pl.sin(.5 * pl.pi * y * z)",
      "    result += pl.exp(-((x + z) / y - 2)**2)",
      "    return result"
     ],
     "language": "python",
     "outputs": [],
     "prompt_number": 2
    },
    {
     "cell_type": "code",
     "collapsed": false,
     "input": [
      "xx = pl.arange(-6,12,.01)",
      "for i, y in enumerate([-1., 1., 2.]):",
      "    for j, z in enumerate([0., 1., 2.]):",
      "        yy = [f(x,y,z) for x in xx]",
      "",
      "        pl.plot(xx, yy,",
      "             label='y=%.0f, z=%.0f'%(y,z),",
      "             linestyle=['--', '-', ':'][i],",
      "             color='krg'[j], ",
      "             linewidth=2)",
      "pl.xlabel('x')",
      "pl.ylabel('f(x,y,z)', rotation='horizontal')",
      "pl.legend(loc='lower right')"
     ],
     "language": "python",
     "outputs": [],
     "prompt_number": 3
    },
    {
     "cell_type": "markdown",
     "source": [
      "Here is a (tiny) PyMC model with MAP values corresponding to f.",
      "Using PyMC to optimize $f$ isn't necessary, but it is convenient."
     ]
    },
    {
     "cell_type": "code",
     "collapsed": true,
     "input": [
      "X = mc.Uninformative('X', value=[0., 1., 2.])",
      "@mc.potential",
      "def objective(X=X):",
      "    return f(*X)"
     ],
     "language": "python",
     "outputs": [],
     "prompt_number": 4
    },
    {
     "cell_type": "code",
     "collapsed": true,
     "input": [
      "map = mc.MAP([X, objective])"
     ],
     "language": "python",
     "outputs": [],
     "prompt_number": 5
    },
    {
     "cell_type": "code",
     "collapsed": true,
     "input": [
      "map.fit(method='fmin_powell')"
     ],
     "language": "python",
     "outputs": [],
     "prompt_number": 6
    },
    {
     "cell_type": "code",
     "collapsed": false,
     "input": [
      "X.value, objective.logp"
     ],
     "language": "python",
     "outputs": [],
     "prompt_number": 7
    },
    {
     "cell_type": "markdown",
     "source": [
      "And here is what it is doing, when it does that:"
     ]
    },
    {
     "cell_type": "code",
     "collapsed": true,
     "input": [
      "def fit_for(iterlim=1, initial_value=[0., 1., 2.], method='fmin_powell'):",
      "    X = mc.Uninformative('X', value=initial_value)",
      "    @mc.potential",
      "    def objective(X=X):",
      "        return f(*X)",
      "    ",
      "    map = mc.MAP([X, objective])",
      "    map.fit(method=method, iterlim=iterlim)",
      "    return dict(X=X.value, objective=objective.logp)"
     ],
     "language": "python",
     "outputs": [],
     "prompt_number": 8
    },
    {
     "cell_type": "code",
     "collapsed": true,
     "input": [
      "results = []",
      "for i in range(10):",
      "    results.append(fit_for(i))"
     ],
     "language": "python",
     "outputs": [],
     "prompt_number": 9
    },
    {
     "cell_type": "code",
     "collapsed": false,
     "input": [
      "def plot_result(results):",
      "    pl.figure(figsize=(4.25, 11))",
      "    pl.subplots_adjust(hspace=0)",
      "    for j in range(3):",
      "        pl.subplot(4,1,j+1)",
      "        pl.plot([r_i['X'][j] for r_i in results], 'sk-', mec='w')",
      "        pl.ylabel('xyz'[j], rotation=0)",
      "        pl.xticks([])",
      "        pl.yticks([0,.5,1, 1.5, 2.])",
      "        pl.axis([-.05*len(results), 1.05*len(results), -.25, 2.25])",
      "        ",
      "    pl.subplot(4,1,4)",
      "    pl.plot([r_i['objective'] for r_i in results], 'sk-', mec='w')",
      "    pl.ylabel('f(x,y,z)', rotation=0)",
      "    pl.yticks([0,.5,1, 1.5, 2., 2.5, 3.])",
      "    pl.axis([-.05*len(results), 1.05*len(results), -.25, 3.25])",
      "    pl.xlabel('iterations')",
      "",
      "plot_result(results)"
     ],
     "language": "python",
     "outputs": [],
     "prompt_number": 10
    },
    {
     "cell_type": "markdown",
     "source": [
      "It is lovely that this takes 6 iterations to converge, just like the example in Powell's paper."
     ]
    },
    {
     "cell_type": "markdown",
     "source": [
      "What about the same thing for different initial values?"
     ]
    },
    {
     "cell_type": "code",
     "collapsed": false,
     "input": [
      "result = []",
      "for i in range(10):",
      "    result.append(fit_for(i, initial_value=[0., 0., 1.]))",
      "",
      "plot_result(result)"
     ],
     "language": "python",
     "outputs": [],
     "prompt_number": 11
    },
    {
     "cell_type": "markdown",
     "source": [
      "That only took 5 iterations."
     ]
    },
    {
     "cell_type": "markdown",
     "source": [
      "Here is one that Powell's gets to a global optimum, but Nelder-Mead does not."
     ]
    },
    {
     "cell_type": "code",
     "collapsed": false,
     "input": [
      "result = []",
      "for i in range(10):",
      "    result.append(fit_for(i, initial_value=[0., 1., 0.], method='fmin'))",
      "",
      "plot_result(result)"
     ],
     "language": "python",
     "outputs": [],
     "prompt_number": 12
    },
    {
     "cell_type": "markdown",
     "source": [
      "Other methods",
      "=============",
      "",
      "PyMC provides access to several algorithms in <code>scipy.optimize</code> besides Powell's method.",
      "",
      "Here are a few to compare:"
     ]
    },
    {
     "cell_type": "code",
     "collapsed": false,
     "input": [
      "result = []",
      "for i in range(10):",
      "    result.append(fit_for(i, initial_value=[0., 1., 2.], method='fmin_l_bfgs_b'))",
      "",
      "plot_result(result)"
     ],
     "language": "python",
     "outputs": [],
     "prompt_number": 13
    },
    {
     "cell_type": "code",
     "collapsed": false,
     "input": [
      "result = []",
      "for i in range(10):",
      "    result.append(fit_for(i, initial_value=[0., 1., 2.], method='fmin_ncg'))",
      "",
      "plot_result(result)"
     ],
     "language": "python",
     "outputs": [],
     "prompt_number": 14
    },
    {
     "cell_type": "code",
     "collapsed": false,
     "input": [
      "result = []",
      "for i in range(10):",
      "    result.append(fit_for(i, initial_value=[0., 1., 2.], method='fmin_cg'))",
      "",
      "plot_result(result)"
     ],
     "language": "python",
     "outputs": [],
     "prompt_number": 15
    },
    {
     "cell_type": "code",
     "collapsed": false,
     "input": [
      "result = []",
      "for i in range(20):",
      "    result.append(fit_for(i, initial_value=[0., 1., 2.], method='fmin'))",
      "",
      "plot_result(result)"
     ],
     "language": "python",
     "outputs": [],
     "prompt_number": 16
    },
    {
     "cell_type": "code",
     "collapsed": true,
     "input": [
      "pl.show()"
     ],
     "language": "python",
     "outputs": [],
     "prompt_number": 17
    },
    {
     "cell_type": "code",
     "collapsed": true,
     "input": [],
     "language": "python",
     "outputs": [],
     "prompt_number": "&nbsp;"
    }
   ]
  }
 ]
}